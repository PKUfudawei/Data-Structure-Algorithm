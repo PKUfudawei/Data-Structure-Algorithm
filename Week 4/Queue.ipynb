{
 "cells": [
  {
   "cell_type": "code",
   "execution_count": 7,
   "metadata": {},
   "outputs": [],
   "source": [
    "class Queue:\n",
    "    def __init__(self):\n",
    "        self.items = []\n",
    "    \n",
    "    def isEmpty(self):\n",
    "        return self.items == []\n",
    "\n",
    "    def enqueue(self, item):\n",
    "        return self.items.insert(0, item)\n",
    "\n",
    "    def dequeuqe(self):\n",
    "        return self.items.pop()\n",
    "\n",
    "    def size(self):\n",
    "        return len(self.items)"
   ]
  },
  {
   "cell_type": "code",
   "execution_count": 10,
   "metadata": {},
   "outputs": [],
   "source": [
    "def hotPotato(namelist, passing_number):\n",
    "    q = Queue()\n",
    "    for name in namelist:\n",
    "        q.enqueue(name)\n",
    "\n",
    "    while q.size()>1:\n",
    "        for i in range(passing_number):\n",
    "            q.enqueue(q.dequeuqe())\n",
    "\n",
    "        q.dequeuqe()\n",
    "\n",
    "    return q.dequeuqe()\n"
   ]
  },
  {
   "cell_type": "code",
   "execution_count": 11,
   "metadata": {},
   "outputs": [
    {
     "data": {
      "text/plain": [
       "'Susan'"
      ]
     },
     "execution_count": 11,
     "metadata": {},
     "output_type": "execute_result"
    }
   ],
   "source": [
    "passenger=\"Bill,David,Susan,Jane,Kent,Brad\"\n",
    "passenger.split(\",\")\n",
    "hotPotato(passenger.split(\",\"), passing_number=7)"
   ]
  },
  {
   "cell_type": "code",
   "execution_count": 15,
   "metadata": {},
   "outputs": [],
   "source": [
    "import random as rd\n",
    "\n",
    "class Task:\n",
    "    def __init__(self, time) -> None:\n",
    "        self.timeStamp = time\n",
    "        self.pages = rd.randrange(1, 21)\n",
    "\n",
    "    def getStamp(self):\n",
    "        return self.timeStamp\n",
    "\n",
    "    def getPages(self):\n",
    "        return self.pages\n",
    "    \n",
    "    def waitingTime(self, currentTime):\n",
    "        return currentTime - self.timeStamp\n",
    "\n",
    "\n",
    "\n",
    "class Printer:\n",
    "    def __init__(self, pagesPerMinute) -> None:\n",
    "        self.printingSpeed=pagesPerMinute\n",
    "        self.currentTask=None\n",
    "        self.timeRemaining = 0      ## unit is second\n",
    "\n",
    "    def tick(self): ## means passing 1 second\n",
    "        if self.currentTask != None:\n",
    "            self.timeRemaining = self.timeRemaining - 1\n",
    "        if self.timeRemaining <= 0:\n",
    "            self.currentTask = None\n",
    "    \n",
    "    def busy(self):\n",
    "        if self.currentTask != None:\n",
    "            return True\n",
    "        else:\n",
    "            return False\n",
    "    \n",
    "    def startNext(self, newTask):\n",
    "        self.currentTask = newTask\n",
    "        self.timeRemaining = newTask.getPages()/self.printingSpeed * 60\n",
    "\n",
    "def generatingTask():\n",
    "    luck = rd.randrange(1, 181)\n",
    "    if luck == 180:\n",
    "        return True\n",
    "    else:\n",
    "        return False\n",
    "        "
   ]
  },
  {
   "cell_type": "code",
   "execution_count": 19,
   "metadata": {},
   "outputs": [],
   "source": [
    "def simulation(totalTime, pagesPerMinute):\n",
    "    labPrinter = Printer(pagesPerMinute)\n",
    "    taskQueue = Queue()\n",
    "    waitingTime = []\n",
    "\n",
    "    for i in range(totalTime):\n",
    "        if generatingTask():\n",
    "            newTask = Task(time=i)\n",
    "            taskQueue.enqueue(newTask)\n",
    "        \n",
    "        if (not labPrinter.busy()) and (not taskQueue.isEmpty()):\n",
    "            nextTask=taskQueue.dequeuqe()\n",
    "            labPrinter.startNext(nextTask)\n",
    "            waitingTime.append(newTask.waitingTime(currentTime=i))\n",
    "\n",
    "        labPrinter.tick()\n",
    "\n",
    "    averageWaitingTime=sum(waitingTime)/len(waitingTime)\n",
    "    print(\"Average waiting time for each task is %.2f seconds, and now there are %d tasks remaining\"%(averageWaitingTime, taskQueue.size()))\n"
   ]
  },
  {
   "cell_type": "code",
   "execution_count": 20,
   "metadata": {},
   "outputs": [
    {
     "name": "stdout",
     "output_type": "stream",
     "text": [
      "Average waiting time for each task is 67.50 seconds, and now there are 2 tasks remaining\n",
      "Average waiting time for each task is 31.05 seconds, and now there are 0 tasks remaining\n",
      "Average waiting time for each task is 16.07 seconds, and now there are 0 tasks remaining\n",
      "Average waiting time for each task is 21.73 seconds, and now there are 0 tasks remaining\n",
      "Average waiting time for each task is 79.40 seconds, and now there are 0 tasks remaining\n",
      "Average waiting time for each task is 82.56 seconds, and now there are 2 tasks remaining\n",
      "Average waiting time for each task is 39.14 seconds, and now there are 2 tasks remaining\n",
      "Average waiting time for each task is 104.81 seconds, and now there are 2 tasks remaining\n",
      "Average waiting time for each task is 55.71 seconds, and now there are 0 tasks remaining\n",
      "Average waiting time for each task is 69.29 seconds, and now there are 3 tasks remaining\n"
     ]
    }
   ],
   "source": [
    "for i in range(10):\n",
    "    simulation(pagesPerMinute=5, totalTime=3600)"
   ]
  },
  {
   "cell_type": "code",
   "execution_count": 21,
   "metadata": {},
   "outputs": [],
   "source": [
    "class Deque:\n",
    "    def __init__(self) -> None:\n",
    "        self.items=[]\n",
    "\n",
    "    def isEmpty(self):\n",
    "        return self.items == []\n",
    "\n",
    "    def addFront(self, item):\n",
    "        self.items.append(item)\n",
    "\n",
    "    def addRear(self, item):\n",
    "        self.items.insert(0, item)\n",
    "\n",
    "    def removeFront(self):\n",
    "        return self.items.pop()\n",
    "\n",
    "    def removeRear(self):\n",
    "        return self.items.pop(0)\n",
    "\n",
    "    def size(self):\n",
    "        return len(self.items)"
   ]
  },
  {
   "cell_type": "code",
   "execution_count": 50,
   "metadata": {},
   "outputs": [],
   "source": [
    "def palindromeValidation(str):\n",
    "    char_deque=Deque()\n",
    "    for char in str:\n",
    "        char_deque.addFront(char)\n",
    "\n",
    "    Valid = True\n",
    "    while char_deque.size()>1 and Valid:\n",
    "        first = char_deque.removeFront()\n",
    "        last = char_deque.removeRear()\n",
    "        \n",
    "        if first != last:\n",
    "            Valid = False\n",
    "\n",
    "    return Valid\n"
   ]
  },
  {
   "cell_type": "code",
   "execution_count": null,
   "metadata": {},
   "outputs": [],
   "source": []
  }
 ],
 "metadata": {
  "interpreter": {
   "hash": "cccc6b24c42b92f0f5397c28f29e0b94ee4e833e31f323dd2f4eab36a0e1136b"
  },
  "kernelspec": {
   "display_name": "Python 3.9.9 ('base')",
   "language": "python",
   "name": "python3"
  },
  "language_info": {
   "codemirror_mode": {
    "name": "ipython",
    "version": 3
   },
   "file_extension": ".py",
   "mimetype": "text/x-python",
   "name": "python",
   "nbconvert_exporter": "python",
   "pygments_lexer": "ipython3",
   "version": "3.9.9"
  },
  "orig_nbformat": 4
 },
 "nbformat": 4,
 "nbformat_minor": 2
}
