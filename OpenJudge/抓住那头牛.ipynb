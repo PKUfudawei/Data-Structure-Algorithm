{
 "cells": [
  {
   "cell_type": "code",
   "execution_count": null,
   "metadata": {},
   "outputs": [],
   "source": [
    "def driver():   \n",
    "    frontier=[]\n",
    "    visited=set()\n",
    "    steps={}\n",
    "    parent={}\n",
    "\n",
    "    def bfs(start, end):\n",
    "        nonlocal frontier, visited, steps, parent\n",
    "        visited.add(start)\n",
    "        frontier.append(start)\n",
    "        steps[start]=0\n",
    "        parent[start]=None\n",
    "        \n",
    "        while frontier:\n",
    "            new=frontier.pop(0)\n",
    "            if new==end:\n",
    "                return steps[new]\n",
    "            for i in [new-1, new+1, 2*new]:\n",
    "                if i not in visited and 0<=i<=100000:\n",
    "                    visited.add(i)\n",
    "                    frontier.append(i)\n",
    "                    steps[i]=steps[new]+1\n",
    "                    parent[i]=new\n",
    "        return False\n",
    "                \n",
    "    N, K=map(int, input().split())\n",
    "    print(bfs(N, K))\n",
    "      \n",
    "driver()"
   ]
  }
 ],
 "metadata": {
  "language_info": {
   "name": "python"
  },
  "orig_nbformat": 4
 },
 "nbformat": 4,
 "nbformat_minor": 2
}
