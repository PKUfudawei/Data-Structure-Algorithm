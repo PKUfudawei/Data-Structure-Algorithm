{
 "cells": [
  {
   "cell_type": "code",
   "execution_count": 82,
   "metadata": {},
   "outputs": [
    {
     "name": "stdout",
     "output_type": "stream",
     "text": [
      "2(2(2+2(0))+2)+2(2(2+2(0)))+2(2)\n"
     ]
    }
   ],
   "source": [
    "def demicalToBinaryPowers(demical):\n",
    "    stack=[]\n",
    "    while demical>0:\n",
    "        stack.append(demical%2)\n",
    "        demical=demical//2\n",
    "        \n",
    "    used_powers=[]\n",
    "    power=len(stack)-1    \n",
    "    while len(stack)>0:\n",
    "        temp=stack.pop()\n",
    "        if temp==1:\n",
    "            used_powers.append(power)\n",
    "        power-=1\n",
    "    \n",
    "    return used_powers   \n",
    "\n",
    "def function(demical,output=[]):\n",
    "    binaryPowers=demicalToBinaryPowers(demical)\n",
    "    for i in range(len(binaryPowers)):\n",
    "        if i!=0:\n",
    "            output.append('+')\n",
    "        output.append('2')\n",
    "        output.append('(')\n",
    "        if binaryPowers[i]==0:\n",
    "            output.append('0')\n",
    "        elif binaryPowers[i]==1:\n",
    "            output.pop()\n",
    "            continue\n",
    "        else:\n",
    "            function(binaryPowers[i],output)\n",
    "        output.append(')')\n",
    "        \n",
    "    return output\n",
    "\n",
    "\n",
    "def driver():\n",
    "    print(''.join(function(int(input()))))\n",
    "\n",
    "driver()"
   ]
  },
  {
   "cell_type": "markdown",
   "metadata": {},
   "source": [
    "### Additional:"
   ]
  },
  {
   "cell_type": "code",
   "execution_count": null,
   "metadata": {},
   "outputs": [],
   "source": [
    "def demicalToBinary(demical):\n",
    "    binary=\"\"\n",
    "    stack=[]\n",
    "    while demical>0:\n",
    "        stack.append(str((demical%2)))\n",
    "        demical=demical//2\n",
    "    \n",
    "    while len(stack)>0:\n",
    "        binary+=stack.pop()\n",
    "    \n",
    "    return int(binary)\n",
    "\n",
    "demicalToBinary(64)"
   ]
  }
 ],
 "metadata": {
  "interpreter": {
   "hash": "cccc6b24c42b92f0f5397c28f29e0b94ee4e833e31f323dd2f4eab36a0e1136b"
  },
  "kernelspec": {
   "display_name": "Python 3.9.9 ('base')",
   "language": "python",
   "name": "python3"
  },
  "language_info": {
   "codemirror_mode": {
    "name": "ipython",
    "version": 3
   },
   "file_extension": ".py",
   "mimetype": "text/x-python",
   "name": "python",
   "nbconvert_exporter": "python",
   "pygments_lexer": "ipython3",
   "version": "3.9.9"
  },
  "orig_nbformat": 4
 },
 "nbformat": 4,
 "nbformat_minor": 2
}
