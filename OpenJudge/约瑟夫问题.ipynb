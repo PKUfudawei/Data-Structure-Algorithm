{
 "cells": [
  {
   "cell_type": "code",
   "execution_count": 1,
   "metadata": {},
   "outputs": [],
   "source": [
    "class LinkList:\n",
    "    class Node:\n",
    "        def __init__(self,data,p=None,n=None) -> None:\n",
    "            self.item=data\n",
    "            self.prev=p\n",
    "            self.next=n\n",
    "            \n",
    "        def getItem(self):\n",
    "            return self.item\n",
    "        \n",
    "        def getPrev(self):\n",
    "            return self.prev\n",
    "        \n",
    "        def getNext(self):\n",
    "            return self.next\n",
    "        \n",
    "        def setItem(self,data):\n",
    "            self.item=data\n",
    "\n",
    "        def setPrev(self,p):\n",
    "            self.prev=p\n",
    "            \n",
    "        def setNext(self,n):\n",
    "            self.next=n\n",
    "            \n",
    "    def __init__(self,initial_item=None) -> None:\n",
    "        if initial_item!=None:\n",
    "            node = LinkList.Node(initial_item)\n",
    "            self.head=self.tail=node\n",
    "            self.size=1\n",
    "        else:\n",
    "            self.head=self.tail=None\n",
    "            self.size=0\n",
    "    \n",
    "    def isEmpty(self):\n",
    "        return self.size==0\n",
    "    \n",
    "    def add(self,item):\n",
    "        node=LinkList.Node(item)\n",
    "        if self.isEmpty():\n",
    "            self.head=self.tail=node\n",
    "        else:\n",
    "            self.tail.next=node\n",
    "            node.prev=self.tail\n",
    "            self.tail=node"
   ]
  },
  {
   "cell_type": "code",
   "execution_count": 16,
   "metadata": {},
   "outputs": [
    {
     "data": {
      "text/plain": [
       "5"
      ]
     },
     "execution_count": 16,
     "metadata": {},
     "output_type": "execute_result"
    }
   ],
   "source": [
    "def joseph(m,roundList):\n",
    "    if len(roundList)==2:\n",
    "        return roundList[-1]\n",
    "    else:\n",
    "        remainder=m%(len(roundList)-1)\n",
    "        if remainder==0:\n",
    "            remainder=len(roundList)-1\n",
    "        newRoundList=[0]+roundList[remainder+1:]+roundList[1:remainder]\n",
    "        return joseph(m,roundList=newRoundList)\n",
    "\n",
    "\n",
    "def driver():\n",
    "    while True:\n",
    "        n,m=map(int, input().split())   \n",
    "        if n==0 and m==0:\n",
    "            break\n",
    "        print(joseph(m,roundList=[i for i in range(n+1)]))\n",
    "\n",
    "driver()"
   ]
  },
  {
   "cell_type": "code",
   "execution_count": null,
   "metadata": {},
   "outputs": [],
   "source": []
  }
 ],
 "metadata": {
  "interpreter": {
   "hash": "cccc6b24c42b92f0f5397c28f29e0b94ee4e833e31f323dd2f4eab36a0e1136b"
  },
  "kernelspec": {
   "display_name": "Python 3.9.9 ('base')",
   "language": "python",
   "name": "python3"
  },
  "language_info": {
   "codemirror_mode": {
    "name": "ipython",
    "version": 3
   },
   "file_extension": ".py",
   "mimetype": "text/x-python",
   "name": "python",
   "nbconvert_exporter": "python",
   "pygments_lexer": "ipython3",
   "version": "3.9.9"
  },
  "orig_nbformat": 4
 },
 "nbformat": 4,
 "nbformat_minor": 2
}
