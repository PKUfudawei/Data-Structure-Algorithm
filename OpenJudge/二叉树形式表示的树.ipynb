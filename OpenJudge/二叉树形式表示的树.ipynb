{
 "cells": [
  {
   "cell_type": "code",
   "execution_count": 38,
   "metadata": {},
   "outputs": [
    {
     "name": "stdout",
     "output_type": "stream",
     "text": [
      "ABECFGDHI\n",
      "EBFGCIHDA"
     ]
    }
   ],
   "source": [
    "class BinaryTree:\n",
    "\tdef __init__(self,data,left = None,right = None):\n",
    "\t\tself.data,self.left,self.right = data,left,right\n",
    "\tdef addLeft(self,tree):\n",
    "\t\tself.left = tree\n",
    "\tdef addRight(self,tree):\n",
    "\t\tself.right = tree\n",
    "\tdef preorderTravel(self,op):\n",
    "\t\top(self.data)\n",
    "\t\tif self.left:\n",
    "\t\t\tself.left.preorderTravel(op)\n",
    "\t\tif self.right:\n",
    "\t\t\tself.right.preorderTravel(op)\n",
    "\tdef inorderTravel(self,op):\n",
    "\t\tif self.left:\n",
    "\t\t\tself.left.inorderTravel(op)\n",
    "\t\top(self.data)\n",
    "\t\tif self.right:\n",
    "\t\t\tself.right.inorderTravel(op)\n",
    "\tdef postorderTravel(self,op):\n",
    "\t\tif self.left:\n",
    "\t\t\tself.left.postorderTravel(op)\n",
    "\t\tif self.right:\n",
    "\t\t\tself.right.postorderTravel(op)\n",
    "\t\top(self.data)\n",
    "\n",
    "nodes = []\n",
    "#nodes内容形如：[(0, 'A'), (1, 'B'), (2, 'E')......]\n",
    "nodesPtr = 0  #表示看到nodes里的第几行\n",
    "def buildTreeInBinary(level):\n",
    "#要求此函数返回一个BinaryTree对象\n",
    "    global nodes\n",
    "    global nodesPtr\n",
    "    bTree=BinaryTree(nodes[nodesPtr][1])\n",
    "    \n",
    "    while nodesPtr<len(nodes):\n",
    "        if nodesPtr<len(nodes)-1 and nodes[nodesPtr+1][0]==level+1:\n",
    "            nodesPtr+=1\n",
    "            bTree.addLeft(buildTreeInBinary(level+1))  \n",
    "        if nodesPtr<len(nodes)-1 and nodes[nodesPtr+1][0]==level:\n",
    "            nodesPtr+=1\n",
    "            bTree.addRight(buildTreeInBinary(level))\n",
    "        else:\n",
    "            break\n",
    "\n",
    "    return bTree\n",
    "\n",
    "while True:\n",
    "\ttry:\n",
    "\t\ts = input().rstrip()\n",
    "\t\tnodes.append((len(s)-1,s.strip()))\n",
    "\texcept:\n",
    "\t\tbreak\n",
    "\n",
    "\n",
    "tree = buildTreeInBinary(0)\n",
    "tree.preorderTravel(lambda x :print(x,end=\"\"))\n",
    "print()\n",
    "tree.inorderTravel(lambda x :print(x,end=\"\"))"
   ]
  },
  {
   "cell_type": "code",
   "execution_count": null,
   "metadata": {},
   "outputs": [],
   "source": [
    "a='''A\n",
    "\tB\n",
    "\t\tE\n",
    "\tC\n",
    "\t\tF\n",
    "\t\tG\n",
    "\tD\n",
    "\t\tH\n",
    "\t\t\tI'''\n",
    "\n",
    "for s in a.split('\\n'):\n",
    "    nodes.append((len(s)-1,s.strip()))"
   ]
  },
  {
   "cell_type": "code",
   "execution_count": null,
   "metadata": {},
   "outputs": [],
   "source": []
  }
 ],
 "metadata": {
  "interpreter": {
   "hash": "cccc6b24c42b92f0f5397c28f29e0b94ee4e833e31f323dd2f4eab36a0e1136b"
  },
  "kernelspec": {
   "display_name": "Python 3.9.9 ('base')",
   "language": "python",
   "name": "python3"
  },
  "language_info": {
   "codemirror_mode": {
    "name": "ipython",
    "version": 3
   },
   "file_extension": ".py",
   "mimetype": "text/x-python",
   "name": "python",
   "nbconvert_exporter": "python",
   "pygments_lexer": "ipython3",
   "version": "3.9.9"
  },
  "orig_nbformat": 4
 },
 "nbformat": 4,
 "nbformat_minor": 2
}
