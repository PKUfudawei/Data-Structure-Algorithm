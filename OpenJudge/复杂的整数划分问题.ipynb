{
 "cells": [
  {
   "cell_type": "code",
   "execution_count": 19,
   "metadata": {},
   "outputs": [],
   "source": [
    "def splitNumberIntoKNumers(N,K):\n",
    "    result=[[0 for _ in range(K+1)] for _ in range(N+1)]\n",
    "    for i in range(1, len(result)): ## i = n \n",
    "        for j in range(1, len(result[0])): ## j = k\n",
    "            if j>i:\n",
    "                continue\n",
    "            elif j==1:\n",
    "                result[i][j]=1\n",
    "            else:\n",
    "                result[i][j] = result[i-j][j] + result[i-1][j-1]\n",
    "                \n",
    "    return result[N][K]\n",
    "    \n",
    "def splitNumberIntoDifferentNumers(N): ## similar to knapsack problem\n",
    "    result=[[0 for _ in range(N+1)] for _ in range(N+1)]\n",
    "    result[0][0]=1\n",
    "    for i in range(0, len(result)): ## i = n\n",
    "        for j in range(1, len(result[0])): ## we select schemes from range(1,j+1)\n",
    "            if i==0:\n",
    "                result[i][j]=1\n",
    "            else:\n",
    "                if i>=j:\n",
    "                    result[i][j] = result[i][j-1] + result[i-j][j-1]\n",
    "                else:\n",
    "                    result[i][j] = result[i][j-1]\n",
    "    return result[N][N]\n",
    "\n",
    "\n",
    "def splitNumberIntoAnyOddNumers(N):\n",
    "    result=[[0 for _ in range(N+1)] for _ in range(N+1)]\n",
    "    for i in range(1, len(result)): ## i = n \n",
    "        for j in range(1, len(result[0])): ## j = k\n",
    "            if j>i:\n",
    "                continue\n",
    "            elif j==1:\n",
    "                if i%2==0:\n",
    "                    result[i][j]=0\n",
    "                else:\n",
    "                    result[i][j]=1\n",
    "            else:\n",
    "                if i>2*j:\n",
    "                    result[i][j] = result[i-2*j][j] + result[i-1][j-1]\n",
    "                else:\n",
    "                    result[i][j] = result[i-1][j-1]\n",
    "                    \n",
    "    total_result=0\n",
    "    for k in range(1,N+1):\n",
    "        total_result += result[N][k]\n",
    "        \n",
    "    return total_result\n",
    "\n",
    "def driver():\n",
    "    while True:\n",
    "        try:\n",
    "            N,K=map(int, input().split())\n",
    "            print(splitNumberIntoKNumers(N,K))\n",
    "            print(splitNumberIntoDifferentNumers(N))\n",
    "            print(splitNumberIntoAnyOddNumers(N))\n",
    "        except: \n",
    "            break            \n",
    "        \n",
    "driver()"
   ]
  },
  {
   "cell_type": "code",
   "execution_count": null,
   "metadata": {},
   "outputs": [],
   "source": []
  }
 ],
 "metadata": {
  "interpreter": {
   "hash": "cccc6b24c42b92f0f5397c28f29e0b94ee4e833e31f323dd2f4eab36a0e1136b"
  },
  "kernelspec": {
   "display_name": "Python 3.9.9 ('base')",
   "language": "python",
   "name": "python3"
  },
  "language_info": {
   "codemirror_mode": {
    "name": "ipython",
    "version": 3
   },
   "file_extension": ".py",
   "mimetype": "text/x-python",
   "name": "python",
   "nbconvert_exporter": "python",
   "pygments_lexer": "ipython3",
   "version": "3.9.9"
  },
  "orig_nbformat": 4
 },
 "nbformat": 4,
 "nbformat_minor": 2
}
