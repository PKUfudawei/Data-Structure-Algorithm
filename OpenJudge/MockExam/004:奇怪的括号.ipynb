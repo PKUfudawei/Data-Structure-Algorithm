{
 "cells": [
  {
   "cell_type": "code",
   "execution_count": null,
   "metadata": {},
   "outputs": [],
   "source": [
    "pairs=set([('(',')'),('[',']'),('/**','/')])\n",
    "while True:\n",
    "    try:\n",
    "        lst=list(input())\n",
    "        stack=[]\n",
    "        for i in lst:\n",
    "            if stack and (stack[-1],i) in pairs:\n",
    "                stack.pop()\n",
    "            elif stack[-3:]==['/','*','*'] and i=='/':\n",
    "                stack.pop()\n",
    "                stack.pop()\n",
    "                stack.pop()\n",
    "            else:\n",
    "                stack.append(i)\n",
    "        if stack:\n",
    "            print('False')\n",
    "        else:\n",
    "            print('True')\n",
    "            \n",
    "    except:\n",
    "        break"
   ]
  },
  {
   "cell_type": "code",
   "execution_count": null,
   "metadata": {},
   "outputs": [],
   "source": []
  }
 ],
 "metadata": {
  "interpreter": {
   "hash": "cccc6b24c42b92f0f5397c28f29e0b94ee4e833e31f323dd2f4eab36a0e1136b"
  },
  "kernelspec": {
   "display_name": "Python 3.9.12 ('base')",
   "language": "python",
   "name": "python3"
  },
  "language_info": {
   "codemirror_mode": {
    "name": "ipython",
    "version": 3
   },
   "file_extension": ".py",
   "mimetype": "text/x-python",
   "name": "python",
   "nbconvert_exporter": "python",
   "pygments_lexer": "ipython3",
   "version": "3.9.12"
  },
  "orig_nbformat": 4
 },
 "nbformat": 4,
 "nbformat_minor": 2
}
