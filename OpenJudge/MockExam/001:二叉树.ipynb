{
 "cells": [
  {
   "cell_type": "code",
   "execution_count": 13,
   "metadata": {},
   "outputs": [
    {
     "name": "stdout",
     "output_type": "stream",
     "text": [
      "2\n"
     ]
    }
   ],
   "source": [
    "## root = 1 \n",
    "## left_child = 2*parent, right_child = 2*parent+1\n",
    "## parent = child//2\n",
    "def solution(x, y):\n",
    "    x_path=[]\n",
    "    y_path=[]\n",
    "    while x>0:\n",
    "        x_path.append(x)\n",
    "        x=x//2\n",
    "    while y>0:\n",
    "        y_path.append(y)\n",
    "        y=y//2\n",
    "\n",
    "    common=set(x_path)&set(y_path)\n",
    "        \n",
    "    return max(common)\n",
    "\n",
    "def driver():\n",
    "    x, y = map(int, input().split())\n",
    "    print(solution(x, y))\n",
    "    \n",
    "driver()"
   ]
  },
  {
   "cell_type": "code",
   "execution_count": null,
   "metadata": {},
   "outputs": [],
   "source": []
  }
 ],
 "metadata": {
  "interpreter": {
   "hash": "cccc6b24c42b92f0f5397c28f29e0b94ee4e833e31f323dd2f4eab36a0e1136b"
  },
  "kernelspec": {
   "display_name": "Python 3.9.12 ('base')",
   "language": "python",
   "name": "python3"
  },
  "language_info": {
   "codemirror_mode": {
    "name": "ipython",
    "version": 3
   },
   "file_extension": ".py",
   "mimetype": "text/x-python",
   "name": "python",
   "nbconvert_exporter": "python",
   "pygments_lexer": "ipython3",
   "version": "3.9.12"
  },
  "orig_nbformat": 4
 },
 "nbformat": 4,
 "nbformat_minor": 2
}
