{
 "cells": [
  {
   "cell_type": "code",
   "execution_count": null,
   "metadata": {},
   "outputs": [],
   "source": [
    "def driver():\n",
    "    def bfs(start):\n",
    "        nonlocal visited, frontier\n",
    "        num=0\n",
    "        visited.add(start)\n",
    "        frontier.append(start)\n",
    "        \n",
    "        while frontier:\n",
    "            new=frontier.pop(0)\n",
    "            num+=1\n",
    "            for neighbor in [(new[0]-1, new[1]),\n",
    "                             (new[0]+1, new[1]),\n",
    "                             (new[0], new[1]-1),\n",
    "                             (new[0], new[1]+1)]:\n",
    "                if (0<=neighbor[0]<len(matrix) \n",
    "                    and 0<=neighbor[1]<len(matrix[0]) \n",
    "                    and neighbor not in visited \n",
    "                    and matrix[neighbor[0]][neighbor[1]]==matrix[start[0]][start[1]]):\n",
    "                    visited.add(neighbor)\n",
    "                    frontier.append(neighbor)\n",
    "                    \n",
    "        return num\n",
    "    \n",
    "    while True:\n",
    "        try:\n",
    "            W, H=map(int, input().split())\n",
    "            if W==H==0:\n",
    "                break\n",
    "            matrix=[]\n",
    "            visited=set()\n",
    "            frontier=[]\n",
    "            for i in range(H):\n",
    "                matrix.append(list(input()))\n",
    "                if '@' in matrix[-1]:\n",
    "                    start=(i, matrix[-1].index('@'))\n",
    "                    matrix[-1][start[1]]='.'\n",
    "            print(bfs(start))\n",
    "            \n",
    "        except EOFError:\n",
    "            break       \n",
    "    \n",
    "driver()"
   ]
  },
  {
   "cell_type": "code",
   "execution_count": null,
   "metadata": {},
   "outputs": [],
   "source": []
  }
 ],
 "metadata": {
  "interpreter": {
   "hash": "cccc6b24c42b92f0f5397c28f29e0b94ee4e833e31f323dd2f4eab36a0e1136b"
  },
  "kernelspec": {
   "display_name": "Python 3.9.9 ('base')",
   "language": "python",
   "name": "python3"
  },
  "language_info": {
   "codemirror_mode": {
    "name": "ipython",
    "version": 3
   },
   "file_extension": ".py",
   "mimetype": "text/x-python",
   "name": "python",
   "nbconvert_exporter": "python",
   "pygments_lexer": "ipython3",
   "version": "3.9.9"
  },
  "orig_nbformat": 4
 },
 "nbformat": 4,
 "nbformat_minor": 2
}
