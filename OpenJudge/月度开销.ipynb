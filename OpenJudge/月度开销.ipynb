{
 "cells": [
  {
   "cell_type": "code",
   "execution_count": 1,
   "metadata": {},
   "outputs": [
    {
     "name": "stdout",
     "output_type": "stream",
     "text": [
      "500\n"
     ]
    }
   ],
   "source": [
    "N, M = map(int, input().split())\n",
    "consumption = []\n",
    "for i in range(1, N+1):\n",
    "    num=int(input())\n",
    "    consumption.append(num)\n",
    "\n",
    "def feasible_max_cost(consumption, months, test_cost):\n",
    "    sum_cost=0\n",
    "    inwhichmonth=1\n",
    "    for i in range(N):\n",
    "        if consumption[i]>test_cost:\n",
    "            return False\n",
    "        if sum_cost+consumption[i]<=test_cost:\n",
    "            sum_cost+=consumption[i]\n",
    "        else:\n",
    "            inwhichmonth += 1\n",
    "            sum_cost=consumption[i]\n",
    "            if inwhichmonth > months:\n",
    "                return False\n",
    "    return True\n",
    "\n",
    "def fajo(months, consumption):\n",
    "    mini = min(consumption)\n",
    "    maxi = sum(consumption)\n",
    "    while maxi > mini:\n",
    "        #print(mini, maxi)\n",
    "        middle = (maxi+mini)//2\n",
    "        if feasible_max_cost(consumption, months, middle):\n",
    "            #print(middle, \"is OK\", mini, maxi)\n",
    "            maxi = middle\n",
    "        else:\n",
    "            #print(middle, 'is not OK', mini, maxi)\n",
    "            mini = middle+1\n",
    "\n",
    "    middle = (maxi+mini)//2\n",
    "    return middle\n",
    "\n",
    "\n",
    "print(fajo(M,consumption))\n"
   ]
  },
  {
   "cell_type": "code",
   "execution_count": null,
   "metadata": {},
   "outputs": [],
   "source": []
  }
 ],
 "metadata": {
  "interpreter": {
   "hash": "cccc6b24c42b92f0f5397c28f29e0b94ee4e833e31f323dd2f4eab36a0e1136b"
  },
  "kernelspec": {
   "display_name": "Python 3.9.9 ('base')",
   "language": "python",
   "name": "python3"
  },
  "language_info": {
   "codemirror_mode": {
    "name": "ipython",
    "version": 3
   },
   "file_extension": ".py",
   "mimetype": "text/x-python",
   "name": "python",
   "nbconvert_exporter": "python",
   "pygments_lexer": "ipython3",
   "version": "3.9.9"
  },
  "orig_nbformat": 4
 },
 "nbformat": 4,
 "nbformat_minor": 2
}
