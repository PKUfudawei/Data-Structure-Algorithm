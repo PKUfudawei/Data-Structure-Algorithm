{
 "cells": [
  {
   "cell_type": "code",
   "execution_count": 22,
   "metadata": {},
   "outputs": [
    {
     "name": "stdout",
     "output_type": "stream",
     "text": [
      "RUAPD"
     ]
    }
   ],
   "source": [
    "class BinaryTree:\n",
    "    def __init__(self, data, left=None, right=None):\n",
    "        self.data=data\n",
    "        self.left=left\n",
    "        self.right=right\n",
    "        \n",
    "    def addLeft(self, tree):\n",
    "        self.left=tree\n",
    "        \n",
    "    def addRight(self, tree):\n",
    "        self.right=tree\n",
    "        \n",
    "    def postorderTraversal(self, function):\n",
    "        if self.left:\n",
    "            self.left.postorderTraversal(function)\n",
    "        if self.right:\n",
    "            self.right.postorderTraversal(function)\n",
    "        function(self.data)\n",
    "        \n",
    "\n",
    "def constructBinaryTree(preorder, inorder):\n",
    "    if len(preorder)==0 or len(inorder)==0:\n",
    "        return None\n",
    "    \n",
    "    tree=BinaryTree(preorder[0])\n",
    "    i=inorder.index(preorder[0])\n",
    "    tree.addLeft(constructBinaryTree(preorder[1:i+1], inorder[:i]))\n",
    "    tree.addRight(constructBinaryTree(preorder[i+1:], inorder[i+1:]))    \n",
    "    return tree\n",
    "    \n",
    "def outputPostorder(str_preorder, str_inorder):\n",
    "    preorder=list(str_preorder)\n",
    "    inorder=list(str_inorder)\n",
    "    biTree=constructBinaryTree(preorder, inorder)\n",
    "    biTree.postorderTraversal(function=lambda x : print(x,end=''))\n",
    "    print()\n",
    "\n",
    "def driver():\n",
    "    while True:\n",
    "        try:\n",
    "            a=input()\n",
    "            b=input()\n",
    "            outputPostorder(a,b)\n",
    "            \n",
    "        except:\n",
    "            break\n",
    "        \n",
    "driver()"
   ]
  },
  {
   "cell_type": "code",
   "execution_count": null,
   "metadata": {},
   "outputs": [],
   "source": []
  }
 ],
 "metadata": {
  "interpreter": {
   "hash": "cccc6b24c42b92f0f5397c28f29e0b94ee4e833e31f323dd2f4eab36a0e1136b"
  },
  "kernelspec": {
   "display_name": "Python 3.9.9 ('base')",
   "language": "python",
   "name": "python3"
  },
  "language_info": {
   "codemirror_mode": {
    "name": "ipython",
    "version": 3
   },
   "file_extension": ".py",
   "mimetype": "text/x-python",
   "name": "python",
   "nbconvert_exporter": "python",
   "pygments_lexer": "ipython3",
   "version": "3.9.9"
  },
  "orig_nbformat": 4
 },
 "nbformat": 4,
 "nbformat_minor": 2
}
