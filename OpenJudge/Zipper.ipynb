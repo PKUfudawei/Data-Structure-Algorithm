{
 "cells": [
  {
   "cell_type": "code",
   "execution_count": 12,
   "metadata": {},
   "outputs": [
    {
     "name": "stdout",
     "output_type": "stream",
     "text": [
      "Data set 1: [[True, False], [False, False]]\n",
      "[[True, False], [True, False]]\n",
      "yes\n"
     ]
    }
   ],
   "source": [
    "def zipper(s1,s2,s3):\n",
    "    visited=[[False for _ in range(len(s2)+1)] for _ in range(len(s1)+1)]\n",
    "    def dfs(a,b,c):\n",
    "        if c>=len(s3):\n",
    "            return True\n",
    "        elif visited[a][b]==True:\n",
    "            return False\n",
    "        visited[a][b]=True\n",
    "        if a<len(s1):\n",
    "            if s3[c]==s1[a]:\n",
    "                if dfs(a+1,b,c+1):\n",
    "                    return True\n",
    "        if b<len(s2):\n",
    "            if s3[c]==s2[b]:\n",
    "                if dfs(a,b+1,c+1):\n",
    "                    return True\n",
    "        \n",
    "        return False\n",
    "    \n",
    "    return dfs(0,0,0)\n",
    "    \n",
    "    \n",
    "def driver():\n",
    "    n=int(input())\n",
    "    for i in range(n):\n",
    "        s1,s2,s3=input().split()\n",
    "        print(f\"Data set {i+1}: \", end='')\n",
    "        if zipper(s1,s2,s3):\n",
    "            print('yes')\n",
    "        else:\n",
    "            print('no')\n",
    "        \n",
    "driver()"
   ]
  },
  {
   "cell_type": "code",
   "execution_count": null,
   "metadata": {},
   "outputs": [],
   "source": []
  }
 ],
 "metadata": {
  "interpreter": {
   "hash": "cccc6b24c42b92f0f5397c28f29e0b94ee4e833e31f323dd2f4eab36a0e1136b"
  },
  "kernelspec": {
   "display_name": "Python 3.9.9 ('base')",
   "language": "python",
   "name": "python3"
  },
  "language_info": {
   "codemirror_mode": {
    "name": "ipython",
    "version": 3
   },
   "file_extension": ".py",
   "mimetype": "text/x-python",
   "name": "python",
   "nbconvert_exporter": "python",
   "pygments_lexer": "ipython3",
   "version": "3.9.9"
  },
  "orig_nbformat": 4
 },
 "nbformat": 4,
 "nbformat_minor": 2
}
