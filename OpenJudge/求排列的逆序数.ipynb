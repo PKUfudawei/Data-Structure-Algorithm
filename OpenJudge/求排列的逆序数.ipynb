{
 "cells": [
  {
   "cell_type": "code",
   "execution_count": 1,
   "metadata": {},
   "outputs": [
    {
     "name": "stdout",
     "output_type": "stream",
     "text": [
      "8\n"
     ]
    }
   ],
   "source": [
    "def mergeCount(lst, start, middle, end, tmp):\n",
    "    i, j = start, middle+1\n",
    "    p, count = 0, 0\n",
    "    while i<=middle and j<=end:\n",
    "        if lst[i]<lst[j]:\n",
    "            tmp[p] = lst[i]\n",
    "            i += 1\n",
    "        else:\n",
    "            tmp[p] = lst[j]\n",
    "            j += 1\n",
    "            count += middle-i+1\n",
    "        p += 1\n",
    "    \n",
    "    while i <= middle:\n",
    "        tmp[p] = lst[i]\n",
    "        p += 1\n",
    "        i += 1\n",
    "    while j <= end:\n",
    "        tmp[p] = lst[j]\n",
    "        p += 1\n",
    "        j += 1\n",
    "    for i in range(end-start+1):\n",
    "        lst[start+i] = tmp[i]\n",
    "        \n",
    "    return count\n",
    "        \n",
    "def mergeSortCount(lst, start, end, tmp): ## use tmp to avoid stack overflow\n",
    "    if start<end:\n",
    "        middle = (start+end)//2\n",
    "        left_count = mergeSortCount(lst, start, middle, tmp)\n",
    "        right_count = mergeSortCount(lst, middle+1, end, tmp)\n",
    "        merge_count = mergeCount(lst, start, middle, end, tmp)\n",
    "        return left_count+right_count+merge_count\n",
    "    else:\n",
    "        return 0\n",
    "    \n",
    "def driver():\n",
    "    n = int(input())\n",
    "    lst = list(map(int, input().split()))\n",
    "    tmp = [0]*n\n",
    "    print(mergeSortCount(lst, 0, len(lst)-1, tmp))\n",
    "    \n",
    "driver()"
   ]
  },
  {
   "cell_type": "code",
   "execution_count": null,
   "metadata": {},
   "outputs": [],
   "source": []
  }
 ],
 "metadata": {
  "interpreter": {
   "hash": "cccc6b24c42b92f0f5397c28f29e0b94ee4e833e31f323dd2f4eab36a0e1136b"
  },
  "kernelspec": {
   "display_name": "Python 3.9.12 ('base')",
   "language": "python",
   "name": "python3"
  },
  "language_info": {
   "codemirror_mode": {
    "name": "ipython",
    "version": 3
   },
   "file_extension": ".py",
   "mimetype": "text/x-python",
   "name": "python",
   "nbconvert_exporter": "python",
   "pygments_lexer": "ipython3",
   "version": "3.9.12"
  },
  "orig_nbformat": 4
 },
 "nbformat": 4,
 "nbformat_minor": 2
}
