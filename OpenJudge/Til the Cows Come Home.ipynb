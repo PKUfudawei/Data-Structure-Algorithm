{
 "cells": [
  {
   "cell_type": "code",
   "execution_count": 1,
   "metadata": {},
   "outputs": [],
   "source": [
    "import heapq\n",
    "import math\n",
    "INF = math.inf\n",
    "\n",
    "def dijkstra(graph, start):\n",
    "    parent={start: None}\n",
    "    dist={v: INF for v in graph}\n",
    "    dist[start]=0\n",
    "    heap=[]\n",
    "    heapq.heappush(heap, (0, start))\n",
    "    visited=set()\n",
    "    while heap:\n",
    "        d, v=heapq.heappop(heap)\n",
    "        visited.add(v)\n",
    "        for neighbor in graph[v]:\n",
    "            if dist[neighbor]>dist[v]+graph[v][neighbor]:\n",
    "                dist[neighbor] = dist[v] + graph[v][neighbor]\n",
    "                heapq.heappush(heap, (dist[neighbor], neighbor))\n",
    "                parent[neighbor]=v\n",
    "    return dist, parent\n",
    "\n",
    "def driver():\n",
    "    T, N = map(int, input().split())\n",
    "    G = {i: {} for i in range(1, N+1)}\n",
    "    for _ in range(T):\n",
    "        i, j, k = map(int, input().split())\n",
    "        if j not in G[i] or k < G[i][j]:\n",
    "            G[i][j] = k\n",
    "            G[j][i] = k\n",
    "    dist, parent = dijkstra(G, N, 1)\n",
    "    print(dist[1])\n",
    "    \n",
    "driver()"
   ]
  },
  {
   "cell_type": "code",
   "execution_count": null,
   "metadata": {},
   "outputs": [],
   "source": []
  }
 ],
 "metadata": {
  "interpreter": {
   "hash": "cccc6b24c42b92f0f5397c28f29e0b94ee4e833e31f323dd2f4eab36a0e1136b"
  },
  "kernelspec": {
   "display_name": "Python 3.9.12 ('base')",
   "language": "python",
   "name": "python3"
  },
  "language_info": {
   "codemirror_mode": {
    "name": "ipython",
    "version": 3
   },
   "file_extension": ".py",
   "mimetype": "text/x-python",
   "name": "python",
   "nbconvert_exporter": "python",
   "pygments_lexer": "ipython3",
   "version": "3.9.12"
  },
  "orig_nbformat": 4
 },
 "nbformat": 4,
 "nbformat_minor": 2
}
