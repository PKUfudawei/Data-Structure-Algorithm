{
 "cells": [
  {
   "cell_type": "code",
   "execution_count": 15,
   "metadata": {},
   "outputs": [
    {
     "name": "stdout",
     "output_type": "stream",
     "text": [
      "25\n"
     ]
    }
   ],
   "source": [
    "def skating(matrix):\n",
    "    R=len(matrix)\n",
    "    C=len(matrix[0])\n",
    "    heights=[]\n",
    "    indices=[]\n",
    "    maxLen=[[1 for _ in range(C)] for _ in range(R)]\n",
    "    result=1\n",
    "    \n",
    "    for i in range(R):\n",
    "        for j in range(C):\n",
    "            heights.append(matrix[i][j])\n",
    "            indices.append((i,j))\n",
    "    \n",
    "    heights, indices=zip(*sorted(zip(heights,indices), key=lambda x:x[0]))\n",
    "    \n",
    "    for k in range(1, len(heights)):\n",
    "        i,j=indices[k]\n",
    "        if i>0 and matrix[i-1][j]<heights[k]:\n",
    "            maxLen[i][j]=max(maxLen[i][j], maxLen[i-1][j]+1)\n",
    "        if j>0 and matrix[i][j-1]<heights[k]:\n",
    "            maxLen[i][j]=max(maxLen[i][j], maxLen[i][j-1]+1)\n",
    "        if i<R-1 and matrix[i+1][j]<heights[k]:\n",
    "            maxLen[i][j]=max(maxLen[i][j], maxLen[i+1][j]+1)\n",
    "        if j<C-1 and matrix[i][j+1]<heights[k]:\n",
    "            maxLen[i][j]=max(maxLen[i][j], maxLen[i][j+1]+1)\n",
    "\n",
    "        if maxLen[i][j]>result:\n",
    "            result=maxLen[i][j]\n",
    "    return result\n",
    "\n",
    "def driver():\n",
    "    R,C=map(int, input().split())\n",
    "    matrix=[]\n",
    "\n",
    "    for i in range(R):\n",
    "        matrix.append(list(map(int, input().split())))\n",
    "  \n",
    "    print(skating(matrix))\n",
    "    \n",
    "driver()"
   ]
  },
  {
   "cell_type": "code",
   "execution_count": null,
   "metadata": {},
   "outputs": [],
   "source": []
  }
 ],
 "metadata": {
  "interpreter": {
   "hash": "cccc6b24c42b92f0f5397c28f29e0b94ee4e833e31f323dd2f4eab36a0e1136b"
  },
  "kernelspec": {
   "display_name": "Python 3.9.9 ('base')",
   "language": "python",
   "name": "python3"
  },
  "language_info": {
   "codemirror_mode": {
    "name": "ipython",
    "version": 3
   },
   "file_extension": ".py",
   "mimetype": "text/x-python",
   "name": "python",
   "nbconvert_exporter": "python",
   "pygments_lexer": "ipython3",
   "version": "3.9.9"
  },
  "orig_nbformat": 4
 },
 "nbformat": 4,
 "nbformat_minor": 2
}
