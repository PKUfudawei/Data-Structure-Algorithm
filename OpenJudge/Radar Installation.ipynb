{
 "cells": [
  {
   "cell_type": "code",
   "execution_count": null,
   "metadata": {},
   "outputs": [],
   "source": [
    "import math\n",
    "        \n",
    "def greedyFirst(intervals):\n",
    "    intervals=sorted(intervals, key=lambda x:x[0])\n",
    "    noCoveredMinRight=intervals[0][1]\n",
    "    sumRadar=0\n",
    "    \n",
    "    for i in range(1, len(intervals)):\n",
    "        if intervals[i][0]>noCoveredMinRight:\n",
    "            sumRadar+=1\n",
    "            noCoveredMinRight=intervals[i][1]\n",
    "        else:\n",
    "            noCoveredMinRight=min(noCoveredMinRight, intervals[i][1])\n",
    "        \n",
    "    sumRadar+=1\n",
    "                \n",
    "    return sumRadar\n",
    "    \n",
    "    \n",
    "    \n",
    "def driver():\n",
    "    time=0\n",
    "    while True:\n",
    "        try:\n",
    "            time+=1\n",
    "            noSolution=False\n",
    "            n, d = map(int, input().split())\n",
    "            if n==0 and d==0:\n",
    "                break\n",
    "            intervals=[]\n",
    "            for _ in range(n):\n",
    "                x, y = map(int, input().split())\n",
    "                if abs(y)>d or d<0:\n",
    "                    noSolution=True\n",
    "                else:\n",
    "                    intervals.append((x-math.sqrt(d**2-y**2), x+math.sqrt(d**2-y**2)))\n",
    "\n",
    "            if noSolution:\n",
    "                print(\"Case %d: -1\"%(time))\n",
    "            else:\n",
    "                print(\"Case %d: %d\"%(time, greedyFirst(intervals)))\n",
    "            input()\n",
    "\n",
    "        except EOFError:\n",
    "            break\n",
    "        \n",
    "driver()"
   ]
  },
  {
   "cell_type": "code",
   "execution_count": null,
   "metadata": {},
   "outputs": [],
   "source": []
  }
 ],
 "metadata": {
  "interpreter": {
   "hash": "cccc6b24c42b92f0f5397c28f29e0b94ee4e833e31f323dd2f4eab36a0e1136b"
  },
  "kernelspec": {
   "display_name": "Python 3.9.9 ('base')",
   "language": "python",
   "name": "python3"
  },
  "language_info": {
   "codemirror_mode": {
    "name": "ipython",
    "version": 3
   },
   "file_extension": ".py",
   "mimetype": "text/x-python",
   "name": "python",
   "nbconvert_exporter": "python",
   "pygments_lexer": "ipython3",
   "version": "3.9.9"
  },
  "orig_nbformat": 4
 },
 "nbformat": 4,
 "nbformat_minor": 2
}
