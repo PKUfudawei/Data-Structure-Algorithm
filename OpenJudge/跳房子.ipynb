{
 "cells": [
  {
   "cell_type": "code",
   "execution_count": null,
   "metadata": {},
   "outputs": [],
   "source": [
    "def driver():\n",
    "    def bfs(start, end):\n",
    "        nonlocal visited, frontier, steps, parent, action\n",
    "        visited.add(start)\n",
    "        frontier.append(start)\n",
    "        parent[start]=None\n",
    "        steps[start]=0\n",
    "        action[(start, start)]=None\n",
    "        \n",
    "        while frontier:\n",
    "            new = frontier.pop(0)\n",
    "            if new==end:\n",
    "                return steps[end]\n",
    "            for op in ['H', 'O']:\n",
    "                neighbor = new*3 if op=='H' else new//2\n",
    "                if neighbor not in visited and neighbor>0:\n",
    "                    visited.add(neighbor)\n",
    "                    frontier.append(neighbor)\n",
    "                    steps[neighbor]=steps[new]+1\n",
    "                    parent[neighbor]=new\n",
    "                    action[(new, neighbor)]=op\n",
    "\n",
    "        return False\n",
    "        \n",
    "    while True:\n",
    "        try:\n",
    "            n, m=map(int, input().split())\n",
    "            if n==m==0:\n",
    "                break\n",
    "            visited=set()\n",
    "            frontier=[]\n",
    "            steps={}\n",
    "            parent={}\n",
    "            action={}\n",
    "            print(bfs(n, m))\n",
    "            actions=[]\n",
    "            while parent[m] is not None:\n",
    "                actions.insert(0, action[(parent[m], m)])\n",
    "                m=parent[m]\n",
    "            print(''.join(actions))\n",
    "                \n",
    "        except EOFError:\n",
    "            break\n",
    "        \n",
    "driver()"
   ]
  }
 ],
 "metadata": {
  "interpreter": {
   "hash": "cccc6b24c42b92f0f5397c28f29e0b94ee4e833e31f323dd2f4eab36a0e1136b"
  },
  "kernelspec": {
   "display_name": "Python 3.9.9 ('base')",
   "language": "python",
   "name": "python3"
  },
  "language_info": {
   "codemirror_mode": {
    "name": "ipython",
    "version": 3
   },
   "file_extension": ".py",
   "mimetype": "text/x-python",
   "name": "python",
   "nbconvert_exporter": "python",
   "pygments_lexer": "ipython3",
   "version": "3.9.9"
  },
  "orig_nbformat": 4
 },
 "nbformat": 4,
 "nbformat_minor": 2
}
