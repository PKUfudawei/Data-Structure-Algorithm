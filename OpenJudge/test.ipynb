{
 "cells": [
  {
   "cell_type": "code",
   "execution_count": null,
   "metadata": {},
   "outputs": [],
   "source": [
    "N, K=map(int, input().split())\n",
    "x_max=100000\n",
    "arrived=[False for i in range(x_max+1)]\n",
    "arrived[N]=True\n",
    "time=[0 for i in range(x_max+1)]\n",
    "start_mark=0\n",
    "end_mark=0\n",
    "location=[0 for i in range(x_max+1)]\n",
    "location[0]=N\n",
    "STOP=False\n",
    "while end_mark<=x_max:\n",
    "    start=location[start_mark]\n",
    "    start_mark+=1\n",
    "    for i in range(3):\n",
    "        if i==0:    next_loc=start+1\n",
    "        if i==1:    next_loc=start-1\n",
    "        if i==2:    next_loc=start*2\n",
    "        if next_loc>=0 and next_loc<=x_max and arrived[next_loc]==False:\n",
    "            end_mark+=1\n",
    "            location[end_mark]=next_loc\n",
    "            arrived[next_loc]=True\n",
    "            time[next_loc]=time[start]+1\n",
    "            if next_loc==K:\n",
    "                print(time[next_loc])\n",
    "                STOP=True\n",
    "    if STOP:\n",
    "        break\n",
    "   "
   ]
  }
 ],
 "metadata": {
  "language_info": {
   "name": "python"
  },
  "orig_nbformat": 4
 },
 "nbformat": 4,
 "nbformat_minor": 2
}
