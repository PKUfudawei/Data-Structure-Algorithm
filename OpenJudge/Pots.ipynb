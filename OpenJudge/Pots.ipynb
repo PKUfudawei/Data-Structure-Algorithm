{
 "cells": [
  {
   "cell_type": "code",
   "execution_count": 10,
   "metadata": {},
   "outputs": [
    {
     "name": "stdout",
     "output_type": "stream",
     "text": [
      "6\n",
      "FILL(2)\n",
      "POUR(2,1)\n",
      "DROP(1)\n",
      "POUR(2,1)\n",
      "FILL(2)\n",
      "POUR(2,1)\n"
     ]
    }
   ],
   "source": [
    "def driver():\n",
    "    A, B, C = map(int, input().split())\n",
    "    a, b = 0, 0\n",
    "    visited = set()\n",
    "    frontier = []\n",
    "    parent = {}\n",
    "    action = {}\n",
    "    steps = {}\n",
    "    \n",
    "    def bfs(a, b):\n",
    "        nonlocal frontier, visited, parent, action, steps\n",
    "        frontier.append((a, b))\n",
    "        visited.add((a, b))\n",
    "        parent[(a,b)]=None\n",
    "        action[((a,b), (a,b))] = None\n",
    "        steps[(a,b)] = 0\n",
    "        while frontier:\n",
    "            a, b= frontier.pop(0)\n",
    "            for i,j in [(A, b), (a, B), (0, b), (a, 0),\n",
    "                        (max(0, a-B+b), min(B, b+a)),\n",
    "                        (min(A, a+b), max(0, b-A+a))]:\n",
    "                if (i,j) not in visited:\n",
    "                    frontier.append((i, j))\n",
    "                    visited.add((i, j))\n",
    "                    parent[(i,j)] = (a, b)\n",
    "                    action[((a,b), (i,j))] = 'FILL(1)' if i>a and j==b else 'FILL(2)' if i==a and j>b \\\n",
    "                        else 'POUR(1,2)' if i<a and j>b else 'POUR(2,1)' if i>a and j<b \\\n",
    "                            else 'DROP(1)'if i==0 else 'DROP(2)'\n",
    "                    steps[(i,j)] = steps[(a,b)] + 1\n",
    "                    if i == C or j == C:\n",
    "                        return (i, j)\n",
    "            \n",
    "        return False\n",
    "    \n",
    "    result=bfs(a, b)\n",
    "    if result:\n",
    "        print(steps[result])\n",
    "        stack=[]\n",
    "        while parent[result] is not None:\n",
    "            stack.insert(0, action[(parent[result], result)])\n",
    "            result=parent[result]\n",
    "        for act in stack:\n",
    "            print(act)\n",
    "    else:\n",
    "        print('impossible')\n",
    "\n",
    "driver()        "
   ]
  },
  {
   "cell_type": "code",
   "execution_count": null,
   "metadata": {},
   "outputs": [],
   "source": []
  }
 ],
 "metadata": {
  "interpreter": {
   "hash": "cccc6b24c42b92f0f5397c28f29e0b94ee4e833e31f323dd2f4eab36a0e1136b"
  },
  "kernelspec": {
   "display_name": "Python 3.9.9 ('base')",
   "language": "python",
   "name": "python3"
  },
  "language_info": {
   "codemirror_mode": {
    "name": "ipython",
    "version": 3
   },
   "file_extension": ".py",
   "mimetype": "text/x-python",
   "name": "python",
   "nbconvert_exporter": "python",
   "pygments_lexer": "ipython3",
   "version": "3.9.9"
  },
  "orig_nbformat": 4
 },
 "nbformat": 4,
 "nbformat_minor": 2
}
