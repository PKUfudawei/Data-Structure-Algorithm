{
 "cells": [
  {
   "cell_type": "code",
   "execution_count": 5,
   "metadata": {},
   "outputs": [],
   "source": [
    "class Edge:\n",
    "    def __init__(self, start, end, weight):\n",
    "        self.start, self.end, self.weight = start, end, weight\n",
    "\n",
    "\n",
    "def getRoot(i):\n",
    "    if parent[i]!=i:\n",
    "        parent[i]=getRoot(parent[i])\n",
    "    return parent[i]\n",
    "\n",
    "def merge(i, j):\n",
    "    parent[getRoot(j)]=getRoot(i)\n",
    "    \n",
    "def query(i, j):\n",
    "    return getRoot(i)==getRoot(j)\n",
    "\n",
    "def kruskal(graph):\n",
    "    global parent\n",
    "    parent={v: v for v in graph}\n",
    "    link=0\n",
    "    weightSum=0\n",
    "    edges=sum(graph.values(), start=[])\n",
    "    edges.sort(key=lambda x: x.weight)\n",
    "    for e in edges:\n",
    "        if not query(e.start, e.end):\n",
    "            merge(e.start, e.end)\n",
    "            link+=1\n",
    "            weightSum+=e.weight\n",
    "        if link==len(graph)-1:\n",
    "            break\n",
    "    return weightSum\n",
    "    \n",
    "def driver():\n",
    "    n=int(input())\n",
    "    graph={chr(ord('A')+i): [] for i in range(n)}\n",
    "    for _ in range(n-1):\n",
    "        lst=input().split()\n",
    "        for i in range(2, len(lst), 2):\n",
    "            graph[lst[0]].append(Edge(start=lst[0], end=lst[i], weight=int(lst[i+1])))\n",
    "    print(kruskal(graph))\n",
    "\n",
    "driver()"
   ]
  },
  {
   "cell_type": "code",
   "execution_count": null,
   "metadata": {},
   "outputs": [],
   "source": []
  }
 ],
 "metadata": {
  "interpreter": {
   "hash": "cccc6b24c42b92f0f5397c28f29e0b94ee4e833e31f323dd2f4eab36a0e1136b"
  },
  "kernelspec": {
   "display_name": "Python 3.9.9 ('base')",
   "language": "python",
   "name": "python3"
  },
  "language_info": {
   "codemirror_mode": {
    "name": "ipython",
    "version": 3
   },
   "file_extension": ".py",
   "mimetype": "text/x-python",
   "name": "python",
   "nbconvert_exporter": "python",
   "pygments_lexer": "ipython3",
   "version": "3.9.9"
  },
  "orig_nbformat": 4
 },
 "nbformat": 4,
 "nbformat_minor": 2
}
