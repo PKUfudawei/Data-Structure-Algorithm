{
 "cells": [
  {
   "cell_type": "code",
   "execution_count": 15,
   "metadata": {},
   "outputs": [
    {
     "name": "stdout",
     "output_type": "stream",
     "text": [
      "\n"
     ]
    }
   ],
   "source": [
    "def triangle(row,column,n,matrix):  ## (x,y) is the coordinate of the upper left '/'\n",
    "    if n==1:\n",
    "        matrix[row][column]='/'\n",
    "        matrix[row][column+1]='\\\\'\n",
    "        matrix[row+1][column-1]='/'\n",
    "        matrix[row+1][column]='_'\n",
    "        matrix[row+1][column+1]='_'\n",
    "        matrix[row+1][column+2]='\\\\'\n",
    "    else:\n",
    "        triangle(row,column,n-1,matrix)\n",
    "        triangle(row+2**(n-1), column-2**(n-1), n-1, matrix)\n",
    "        triangle(row+2**(n-1), column+2**(n-1), n-1, matrix)\n",
    "        \n",
    "    return matrix\n",
    "\n",
    "def drawTriangle(n):\n",
    "    if n==0:\n",
    "        return\n",
    "    matrix=[[' ' for _ in range(2**(n+1))] for _ in range(2**n)]\n",
    "    matrix=triangle(row=0, column=2**(n)-1, n=n, matrix=matrix)\n",
    "    for i in range(2**n):\n",
    "        print(\"\".join(matrix[i]))\n",
    "    print()\n",
    "        \n",
    "def driver():\n",
    "    try:\n",
    "        while True:\n",
    "            drawTriangle(int(input()))\n",
    "    except EOFError:\n",
    "        pass\n",
    "    \n",
    "driver()"
   ]
  },
  {
   "cell_type": "code",
   "execution_count": null,
   "metadata": {},
   "outputs": [],
   "source": []
  }
 ],
 "metadata": {
  "interpreter": {
   "hash": "cccc6b24c42b92f0f5397c28f29e0b94ee4e833e31f323dd2f4eab36a0e1136b"
  },
  "kernelspec": {
   "display_name": "Python 3.9.9 ('base')",
   "language": "python",
   "name": "python3"
  },
  "language_info": {
   "codemirror_mode": {
    "name": "ipython",
    "version": 3
   },
   "file_extension": ".py",
   "mimetype": "text/x-python",
   "name": "python",
   "nbconvert_exporter": "python",
   "pygments_lexer": "ipython3",
   "version": "3.9.9"
  },
  "orig_nbformat": 4
 },
 "nbformat": 4,
 "nbformat_minor": 2
}
