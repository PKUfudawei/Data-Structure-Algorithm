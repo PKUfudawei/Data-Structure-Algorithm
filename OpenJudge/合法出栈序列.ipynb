{
 "cells": [
  {
   "cell_type": "code",
   "execution_count": null,
   "metadata": {},
   "outputs": [],
   "source": [
    "def stackOutput(string, pushed=0, stack=[], newstring='', output=[]):\n",
    "    if pushed==len(string):\n",
    "        while len(stack)>0:\n",
    "            newstring+=stack.pop()\n",
    "        output.append(newstring)\n",
    "    else:\n",
    "        if len(stack)>0:\n",
    "            newstringCopy=newstring\n",
    "            stackCopy=stack[:]\n",
    "            newstring+=stack.pop()\n",
    "            stackOutput(string,pushed,stack,newstring,output)\n",
    "            \n",
    "            newstring=newstringCopy\n",
    "            stack=stackCopy[:]\n",
    "            stack.append(string[pushed])\n",
    "            stackOutput(string,pushed+1,stack,newstringCopy,output)\n",
    "        else:\n",
    "            stack.append(string[pushed])\n",
    "            stackOutput(string,pushed+1,stack,newstring,output)\n",
    "            \n",
    "    return output\n",
    "            \n",
    "            \n",
    "def driver():\n",
    "    allValidSequence = stackOutput(string=input(), pushed=0, stack=[], newstring='', output=[])\n",
    "    try:\n",
    "        while True:\n",
    "            if input() in allValidSequence:\n",
    "                print('YES')\n",
    "            else:\n",
    "                print('NO')\n",
    "    except EOFError:\n",
    "        pass\n",
    "\n",
    "driver()       "
   ]
  }
 ],
 "metadata": {
  "language_info": {
   "name": "python"
  },
  "orig_nbformat": 4
 },
 "nbformat": 4,
 "nbformat_minor": 2
}
