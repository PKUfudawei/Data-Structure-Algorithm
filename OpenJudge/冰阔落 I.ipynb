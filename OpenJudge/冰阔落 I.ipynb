{
 "cells": [
  {
   "cell_type": "code",
   "execution_count": 8,
   "metadata": {},
   "outputs": [
    {
     "name": "stdout",
     "output_type": "stream",
     "text": [
      "No\n",
      "Yes\n",
      "2\n",
      "1 3\n"
     ]
    }
   ],
   "source": [
    "def getRoot(a):\n",
    "    global parent\n",
    "    if parent[a]!=a:\n",
    "        parent[a]=getRoot(parent[a])\n",
    "    return parent[a]\n",
    "\n",
    "def merge(a,b):\n",
    "    global parent\n",
    "    if getRoot(a)==getRoot(b):\n",
    "        return\n",
    "    parent[getRoot(b)]=getRoot(a)\n",
    "\n",
    "def query(a,b):\n",
    "    return getRoot(a)==getRoot(b)\n",
    "\n",
    "def driver():\n",
    "    while True:\n",
    "        try:\n",
    "            n,m=map(int,input().split())\n",
    "            global parent\n",
    "            parent=[i for i in range(n+1)]\n",
    "            for i in range(m):\n",
    "                a,b=map(int,input().split())\n",
    "                if query(a,b):\n",
    "                    print('Yes')\n",
    "                else:\n",
    "                    print('No')\n",
    "                    merge(a,b)\n",
    "            \n",
    "            lst=list(set([getRoot(i) for i in range(1,n+1)]))\n",
    "            print(len(lst))\n",
    "            lst.sort()\n",
    "            lst=[str(lst[i]) for i in range(len(lst))]\n",
    "            print(' '.join(lst))\n",
    "            \n",
    "        except:\n",
    "            break\n",
    "\n",
    "driver()"
   ]
  },
  {
   "cell_type": "code",
   "execution_count": null,
   "metadata": {},
   "outputs": [],
   "source": []
  }
 ],
 "metadata": {
  "interpreter": {
   "hash": "cccc6b24c42b92f0f5397c28f29e0b94ee4e833e31f323dd2f4eab36a0e1136b"
  },
  "kernelspec": {
   "display_name": "Python 3.9.9 ('base')",
   "language": "python",
   "name": "python3"
  },
  "language_info": {
   "codemirror_mode": {
    "name": "ipython",
    "version": 3
   },
   "file_extension": ".py",
   "mimetype": "text/x-python",
   "name": "python",
   "nbconvert_exporter": "python",
   "pygments_lexer": "ipython3",
   "version": "3.9.9"
  },
  "orig_nbformat": 4
 },
 "nbformat": 4,
 "nbformat_minor": 2
}
