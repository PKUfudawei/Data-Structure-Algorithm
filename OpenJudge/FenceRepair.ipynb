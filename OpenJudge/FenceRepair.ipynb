{
 "cells": [
  {
   "cell_type": "code",
   "execution_count": 27,
   "metadata": {},
   "outputs": [
    {
     "name": "stdout",
     "output_type": "stream",
     "text": [
      "34\n"
     ]
    }
   ],
   "source": [
    "def appendHeap(heap, node): ## the root is the smallest element\n",
    "    heap.append(node)\n",
    "    i=len(heap)-1\n",
    "    \n",
    "    while i>0:\n",
    "        if heap[i][0]<heap[(i-1)//2][0]:\n",
    "            heap[i], heap[(i-1)//2] = heap[(i-1)//2], heap[i]\n",
    "            i = (i-1)//2\n",
    "        else:\n",
    "            break\n",
    "    return heap\n",
    "\n",
    "def popHeap(heap):\n",
    "    heap[0], heap[-1]=heap[-1], heap[0]\n",
    "    res = heap.pop()\n",
    "    i=0\n",
    "    while i < len(heap):\n",
    "        if 2*i+1>len(heap)-1:\n",
    "            break\n",
    "        elif 2*i+2<=len(heap)-1 and heap[2*i+2][0]<heap[2*i+1][0]:\n",
    "            j=2*i+2\n",
    "        else:\n",
    "            j=2*i+1\n",
    "            \n",
    "        if heap[i][0]>heap[j][0]:\n",
    "            heap[i], heap[j] = heap[j], heap[i]\n",
    "            i=j\n",
    "        else:\n",
    "            break\n",
    "        \n",
    "    return res\n",
    "\n",
    "def minWPL(heap):\n",
    "    WPL=0\n",
    "    while len(heap)>1:\n",
    "        left=popHeap(heap)\n",
    "        right=popHeap(heap)\n",
    "        appendHeap(heap, (left[0]+right[0], left, right))\n",
    "        WPL += left[0]+right[0]\n",
    "    \n",
    "    return WPL\n",
    "\n",
    "def driver():\n",
    "    n=int(input())\n",
    "    heap=[]\n",
    "    for i in range(n):\n",
    "        heap=appendHeap(heap, (int(input()), None, None))\n",
    "    \n",
    "    print(minWPL(heap))\n",
    "    \n",
    "driver()"
   ]
  },
  {
   "cell_type": "code",
   "execution_count": null,
   "metadata": {},
   "outputs": [],
   "source": []
  }
 ],
 "metadata": {
  "interpreter": {
   "hash": "cccc6b24c42b92f0f5397c28f29e0b94ee4e833e31f323dd2f4eab36a0e1136b"
  },
  "kernelspec": {
   "display_name": "Python 3.9.9 ('base')",
   "language": "python",
   "name": "python3"
  },
  "language_info": {
   "codemirror_mode": {
    "name": "ipython",
    "version": 3
   },
   "file_extension": ".py",
   "mimetype": "text/x-python",
   "name": "python",
   "nbconvert_exporter": "python",
   "pygments_lexer": "ipython3",
   "version": "3.9.9"
  },
  "orig_nbformat": 4
 },
 "nbformat": 4,
 "nbformat_minor": 2
}
