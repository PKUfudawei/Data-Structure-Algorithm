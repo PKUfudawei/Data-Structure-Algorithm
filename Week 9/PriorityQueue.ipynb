{
 "cells": [
  {
   "cell_type": "code",
   "execution_count": 6,
   "metadata": {},
   "outputs": [],
   "source": [
    "class BinaryHeap():\n",
    "    def __init__(self) -> None:\n",
    "        self.heapList=[0]\n",
    "        self.currentSize=0\n",
    "\n",
    "    def percUp(self,i):\n",
    "        while i//2>0:\n",
    "            if self.heapList[i]<self.heapList[i//2]:\n",
    "                self.heapList[i], self.heapList[i//2]=self.heapList[i//2], self.heapList[i]\n",
    "            i=i//2\n",
    "    \n",
    "    def insert(self,k):\n",
    "        self.heapList.append(k)\n",
    "        self.currentSize+=1\n",
    "        self.percUp(self.currentSize)\n",
    "    \n",
    "    def minChild(self,i):\n",
    "        if i*2+1>self.currentSize:\n",
    "            return i*2\n",
    "        else:\n",
    "            if self.heapList[i*2]<self.heapList[i*2+1]:\n",
    "                return i*2\n",
    "            else:\n",
    "                return i*2+1\n",
    "\n",
    "    def percDown(self,i):\n",
    "        while i*2<=self.currentSize:\n",
    "            mc=self.minChild(i)\n",
    "            if self.heapList[i]>self.heapList[mc]:\n",
    "                self.heapList[i],self.heapList[mc]=self.heapList[mc],self.heapList[i]\n",
    "            i=mc\n",
    "\n",
    "    def delMin(self):\n",
    "        deletedValue=self.heapList[1]\n",
    "        self.heapList[1]=self.heapList[self.currentSize]\n",
    "        self.currentSize-=1\n",
    "        self.heapList.pop()\n",
    "        self.percDown(1)\n",
    "        return deletedValue\n",
    "\n",
    "    def buildHeap(self,someList):\n",
    "        i=len(someList)//2\n",
    "        self.currentSize=len(someList)\n",
    "        self.heapList=[0]+someList\n",
    "        print(len(self.heapList),i)\n",
    "        while(i>0):\n",
    "            print(self.heapList,i)\n",
    "            self.percDown(i)\n",
    "            i=i-1\n",
    "        print(self.heapList,i)\n"
   ]
  },
  {
   "cell_type": "code",
   "execution_count": null,
   "metadata": {},
   "outputs": [],
   "source": []
  }
 ],
 "metadata": {
  "interpreter": {
   "hash": "cccc6b24c42b92f0f5397c28f29e0b94ee4e833e31f323dd2f4eab36a0e1136b"
  },
  "kernelspec": {
   "display_name": "Python 3.9.9 ('base')",
   "language": "python",
   "name": "python3"
  },
  "language_info": {
   "codemirror_mode": {
    "name": "ipython",
    "version": 3
   },
   "file_extension": ".py",
   "mimetype": "text/x-python",
   "name": "python",
   "nbconvert_exporter": "python",
   "pygments_lexer": "ipython3",
   "version": "3.9.9"
  },
  "orig_nbformat": 4
 },
 "nbformat": 4,
 "nbformat_minor": 2
}
