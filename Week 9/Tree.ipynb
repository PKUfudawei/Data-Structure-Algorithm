{
 "cells": [
  {
   "cell_type": "code",
   "execution_count": 1,
   "metadata": {},
   "outputs": [],
   "source": [
    "def BinaryTree(r):\n",
    "    return [r, [], []]\n",
    "\n",
    "def insertLeft(root, newBranch):\n",
    "    t=root.pop(1)\n",
    "    if len(t)>1:\n",
    "        root.insert(1, [newBranch, t, []])\n",
    "    else:\n",
    "        root.insert(1, [newBranch, [], []])\n",
    "    return root\n",
    "\n",
    "def insertRight(root, newBranch):\n",
    "    t=root.pop(2)\n",
    "    if len(t)>1:\n",
    "        root.insert(2,[newBranch, [], t])\n",
    "    else:\n",
    "        root.insert(2, [newBranch, [], []])\n",
    "    return root\n",
    "\n",
    "def getRootVal(root):\n",
    "    return root[0]\n",
    "\n",
    "def setRootVal(root, newVal):\n",
    "    root[0]=newVal\n",
    "\n",
    "def getLeftChild(root):\n",
    "    return root[1]\n",
    "\n",
    "def getRightChild(root):\n",
    "    return root[2]"
   ]
  },
  {
   "cell_type": "code",
   "execution_count": 2,
   "metadata": {},
   "outputs": [
    {
     "name": "stdout",
     "output_type": "stream",
     "text": [
      "r [3, [5, [4, [], []], []], [7, [], [6, [], []]]]\n",
      "[5, [4, [], []], []]\n",
      "[3, [9, [4, [], []], []], [7, [], [6, [], []]]]\n",
      "[3, [9, [11, [4, [], []], []], []], [7, [], [6, [], []]]]\n",
      "[6, [], []]\n"
     ]
    }
   ],
   "source": [
    "r=BinaryTree(3)\n",
    "insertLeft(r,4)\n",
    "insertLeft(r,5)\n",
    "insertRight(r,6)\n",
    "insertRight(r,7)\n",
    "print(\"r\",r)\n",
    "l=getLeftChild(r)\n",
    "print(l)\n",
    "setRootVal(l,9)\n",
    "print(r)\n",
    "insertLeft(l,11)\n",
    "print(r)\n",
    "print(getRightChild(getRightChild(r)))"
   ]
  },
  {
   "cell_type": "code",
   "execution_count": 3,
   "metadata": {},
   "outputs": [],
   "source": [
    "class BinaryTree:\n",
    "    def __init__(self, rootObj) -> None:\n",
    "        self.key=rootObj\n",
    "        self.leftChild=None\n",
    "        self.rightChild=None\n",
    "\n",
    "    def insertLeft(self, newNode):\n",
    "        if self.leftChild==None:\n",
    "            self.leftChild=BinaryTree(newNode)\n",
    "        else:\n",
    "            t = BinaryTree(newNode)\n",
    "            t.leftChild=self.leftChild\n",
    "            self.leftChild=t\n",
    "    \n",
    "    def insertRight(self, newNode):\n",
    "        if self.rightChild==None:\n",
    "            self.rightChild=BinaryTree(newNode)\n",
    "        else:\n",
    "            t=BinaryTree(newNode)\n",
    "            t.rightChild=self.rightChild\n",
    "            self.rightChild=t\n",
    "\n",
    "    def getLeftChild(self):\n",
    "        return self.leftChild\n",
    "\n",
    "    def getRightChild(self):\n",
    "        return self.rightChild\n",
    "\n",
    "    def setRootVal(self, obj):\n",
    "        self.key=obj\n",
    "\n",
    "    def getRootVal(self):\n",
    "        return self.key\n"
   ]
  },
  {
   "cell_type": "code",
   "execution_count": 4,
   "metadata": {},
   "outputs": [],
   "source": [
    "r=BinaryTree('a')\n",
    "r.insertLeft('b')\n",
    "r.insertRight('c')\n",
    "r.getRightChild().setRootVal('hello')\n",
    "r.getLeftChild().insertRight('d')"
   ]
  },
  {
   "cell_type": "code",
   "execution_count": 5,
   "metadata": {},
   "outputs": [],
   "source": [
    "class Stack:\n",
    "    def __init__(self) -> None:\n",
    "        self.items=[]\n",
    "\n",
    "    def isEmpty(self):\n",
    "        return self.items == []\n",
    "\n",
    "    def push(self, item):\n",
    "        self.items.append(item)\n",
    "\n",
    "    def pop(self):\n",
    "        return self.items.pop()\n",
    "\n",
    "    def peek(self):\n",
    "        return self.items[len(self.items)-1]\n",
    "\n",
    "    def size(self):\n",
    "        return len(self.items)\n"
   ]
  },
  {
   "cell_type": "code",
   "execution_count": 27,
   "metadata": {},
   "outputs": [],
   "source": [
    "def buildParseTree(expression):\n",
    "    exprList=list(expression.replace(' ',''))\n",
    "    #exprList=expression.split()\n",
    "    nodeStack=Stack()\n",
    "    exprTree=BinaryTree('')\n",
    "    nodeStack.push(exprTree)\n",
    "    currentTree=exprTree\n",
    "    for i in exprList:\n",
    "        if i == '(':\n",
    "            currentTree.insertLeft('')\n",
    "            nodeStack.push(currentTree)\n",
    "            currentTree=currentTree.getLeftChild()\n",
    "        elif i not in ['+','-','*','/',')']:\n",
    "            currentTree.setRootVal(float(i))\n",
    "            parent=nodeStack.pop()\n",
    "            currentTree=parent\n",
    "        elif i in ['+','-','*','/']:\n",
    "            currentTree.setRootVal(i)\n",
    "            currentTree.insertRight('')\n",
    "            nodeStack.push(currentTree)\n",
    "            currentTree=currentTree.getRightChild()\n",
    "        elif i == ')':\n",
    "            currentTree=nodeStack.pop()\n",
    "        else:\n",
    "            raise ValueError\n",
    "\n",
    "    return exprTree"
   ]
  },
  {
   "cell_type": "code",
   "execution_count": 51,
   "metadata": {},
   "outputs": [],
   "source": [
    "eTree=buildParseTree('(((1+3)/9)+(4*5))')"
   ]
  },
  {
   "cell_type": "code",
   "execution_count": 44,
   "metadata": {},
   "outputs": [],
   "source": [
    "import operator as op\n",
    "def evaluate(exprTree):\n",
    "    operators={\n",
    "        '+': op.add,\n",
    "        '-': op.sub,\n",
    "        '*': op.mul,\n",
    "        '/': op.truediv,\n",
    "    }\n",
    "    root = exprTree.getRootVal()\n",
    "    left = exprTree.getLeftChild()\n",
    "    right = exprTree.getRightChild()\n",
    "    if left and right:\n",
    "        return operators[root](evaluate(left), evaluate(right))\n",
    "    else:\n",
    "        return root\n",
    "    "
   ]
  },
  {
   "cell_type": "code",
   "execution_count": 45,
   "metadata": {},
   "outputs": [
    {
     "data": {
      "text/plain": [
       "20.444444444444443"
      ]
     },
     "execution_count": 45,
     "metadata": {},
     "output_type": "execute_result"
    }
   ],
   "source": [
    "evaluate(eTree)"
   ]
  },
  {
   "cell_type": "code",
   "execution_count": 46,
   "metadata": {},
   "outputs": [],
   "source": [
    "def preorder(tree):\n",
    "    if tree:\n",
    "        print(tree.getRootVal())\n",
    "        preorder(tree.getLeftChild())\n",
    "        preorder(tree.getRightChild())\n",
    "\n",
    "def inorder(tree):\n",
    "    if tree:\n",
    "        inorder(tree.getLeftChild())\n",
    "        print(tree.getRootVal())\n",
    "        inorder(tree.getRightChild())\n",
    "    \n",
    "def postorder(tree):\n",
    "    if tree:\n",
    "        postorder(tree.getLeftChild())\n",
    "        postorder(tree.getRightChild())\n",
    "        print(tree.getRootVal())"
   ]
  },
  {
   "cell_type": "code",
   "execution_count": 47,
   "metadata": {},
   "outputs": [],
   "source": [
    "def postorderEval(tree):\n",
    "    operators={\n",
    "        '+': op.add,\n",
    "        '-': op.sub,\n",
    "        '*': op.mul,\n",
    "        '/': op.truediv,\n",
    "    }\n",
    "    left=None\n",
    "    right=None\n",
    "    if tree:\n",
    "        root = tree.getRootVal()\n",
    "        left = postorderEval(tree.getLeftChild())\n",
    "        right = postorderEval(tree.getRightChild())\n",
    "        if left and right:\n",
    "            return operators[root](left, right)\n",
    "        else:\n",
    "            return root"
   ]
  },
  {
   "cell_type": "code",
   "execution_count": 52,
   "metadata": {},
   "outputs": [
    {
     "data": {
      "text/plain": [
       "20.444444444444443"
      ]
     },
     "execution_count": 52,
     "metadata": {},
     "output_type": "execute_result"
    }
   ],
   "source": [
    "postorderEval(eTree)"
   ]
  },
  {
   "cell_type": "code",
   "execution_count": 56,
   "metadata": {},
   "outputs": [],
   "source": [
    "def printInorderExpression(tree):\n",
    "    expression=''\n",
    "    if tree.getRootVal() in [\"+\",'-','*','/']:\n",
    "        expression='('+printInorderExpression(tree.getLeftChild())\n",
    "        expression += str(tree.getRootVal())\n",
    "        expression += printInorderExpression(tree.getRightChild())+')'\n",
    "    else: \n",
    "        #expression='('+printInorderExpression(tree.getLeftChild())\n",
    "        expression += str(tree.getRootVal())\n",
    "        #expression += printInorderExpression(tree.getRightChild())+')'\n",
    "    return expression"
   ]
  },
  {
   "cell_type": "code",
   "execution_count": 57,
   "metadata": {},
   "outputs": [
    {
     "data": {
      "text/plain": [
       "'(((1.0+3.0)/9.0)+(4.0*5.0))'"
      ]
     },
     "execution_count": 57,
     "metadata": {},
     "output_type": "execute_result"
    }
   ],
   "source": [
    "printInorderExpression(eTree)"
   ]
  },
  {
   "cell_type": "code",
   "execution_count": null,
   "metadata": {},
   "outputs": [],
   "source": []
  }
 ],
 "metadata": {
  "interpreter": {
   "hash": "cccc6b24c42b92f0f5397c28f29e0b94ee4e833e31f323dd2f4eab36a0e1136b"
  },
  "kernelspec": {
   "display_name": "Python 3.9.9 ('base')",
   "language": "python",
   "name": "python3"
  },
  "language_info": {
   "codemirror_mode": {
    "name": "ipython",
    "version": 3
   },
   "file_extension": ".py",
   "mimetype": "text/x-python",
   "name": "python",
   "nbconvert_exporter": "python",
   "pygments_lexer": "ipython3",
   "version": "3.9.9"
  },
  "orig_nbformat": 4
 },
 "nbformat": 4,
 "nbformat_minor": 2
}
