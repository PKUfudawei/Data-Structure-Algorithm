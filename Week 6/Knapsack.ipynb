{
 "cells": [
  {
   "cell_type": "markdown",
   "metadata": {},
   "source": [
    "# Dynamical Programming"
   ]
  },
  {
   "cell_type": "code",
   "execution_count": 48,
   "metadata": {},
   "outputs": [
    {
     "name": "stdout",
     "output_type": "stream",
     "text": [
      "9\n",
      "5\n",
      "4\n",
      "3\n",
      "0\n"
     ]
    },
    {
     "data": {
      "text/plain": [
       "[[0, 0, 0, 0, 0, 0, 0, 0, 0, 0, 0, 0, 0, 0, 0, 0, 0, 0, 0, 0, 0],\n",
       " [0, 0, 0, 4, 4, 4, 4, 4, 4, 4, 4, 4, 4, 4, 4, 4, 4, 4, 4, 4, 4],\n",
       " [0, 0, 0, 4, 8, 8, 8, 12, 12, 12, 12, 12, 12, 12, 12, 12, 12, 12, 12, 12, 12],\n",
       " [0, 0, 0, 4, 8, 8, 8, 12, 12, 16, 16, 16, 20, 20, 20, 20, 20, 20, 20, 20, 20],\n",
       " [0, 0, 0, 4, 8, 8, 8, 12, 12, 16, 16, 16, 20, 20, 20, 20, 22, 22, 26, 26, 26]]"
      ]
     },
     "execution_count": 48,
     "metadata": {},
     "output_type": "execute_result"
    }
   ],
   "source": [
    "def Knapsack(weight=[], value=[],maxWeight=0):\n",
    "    if len(weight)!=len(value):\n",
    "        print(\"INPUT ERROR!!!\")\n",
    "    maxItems = len(weight)\n",
    "    mostValue=[[0]*(maxWeight+1) for _ in range(maxItems)]\n",
    "    newWeight=[[0]*(maxWeight+1) for _ in range(maxItems)]\n",
    "    for i in range(0, maxItems):\n",
    "        for j in range(0, maxWeight+1):\n",
    "            if i==0 or j==0:\n",
    "                mostValue[i][j]=0\n",
    "            elif weight[i]>j:\n",
    "                mostValue[i][j]=mostValue[i-1][j]\n",
    "            elif mostValue[i-1][j]>value[i]+mostValue[i-1][j-weight[i]]:\n",
    "                mostValue[i][j]=mostValue[i-1][j]\n",
    "                newWeight[i][j]=0\n",
    "            else:\n",
    "                mostValue[i][j]=value[i]+mostValue[i-1][j-weight[i]]\n",
    "                newWeight[i][j]=weight[i]\n",
    "\n",
    "    return mostValue,newWeight\n",
    "\n",
    "def permutationWeight(newWeight, maxItems,maxWeight):\n",
    "    while maxItems>0 and maxWeight>=0:\n",
    "        print(newWeight[maxItems-1][maxWeight])\n",
    "        maxItems -= 1\n",
    "        maxWeight -= newWeight[maxItems-1][maxWeight]\n",
    "\n",
    "weight=[2,3,4,5,9]\n",
    "value=[3,4,8,8,10]\n",
    "\n",
    "k,i=Knapsack(weight=weight,value=value,maxWeight=20)\n",
    "permutationWeight(i,5,20)\n",
    "k\n"
   ]
  },
  {
   "cell_type": "markdown",
   "metadata": {},
   "source": [
    "# Recursion"
   ]
  },
  {
   "cell_type": "markdown",
   "metadata": {},
   "source": [
    "### Fuck off recursion for Knapsack problem"
   ]
  },
  {
   "cell_type": "code",
   "execution_count": 41,
   "metadata": {},
   "outputs": [
    {
     "ename": "TypeError",
     "evalue": "'list' object is not callable",
     "output_type": "error",
     "traceback": [
      "\u001b[0;31m---------------------------------------------------------------------------\u001b[0m",
      "\u001b[0;31mTypeError\u001b[0m                                 Traceback (most recent call last)",
      "\u001b[0;32m/var/folders/cf/rp73zkws3232x_89lllkwqt00000gm/T/ipykernel_6432/3773467673.py\u001b[0m in \u001b[0;36m<module>\u001b[0;34m\u001b[0m\n\u001b[1;32m     30\u001b[0m \u001b[0;34m\u001b[0m\u001b[0m\n\u001b[1;32m     31\u001b[0m \u001b[0;34m\u001b[0m\u001b[0m\n\u001b[0;32m---> 32\u001b[0;31m \u001b[0mk\u001b[0m\u001b[0;34m=\u001b[0m\u001b[0mKnapsack\u001b[0m\u001b[0;34m(\u001b[0m\u001b[0mweight\u001b[0m\u001b[0;34m=\u001b[0m\u001b[0mweight\u001b[0m\u001b[0;34m,\u001b[0m\u001b[0mvalue\u001b[0m\u001b[0;34m=\u001b[0m\u001b[0mvalue\u001b[0m\u001b[0;34m,\u001b[0m\u001b[0mmaxWeight\u001b[0m\u001b[0;34m=\u001b[0m\u001b[0;36m20\u001b[0m\u001b[0;34m)\u001b[0m\u001b[0;34m\u001b[0m\u001b[0;34m\u001b[0m\u001b[0m\n\u001b[0m\u001b[1;32m     33\u001b[0m \u001b[0;34m\u001b[0m\u001b[0m\n\u001b[1;32m     34\u001b[0m \u001b[0mk\u001b[0m\u001b[0;34m\u001b[0m\u001b[0;34m\u001b[0m\u001b[0m\n",
      "\u001b[0;32m/var/folders/cf/rp73zkws3232x_89lllkwqt00000gm/T/ipykernel_6432/3773467673.py\u001b[0m in \u001b[0;36mKnapsack\u001b[0;34m(weight, value, maxWeight)\u001b[0m\n\u001b[1;32m     17\u001b[0m         \u001b[0mvmax\u001b[0m\u001b[0;34m=\u001b[0m\u001b[0;36m0\u001b[0m\u001b[0;34m\u001b[0m\u001b[0;34m\u001b[0m\u001b[0m\n\u001b[1;32m     18\u001b[0m         \u001b[0;32mfor\u001b[0m \u001b[0mi\u001b[0m \u001b[0;32min\u001b[0m \u001b[0mrange\u001b[0m\u001b[0;34m(\u001b[0m\u001b[0mlen\u001b[0m\u001b[0;34m(\u001b[0m\u001b[0mweight\u001b[0m\u001b[0;34m)\u001b[0m\u001b[0;34m)\u001b[0m\u001b[0;34m:\u001b[0m\u001b[0;34m\u001b[0m\u001b[0;34m\u001b[0m\u001b[0m\n\u001b[0;32m---> 19\u001b[0;31m             \u001b[0mv\u001b[0m\u001b[0;34m=\u001b[0m\u001b[0mKnapsack\u001b[0m\u001b[0;34m(\u001b[0m\u001b[0mweight\u001b[0m\u001b[0;34m=\u001b[0m\u001b[0mweight\u001b[0m\u001b[0;34m.\u001b[0m\u001b[0mpop\u001b[0m\u001b[0;34m(\u001b[0m\u001b[0mi\u001b[0m\u001b[0;34m)\u001b[0m\u001b[0;34m,\u001b[0m \u001b[0mvalue\u001b[0m\u001b[0;34m=\u001b[0m\u001b[0mvalue\u001b[0m\u001b[0;34m.\u001b[0m\u001b[0mpop\u001b[0m\u001b[0;34m(\u001b[0m\u001b[0mi\u001b[0m\u001b[0;34m)\u001b[0m\u001b[0;34m,\u001b[0m \u001b[0mmaxWeight\u001b[0m\u001b[0;34m=\u001b[0m\u001b[0mmaxWeight\u001b[0m\u001b[0;34m-\u001b[0m\u001b[0mweight\u001b[0m\u001b[0;34m(\u001b[0m\u001b[0mi\u001b[0m\u001b[0;34m)\u001b[0m\u001b[0;34m)\u001b[0m\u001b[0;34m+\u001b[0m\u001b[0mvalue\u001b[0m\u001b[0;34m[\u001b[0m\u001b[0mi\u001b[0m\u001b[0;34m]\u001b[0m\u001b[0;34m\u001b[0m\u001b[0;34m\u001b[0m\u001b[0m\n\u001b[0m\u001b[1;32m     20\u001b[0m             \u001b[0;31m## !!!!!!!!!!!!!!!!!!!! can't structure weight as list, only dict has '-' operation\u001b[0m\u001b[0;34m\u001b[0m\u001b[0;34m\u001b[0m\u001b[0m\n\u001b[1;32m     21\u001b[0m             \u001b[0mvmax\u001b[0m\u001b[0;34m=\u001b[0m\u001b[0mmax\u001b[0m\u001b[0;34m(\u001b[0m\u001b[0mvmax\u001b[0m\u001b[0;34m,\u001b[0m\u001b[0mv\u001b[0m\u001b[0;34m)\u001b[0m\u001b[0;34m\u001b[0m\u001b[0;34m\u001b[0m\u001b[0m\n",
      "\u001b[0;31mTypeError\u001b[0m: 'list' object is not callable"
     ]
    }
   ],
   "source": [
    "weight=[2,3,4,5,9]\n",
    "value=[3,4,8,8,10]\n",
    "\n",
    "mostValue={}\n",
    "newWeight=[[0]*(len(weight)+1) for _ in range(len(weight))]\n",
    "\n",
    "def Knapsack(weight=[], value=[],maxWeight=0):\n",
    "    if len(weight)!=len(value):\n",
    "        print(\"INPUT ERROR!!!\")\n",
    "    maxItems = len(weight)\n",
    "\n",
    "    if weight==[] or value==[] or maxWeight==0:\n",
    "        return 0\n",
    "    elif (tuple(weight), tuple(value), maxWeight) in mostValue:\n",
    "        return mostValue[(tuple(weight, value), maxWeight)]\n",
    "    else:\n",
    "        vmax=0\n",
    "        for i in range(len(weight)):\n",
    "            v=Knapsack(weight=weight.pop(i), value=value.pop(i), maxWeight=maxWeight-weight(i))+value[i]\n",
    "            ## !!!!!!!!!!!!!!!!!!!! can't structure weight as list, only set has '-' operation\n",
    "            vmax=max(vmax,v)\n",
    "\n",
    "        mostValue[(tuple(weight), tuple(value), maxWeight)]=vmax\n",
    "\n",
    "\n",
    "    return mostValue\n",
    "\n",
    "\n",
    "\n",
    "\n",
    "\n",
    "k=Knapsack(weight=weight,value=value,maxWeight=20)\n",
    "\n",
    "k\n"
   ]
  },
  {
   "cell_type": "code",
   "execution_count": 45,
   "metadata": {},
   "outputs": [],
   "source": [
    "a={1,2,3,4,5,6}"
   ]
  },
  {
   "cell_type": "code",
   "execution_count": 46,
   "metadata": {},
   "outputs": [
    {
     "data": {
      "text/plain": [
       "{1, 2, 3, 4, 5}"
      ]
     },
     "execution_count": 46,
     "metadata": {},
     "output_type": "execute_result"
    }
   ],
   "source": [
    "a-{6}"
   ]
  },
  {
   "cell_type": "code",
   "execution_count": null,
   "metadata": {},
   "outputs": [],
   "source": []
  }
 ],
 "metadata": {
  "interpreter": {
   "hash": "cccc6b24c42b92f0f5397c28f29e0b94ee4e833e31f323dd2f4eab36a0e1136b"
  },
  "kernelspec": {
   "display_name": "Python 3.9.9 ('base': conda)",
   "language": "python",
   "name": "python3"
  },
  "language_info": {
   "codemirror_mode": {
    "name": "ipython",
    "version": 3
   },
   "file_extension": ".py",
   "mimetype": "text/x-python",
   "name": "python",
   "nbconvert_exporter": "python",
   "pygments_lexer": "ipython3",
   "version": "3.9.9"
  },
  "orig_nbformat": 4
 },
 "nbformat": 4,
 "nbformat_minor": 2
}
