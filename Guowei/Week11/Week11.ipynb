{
 "cells": [
  {
   "cell_type": "markdown",
   "metadata": {},
   "source": [
    "### 插入排序"
   ]
  },
  {
   "cell_type": "code",
   "execution_count": 14,
   "metadata": {},
   "outputs": [],
   "source": [
    "def insertSort(a, key=lambda x,y: x<y):\n",
    "    for i in range(1, len(a)):\n",
    "        e, j = a[i], i\n",
    "        while j > 0 and key(e, a[j-1]):\n",
    "            a[j] = a[j-1]\n",
    "            j -= 1\n",
    "        a[j]=e\n",
    "    return a\n",
    "        "
   ]
  },
  {
   "cell_type": "markdown",
   "metadata": {},
   "source": [
    "### 改进的插入排序:希尔(shell)排序"
   ]
  },
  {
   "cell_type": "code",
   "execution_count": 17,
   "metadata": {},
   "outputs": [],
   "source": [
    "def shellSort(a):\n",
    "    D=len(a)//2\n",
    "    while D>0:\n",
    "        for i in range(D):\n",
    "            a[i::D]=insertSort(a[i::D])\n",
    "        D = D//2\n",
    "    return a"
   ]
  },
  {
   "cell_type": "code",
   "execution_count": 18,
   "metadata": {},
   "outputs": [
    {
     "data": {
      "text/plain": [
       "[0, 1, 2, 3, 4, 5, 6, 7, 8, 9]"
      ]
     },
     "execution_count": 18,
     "metadata": {},
     "output_type": "execute_result"
    }
   ],
   "source": [
    "x=[1,3,5,7,9,2,4,6,8,0]\n",
    "x=shellSort(x)\n",
    "x"
   ]
  },
  {
   "cell_type": "markdown",
   "metadata": {},
   "source": [
    "### 选择排序"
   ]
  },
  {
   "cell_type": "code",
   "execution_count": null,
   "metadata": {},
   "outputs": [],
   "source": [
    "def selectionSort(a):\n",
    "    n = len(a)\n",
    "    for i in range(n-1):\n",
    "        minPos = i\n",
    "        for j in range(i+1, n):\n",
    "            if a[j]<a[minPos]:\n",
    "                minPos = j\n",
    "        if minPos!=i:\n",
    "            a[minPos], a[i] = a[i], a[minPos]"
   ]
  },
  {
   "cell_type": "markdown",
   "metadata": {},
   "source": [
    "### 冒泡排序"
   ]
  },
  {
   "cell_type": "code",
   "execution_count": null,
   "metadata": {},
   "outputs": [],
   "source": [
    "def bubbleSort(a):\n",
    "    n = len(a)\n",
    "    for i in range(1, n):\n",
    "        sorted = True\n",
    "        for j in range(n-i):\n",
    "            if a[j+1]<a[j]:\n",
    "                a[j+1], a[j] = a[j], a[j+1]\n",
    "                sorted=False\n",
    "        if sorted:\n",
    "            break"
   ]
  },
  {
   "cell_type": "markdown",
   "metadata": {},
   "source": [
    "### 归并排序"
   ]
  },
  {
   "cell_type": "code",
   "execution_count": 19,
   "metadata": {},
   "outputs": [
    {
     "data": {
      "text/plain": [
       "[1, 3, 7, 7, 12, 41, 98]"
      ]
     },
     "execution_count": 19,
     "metadata": {},
     "output_type": "execute_result"
    }
   ],
   "source": [
    "def merge(lst, start, middle, end, tmp):\n",
    "    i, j = start, middle+1\n",
    "    p = 0\n",
    "    while i<=middle and j<=end:\n",
    "        if lst[i]<lst[j]:\n",
    "            tmp[p] = lst[i]\n",
    "            i += 1\n",
    "        else:\n",
    "            tmp[p] = lst[j]\n",
    "            j += 1\n",
    "        p += 1\n",
    "    \n",
    "    while i <= middle:\n",
    "        tmp[p] = lst[i]\n",
    "        p += 1\n",
    "        i += 1\n",
    "    while j <= end:\n",
    "        tmp[p] = lst[j]\n",
    "        p += 1\n",
    "        j += 1\n",
    "    for i in range(end-start+1):\n",
    "        lst[start+i] = tmp[i]\n",
    "        \n",
    "def mergeSort(lst, start, end, tmp): ## use tmp to avoid stack overflow\n",
    "    if start<end:\n",
    "        middle = (start+end)//2\n",
    "        mergeSort(lst, start, middle, tmp)\n",
    "        mergeSort(lst, middle+1, end, tmp)\n",
    "        merge(lst, start, middle, end, tmp)\n",
    "\n",
    "lst=[1,41,7,98,7,12,3]\n",
    "tmp=[0]*len(lst)\n",
    "mergeSort(lst, 0, len(lst)-1, tmp)\n",
    "lst"
   ]
  },
  {
   "cell_type": "markdown",
   "metadata": {},
   "source": [
    "### 逆序数"
   ]
  },
  {
   "cell_type": "code",
   "execution_count": null,
   "metadata": {},
   "outputs": [],
   "source": [
    "def mergeCount(lst, start, middle, end, tmp):\n",
    "    i, j = start, middle+1\n",
    "    p, count = 0, 0\n",
    "    while i<=middle and j<=end:\n",
    "        if lst[i]<lst[j]:\n",
    "            tmp[p] = lst[i]\n",
    "            i += 1\n",
    "        else:\n",
    "            tmp[p] = lst[j]\n",
    "            j += 1\n",
    "            count += middle-i+1\n",
    "        p += 1\n",
    "    \n",
    "    while i <= middle:\n",
    "        tmp[p] = lst[i]\n",
    "        p += 1\n",
    "        i += 1\n",
    "    while j <= end:\n",
    "        tmp[p] = lst[j]\n",
    "        p += 1\n",
    "        j += 1\n",
    "    for i in range(end-start+1):\n",
    "        lst[start+i] = tmp[i]\n",
    "        \n",
    "    return count\n",
    "        \n",
    "def mergeSortCount(lst, start, end, tmp, count): ## use tmp to avoid stack overflow\n",
    "    if start<end:\n",
    "        middle = (start+end)//2\n",
    "        left_count = mergeSortCount(lst, start, middle, tmp, count)\n",
    "        right_count = mergeSortCount(lst, middle+1, end, tmp, count)\n",
    "        merge_count = mergeCount(lst, start, middle, end, tmp, count)\n",
    "        return left_count+right_count+merge_count\n",
    "    else:\n",
    "        return 0"
   ]
  },
  {
   "cell_type": "markdown",
   "metadata": {},
   "source": [
    "### 快排"
   ]
  },
  {
   "cell_type": "code",
   "execution_count": null,
   "metadata": {},
   "outputs": [],
   "source": [
    "def quickSort(lst, start, end):\n",
    "    if start >= end:\n",
    "        return\n",
    "    i, j = start, end\n",
    "    while i != j:\n",
    "        while i<j and lst[i] <= lst[j]:\n",
    "            j -= 1\n",
    "        lst[i], lst[j] = lst[j], lst[i]\n",
    "        while i<j and lst[i] <= lst[j]:\n",
    "            i += 1\n",
    "        lst[i], lst[j] = lst[j], lst[i]\n",
    "    quickSort(lst, start, i-1)\n",
    "    quickSort(lst, i+1, end)"
   ]
  },
  {
   "cell_type": "markdown",
   "metadata": {},
   "source": [
    "### 快排: 尾递归优化"
   ]
  },
  {
   "cell_type": "code",
   "execution_count": null,
   "metadata": {},
   "outputs": [],
   "source": [
    "def tailRecursiveQuickSort(lst, start, end):\n",
    "    if start >= end:\n",
    "        return\n",
    "    i, j = start, end\n",
    "    while i != j:\n",
    "        while i<j and lst[i] <= lst[j]:\n",
    "            j -= 1\n",
    "        lst[i], lst[j] = lst[j], lst[i]\n",
    "        while i<j and lst[i] <= lst[j]:\n",
    "            i += 1\n",
    "        lst[i], lst[j] = lst[j], lst[i]\n",
    "    \n",
    "    if i-start < end-i:\n",
    "        tailRecursiveQuickSort(lst, start, i-1)\n",
    "        start = i+1\n",
    "    else:\n",
    "        tailRecursiveQuickSort(lst, i+1, end)\n",
    "        end = i-1"
   ]
  },
  {
   "cell_type": "markdown",
   "metadata": {},
   "source": [
    "### 汉诺塔问题"
   ]
  },
  {
   "cell_type": "code",
   "execution_count": 21,
   "metadata": {},
   "outputs": [
    {
     "name": "stdout",
     "output_type": "stream",
     "text": [
      "A->B\n",
      "A->C\n",
      "B->C\n",
      "A->B\n",
      "C->A\n",
      "C->B\n",
      "A->B\n",
      "A->C\n",
      "B->C\n",
      "B->A\n",
      "C->A\n",
      "B->C\n",
      "A->B\n",
      "A->C\n",
      "B->C\n"
     ]
    }
   ],
   "source": [
    "def Hanoi(n, start, middle, end):\n",
    "    if n==1:\n",
    "        print(start+'->'+end)\n",
    "        return\n",
    "    Hanoi(n-1, start=start, middle=end, end=middle)\n",
    "    print(start+'->'+end)\n",
    "    Hanoi(n-1, start=middle, middle=start, end=end)\n",
    "\n",
    "def driver():\n",
    "    n=int(input())\n",
    "    Hanoi(n, 'A', 'B', 'C')\n",
    "    \n",
    "driver()"
   ]
  },
  {
   "cell_type": "markdown",
   "metadata": {},
   "source": [
    "### 堆排序"
   ]
  },
  {
   "cell_type": "code",
   "execution_count": 25,
   "metadata": {},
   "outputs": [
    {
     "name": "stdout",
     "output_type": "stream",
     "text": [
      "[2, 5, 13, 31, 56]\n",
      "[56, 31, 13]\n",
      "[56, 5, 13]\n",
      "[31, 2, 13]\n"
     ]
    }
   ],
   "source": [
    "import heapq\n",
    "def heapSorted(iter):\n",
    "    h=[]\n",
    "    for value in iter:\n",
    "        heapq.heappush(h, value)\n",
    "    return [heapq.heappop(h) for i in range(len(h))]\n",
    "\n",
    "a=(2,13,56,31,5)\n",
    "print(heapSorted(a))\n",
    "print(heapq.nlargest(3, a))\n",
    "print(heapq.nlargest(3, a, key=lambda x:x%10))\n",
    "print(heapq.nsmallest(3, a, key=lambda x:x%10))"
   ]
  },
  {
   "cell_type": "markdown",
   "metadata": {},
   "source": [
    "### 桶排序"
   ]
  },
  {
   "cell_type": "code",
   "execution_count": 28,
   "metadata": {},
   "outputs": [
    {
     "name": "stdout",
     "output_type": "stream",
     "text": [
      "[2, 2, 3, 3, 4, 4, 8, 9, 12, 12]\n"
     ]
    }
   ],
   "source": [
    "def bucketSort(lst, m, key=lambda x:x):\n",
    "    buckets=[[] for i in range(m)]\n",
    "    for i in lst:\n",
    "        buckets[key(i)].append(i)\n",
    "    i = 0\n",
    "    for bkt in buckets:\n",
    "        for ele in bkt:\n",
    "            lst[i] = ele\n",
    "            i += 1\n",
    "            \n",
    "lst = [2,3,4,8,9,12,3,2,4,12]\n",
    "bucketSort(lst, 13)\n",
    "print(lst)"
   ]
  },
  {
   "cell_type": "markdown",
   "metadata": {},
   "source": [
    "### 基数排序"
   ]
  },
  {
   "cell_type": "code",
   "execution_count": 29,
   "metadata": {},
   "outputs": [
    {
     "name": "stdout",
     "output_type": "stream",
     "text": [
      "[6, 21, 48, 62, 87, 123, 143, 269, 300, 745]\n"
     ]
    }
   ],
   "source": [
    "def radixSort(lst, m, d, key):\n",
    "    for k in range(d):\n",
    "        buckets = [[] for _ in range(m)]\n",
    "        for x in lst:\n",
    "            buckets[key(x, k)].append(x)\n",
    "            i = 0\n",
    "            for bkt in buckets:\n",
    "                for ele in bkt:\n",
    "                    lst[i]=ele\n",
    "                    i+=1\n",
    "                    \n",
    "def getKey(x, d):\n",
    "    tmp = None\n",
    "    for k in range(d+1):\n",
    "        tmp = x%10\n",
    "        x //= 10\n",
    "    return tmp\n",
    "\n",
    "lst = [123,21,48,745,143,62,269,87,300,6]\n",
    "radixSort(lst, 10, 3, getKey)\n",
    "print(lst)"
   ]
  },
  {
   "cell_type": "code",
   "execution_count": null,
   "metadata": {},
   "outputs": [],
   "source": []
  }
 ],
 "metadata": {
  "interpreter": {
   "hash": "cccc6b24c42b92f0f5397c28f29e0b94ee4e833e31f323dd2f4eab36a0e1136b"
  },
  "kernelspec": {
   "display_name": "Python 3.9.12 ('base')",
   "language": "python",
   "name": "python3"
  },
  "language_info": {
   "codemirror_mode": {
    "name": "ipython",
    "version": 3
   },
   "file_extension": ".py",
   "mimetype": "text/x-python",
   "name": "python",
   "nbconvert_exporter": "python",
   "pygments_lexer": "ipython3",
   "version": "3.9.12"
  },
  "orig_nbformat": 4
 },
 "nbformat": 4,
 "nbformat_minor": 2
}
