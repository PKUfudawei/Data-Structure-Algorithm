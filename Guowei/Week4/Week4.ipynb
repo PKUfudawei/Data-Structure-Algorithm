{
 "cells": [
  {
   "cell_type": "markdown",
   "metadata": {},
   "source": [
    "### 数字三角形,递归的话会超时"
   ]
  },
  {
   "cell_type": "code",
   "execution_count": null,
   "metadata": {},
   "outputs": [],
   "source": [
    "def maxSum(D, i, j, N):\n",
    "    if i==N-1:\n",
    "        return D[i][j]\n",
    "    else:\n",
    "        return max(maxSum(D,i+1,j,N), maxSum(D,i+1,j+1))+D[i][j]\n",
    "    \n",
    "def driver():\n",
    "    N=input()\n",
    "    D=[]\n",
    "    for i in range(N):\n",
    "        row=list(map(int, input().split()))\n",
    "        D.append(row)\n",
    "    print(maxSum(D,0,0,N))\n",
    "\n",
    "driver()\n",
    "    "
   ]
  },
  {
   "cell_type": "markdown",
   "metadata": {},
   "source": [
    "### 因为递归会引入大量重复计算路径,复杂度为$O(2^n)$\n",
    "改进的办法是对每个计算得到的maxSum(D,i,j,N)都保存下来,可避免重复计算,复杂度降为$\\frac{n(n+1)}{2}\\approx O(n^2)$"
   ]
  },
  {
   "cell_type": "code",
   "execution_count": 12,
   "metadata": {},
   "outputs": [
    {
     "name": "stdout",
     "output_type": "stream",
     "text": [
      "30\n"
     ]
    }
   ],
   "source": [
    "def getMaxSum(D, i, j, maxSum):\n",
    "    if i==len(maxSum)-1:\n",
    "        maxSum[i][j]==D[i][j]\n",
    "        return D[i][j]\n",
    "    elif maxSum[i][j]!=-1:\n",
    "        return maxSum[i][j]\n",
    "    else:\n",
    "        maxSum[i][j]=max(getMaxSum(D,i+1,j,maxSum),getMaxSum(D,i+1,j+1,maxSum))+D[i][j]\n",
    "        return maxSum[i][j]\n",
    "\n",
    "def driver():\n",
    "    n=int(input())\n",
    "    maxSum=[[-1 for _ in range(i+1)] for i in range(n)]\n",
    "    D=[]\n",
    "    for i in range(n):\n",
    "            D.append(list(map(int,input().split())))\n",
    "        \n",
    "    print(getMaxSum(D,0,0,maxSum))\n",
    "    \n",
    "driver()"
   ]
  },
  {
   "cell_type": "markdown",
   "metadata": {},
   "source": [
    "### 递归改递推"
   ]
  },
  {
   "cell_type": "code",
   "execution_count": 15,
   "metadata": {},
   "outputs": [
    {
     "name": "stdout",
     "output_type": "stream",
     "text": [
      "30\n"
     ]
    }
   ],
   "source": [
    "def calculateMaxSum(D):\n",
    "    n=len(D)\n",
    "    maxSum=[[-1 for _ in range(i)] for i in range(1,n+1)]\n",
    "    for i in range(n):\n",
    "        maxSum[n-1][i]=D[n-1][i]\n",
    "    for i in range(n-2,-1,-1):\n",
    "        for j in range(i+1):\n",
    "            maxSum[i][j]=max(maxSum[i+1][j], maxSum[i+1][j+1])+D[i][j]\n",
    "    \n",
    "    return maxSum[0][0]\n",
    "\n",
    "def driver():\n",
    "    n=int(input())\n",
    "    D=[]\n",
    "    for _ in range(n):\n",
    "        D.append(list(map(int, input().split())))\n",
    "        \n",
    "    print(calculateMaxSum(D))\n",
    "    \n",
    "driver()"
   ]
  },
  {
   "cell_type": "markdown",
   "metadata": {},
   "source": [
    "### 最长上升子序列"
   ]
  },
  {
   "cell_type": "markdown",
   "metadata": {},
   "source": [
    "递归型"
   ]
  },
  {
   "cell_type": "code",
   "execution_count": 52,
   "metadata": {},
   "outputs": [
    {
     "name": "stdout",
     "output_type": "stream",
     "text": [
      "4\n"
     ]
    }
   ],
   "source": [
    "def maxLenEndWithK(someList,k,maxLen):\n",
    "    n=len(someList)\n",
    "    if k==1:\n",
    "        maxLen[k]=1\n",
    "        return maxLen[k]\n",
    "    elif maxLen[k] != 0:\n",
    "        return maxLen[k]\n",
    "    else:\n",
    "        maxLen[k]=max([maxLenEndWithK(someList,i,maxLen)+1 for i in range(1,k) if someList[i-1]<someList[k-1]], default=1)\n",
    "        return maxLen[k]\n",
    "            \n",
    "def driver():\n",
    "    n=int(input())\n",
    "    numbers=list(map(int, input().split()))\n",
    "    maxLen=[0 for _ in range(n+1)]\n",
    "    maxLenEndWithK(numbers, n, maxLen)\n",
    "    print(max(maxLen[1:]))\n",
    "    \n",
    "driver()\n",
    "            \n",
    "    "
   ]
  },
  {
   "cell_type": "markdown",
   "metadata": {},
   "source": [
    "递推型"
   ]
  },
  {
   "cell_type": "code",
   "execution_count": 54,
   "metadata": {},
   "outputs": [
    {
     "name": "stdout",
     "output_type": "stream",
     "text": [
      "4\n"
     ]
    }
   ],
   "source": [
    "def maxLenEndWithK(someList,maxLen=[]):\n",
    "    n=len(someList)\n",
    "    maxLen=[0 for _ in range(n+1)]\n",
    "    maxLen[1]=1\n",
    "    for i in range(1,n+1):\n",
    "        maxLen[i]=1\n",
    "        for j in range(1, i):\n",
    "            if someList[j-1]<someList[i-1]:\n",
    "                maxLen[i]=max(maxLen[j]+1,maxLen[i])\n",
    "                \n",
    "    return maxLen[-1]\n",
    "\n",
    "def driver():\n",
    "    n=int(input())\n",
    "    numbers=list(map(int, input().split()))\n",
    "    print(maxLenEndWithK(numbers))\n",
    "\n",
    "driver()"
   ]
  },
  {
   "cell_type": "markdown",
   "metadata": {},
   "source": [
    "### 显然当子问题为了满足无后效性而变得间接时, 递归法也变得间接了, 此时递推法写起来更方便"
   ]
  },
  {
   "cell_type": "code",
   "execution_count": 69,
   "metadata": {},
   "outputs": [
    {
     "name": "stdout",
     "output_type": "stream",
     "text": [
      "programming contest\n",
      "2\n"
     ]
    },
    {
     "ename": "ValueError",
     "evalue": "not enough values to unpack (expected 2, got 0)",
     "output_type": "error",
     "traceback": [
      "\u001b[0;31m---------------------------------------------------------------------------\u001b[0m",
      "\u001b[0;31mValueError\u001b[0m                                Traceback (most recent call last)",
      "\u001b[0;32m/var/folders/cf/rp73zkws3232x_89lllkwqt00000gm/T/ipykernel_81205/1063705967.py\u001b[0m in \u001b[0;36m<module>\u001b[0;34m\u001b[0m\n\u001b[1;32m     26\u001b[0m         \u001b[0;32mpass\u001b[0m\u001b[0;34m\u001b[0m\u001b[0;34m\u001b[0m\u001b[0m\n\u001b[1;32m     27\u001b[0m \u001b[0;34m\u001b[0m\u001b[0m\n\u001b[0;32m---> 28\u001b[0;31m \u001b[0mdriver\u001b[0m\u001b[0;34m(\u001b[0m\u001b[0;34m)\u001b[0m\u001b[0;34m\u001b[0m\u001b[0;34m\u001b[0m\u001b[0m\n\u001b[0m",
      "\u001b[0;32m/var/folders/cf/rp73zkws3232x_89lllkwqt00000gm/T/ipykernel_81205/1063705967.py\u001b[0m in \u001b[0;36mdriver\u001b[0;34m()\u001b[0m\n\u001b[1;32m     19\u001b[0m     \u001b[0;32mtry\u001b[0m\u001b[0;34m:\u001b[0m\u001b[0;34m\u001b[0m\u001b[0;34m\u001b[0m\u001b[0m\n\u001b[1;32m     20\u001b[0m         \u001b[0;32mwhile\u001b[0m \u001b[0;32mTrue\u001b[0m\u001b[0;34m:\u001b[0m\u001b[0;34m\u001b[0m\u001b[0;34m\u001b[0m\u001b[0m\n\u001b[0;32m---> 21\u001b[0;31m             \u001b[0ms1\u001b[0m\u001b[0;34m,\u001b[0m\u001b[0ms2\u001b[0m\u001b[0;34m=\u001b[0m\u001b[0minput\u001b[0m\u001b[0;34m(\u001b[0m\u001b[0;34m)\u001b[0m\u001b[0;34m.\u001b[0m\u001b[0msplit\u001b[0m\u001b[0;34m(\u001b[0m\u001b[0;34m)\u001b[0m\u001b[0;34m\u001b[0m\u001b[0;34m\u001b[0m\u001b[0m\n\u001b[0m\u001b[1;32m     22\u001b[0m             \u001b[0mprint\u001b[0m\u001b[0;34m(\u001b[0m\u001b[0ms1\u001b[0m\u001b[0;34m,\u001b[0m\u001b[0ms2\u001b[0m\u001b[0;34m)\u001b[0m\u001b[0;34m\u001b[0m\u001b[0;34m\u001b[0m\u001b[0m\n\u001b[1;32m     23\u001b[0m             \u001b[0mprint\u001b[0m\u001b[0;34m(\u001b[0m\u001b[0mgetMaxLen\u001b[0m\u001b[0;34m(\u001b[0m\u001b[0ms1\u001b[0m\u001b[0;34m,\u001b[0m\u001b[0ms2\u001b[0m\u001b[0;34m)\u001b[0m\u001b[0;34m)\u001b[0m\u001b[0;34m\u001b[0m\u001b[0;34m\u001b[0m\u001b[0m\n",
      "\u001b[0;31mValueError\u001b[0m: not enough values to unpack (expected 2, got 0)"
     ]
    }
   ],
   "source": [
    "def getMaxLen(s1,s2):\n",
    "    n1,n2=len(s1),len(s2)\n",
    "    maxLen=[[0 for _ in range(n2+1)] for _ in range(n1+1)]  ## the max lenth of substr ended wuth (i,j) character\n",
    "    for i in range(1,n1+1):\n",
    "        for j in range(1,n2+1):\n",
    "            if s1[i-1]==s2[j-1]:\n",
    "                maxLen[i][j]=maxLen[i-1][j-1]+1\n",
    "            else:\n",
    "                maxLen[i][j]=max(maxLen[i][j-1],maxLen[i-1][j])\n",
    "                \n",
    "    return maxLen[-1][-1]\n",
    "\n",
    "\n",
    "def driver():\n",
    "    try:\n",
    "        while True:\n",
    "            s1,s2=input().split()\n",
    "            print(getMaxLen(s1,s2))\n",
    "            \n",
    "    except EOFError:\n",
    "        pass\n",
    "  \n",
    "driver()              "
   ]
  },
  {
   "cell_type": "code",
   "execution_count": 63,
   "metadata": {},
   "outputs": [
    {
     "ename": "ValueError",
     "evalue": "too many values to unpack (expected 2)",
     "output_type": "error",
     "traceback": [
      "\u001b[0;31m---------------------------------------------------------------------------\u001b[0m",
      "\u001b[0;31mValueError\u001b[0m                                Traceback (most recent call last)",
      "\u001b[0;32m/var/folders/cf/rp73zkws3232x_89lllkwqt00000gm/T/ipykernel_81205/3625690637.py\u001b[0m in \u001b[0;36m<module>\u001b[0;34m\u001b[0m\n\u001b[0;32m----> 1\u001b[0;31m \u001b[0ms1\u001b[0m\u001b[0;34m,\u001b[0m\u001b[0ms2\u001b[0m\u001b[0;34m=\u001b[0m\u001b[0minput\u001b[0m\u001b[0;34m(\u001b[0m\u001b[0;34m)\u001b[0m\u001b[0;34m.\u001b[0m\u001b[0msplit\u001b[0m\u001b[0;34m(\u001b[0m\u001b[0;34m)\u001b[0m\u001b[0;34m\u001b[0m\u001b[0;34m\u001b[0m\u001b[0m\n\u001b[0m",
      "\u001b[0;31mValueError\u001b[0m: too many values to unpack (expected 2)"
     ]
    }
   ],
   "source": [
    "s1,s2=input().split()"
   ]
  },
  {
   "cell_type": "code",
   "execution_count": null,
   "metadata": {},
   "outputs": [],
   "source": []
  }
 ],
 "metadata": {
  "interpreter": {
   "hash": "cccc6b24c42b92f0f5397c28f29e0b94ee4e833e31f323dd2f4eab36a0e1136b"
  },
  "kernelspec": {
   "display_name": "Python 3.9.9 ('base')",
   "language": "python",
   "name": "python3"
  },
  "language_info": {
   "codemirror_mode": {
    "name": "ipython",
    "version": 3
   },
   "file_extension": ".py",
   "mimetype": "text/x-python",
   "name": "python",
   "nbconvert_exporter": "python",
   "pygments_lexer": "ipython3",
   "version": "3.9.9"
  },
  "orig_nbformat": 4
 },
 "nbformat": 4,
 "nbformat_minor": 2
}
