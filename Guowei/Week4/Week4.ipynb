{
 "cells": [
  {
   "cell_type": "markdown",
   "metadata": {},
   "source": [
    "### 数字三角形,递归的话会超时"
   ]
  },
  {
   "cell_type": "code",
   "execution_count": null,
   "metadata": {},
   "outputs": [],
   "source": [
    "def maxSum(D, i, j, N):\n",
    "    if i==N-1:\n",
    "        return D[i][j]\n",
    "    else:\n",
    "        return max(maxSum(D,i+1,j,N), maxSum(D,i+1,j+1))+D[i][j]\n",
    "    \n",
    "def driver():\n",
    "    N=input()\n",
    "    D=[]\n",
    "    for i in range(N):\n",
    "        row=list(map(int, input().split()))\n",
    "        D.append(row)\n",
    "    print(maxSum(D,0,0,N))\n",
    "\n",
    "driver()\n",
    "    "
   ]
  },
  {
   "cell_type": "markdown",
   "metadata": {},
   "source": [
    "### 因为递归会引入大量重复计算路径,复杂度为$O(2^n)$\n",
    "改进的办法是对每个计算得到的maxSum(D,i,j,N)都保存下来,可避免重复计算,复杂度降为$\\frac{n(n+1)}{2}\\approx O(n^2)$"
   ]
  },
  {
   "cell_type": "code",
   "execution_count": 12,
   "metadata": {},
   "outputs": [
    {
     "name": "stdout",
     "output_type": "stream",
     "text": [
      "30\n"
     ]
    }
   ],
   "source": [
    "def getMaxSum(D, i, j, maxSum):\n",
    "    if i==len(maxSum)-1:\n",
    "        maxSum[i][j]==D[i][j]\n",
    "        return D[i][j]\n",
    "    elif maxSum[i][j]!=-1:\n",
    "        return maxSum[i][j]\n",
    "    else:\n",
    "        maxSum[i][j]=max(getMaxSum(D,i+1,j,maxSum),getMaxSum(D,i+1,j+1,maxSum))+D[i][j]\n",
    "        return maxSum[i][j]\n",
    "\n",
    "def driver():\n",
    "    n=int(input())\n",
    "    maxSum=[[-1 for _ in range(i+1)] for i in range(n)]\n",
    "    D=[]\n",
    "    for i in range(n):\n",
    "            D.append(list(map(int,input().split())))\n",
    "        \n",
    "    print(getMaxSum(D,0,0,maxSum))\n",
    "    \n",
    "driver()"
   ]
  },
  {
   "cell_type": "markdown",
   "metadata": {},
   "source": [
    "### 递归改递推"
   ]
  },
  {
   "cell_type": "code",
   "execution_count": 15,
   "metadata": {},
   "outputs": [
    {
     "name": "stdout",
     "output_type": "stream",
     "text": [
      "30\n"
     ]
    }
   ],
   "source": [
    "def calculateMaxSum(D):\n",
    "    n=len(D)\n",
    "    maxSum=[[-1 for _ in range(i)] for i in range(1,n+1)]\n",
    "    for i in range(n):\n",
    "        maxSum[n-1][i]=D[n-1][i]\n",
    "    for i in range(n-2,-1,-1):\n",
    "        for j in range(i+1):\n",
    "            maxSum[i][j]=max(maxSum[i+1][j], maxSum[i+1][j+1])+D[i][j]\n",
    "    \n",
    "    return maxSum[0][0]\n",
    "\n",
    "def driver():\n",
    "    n=int(input())\n",
    "    D=[]\n",
    "    for _ in range(n):\n",
    "        D.append(list(map(int, input().split())))\n",
    "        \n",
    "    print(calculateMaxSum(D))\n",
    "    \n",
    "driver()"
   ]
  },
  {
   "cell_type": "markdown",
   "metadata": {},
   "source": [
    "### 最长上升子序列"
   ]
  },
  {
   "cell_type": "markdown",
   "metadata": {},
   "source": [
    "递归型"
   ]
  },
  {
   "cell_type": "code",
   "execution_count": 52,
   "metadata": {},
   "outputs": [
    {
     "name": "stdout",
     "output_type": "stream",
     "text": [
      "4\n"
     ]
    }
   ],
   "source": [
    "def maxLenEndWithK(someList,k,maxLen):\n",
    "    n=len(someList)\n",
    "    if k==1:\n",
    "        maxLen[k]=1\n",
    "        return maxLen[k]\n",
    "    elif maxLen[k] != 0:\n",
    "        return maxLen[k]\n",
    "    else:\n",
    "        maxLen[k]=max([maxLenEndWithK(someList,i,maxLen)+1 for i in range(1,k) if someList[i-1]<someList[k-1]], default=1)\n",
    "        return maxLen[k]\n",
    "            \n",
    "def driver():\n",
    "    n=int(input())\n",
    "    numbers=list(map(int, input().split()))\n",
    "    maxLen=[0 for _ in range(n+1)]\n",
    "    maxLenEndWithK(numbers, n, maxLen)\n",
    "    print(max(maxLen[1:]))\n",
    "    \n",
    "driver()\n",
    "            \n",
    "    "
   ]
  },
  {
   "cell_type": "markdown",
   "metadata": {},
   "source": [
    "递推型"
   ]
  },
  {
   "cell_type": "code",
   "execution_count": 75,
   "metadata": {},
   "outputs": [
    {
     "name": "stdout",
     "output_type": "stream",
     "text": [
      "4\n"
     ]
    }
   ],
   "source": [
    "def maxLenEndWithK(someList,maxLen=[]):\n",
    "    n=len(someList)\n",
    "    maxLen=[0 for _ in range(n+1)]\n",
    "    maxLen[1]=1\n",
    "    for i in range(1,n+1):\n",
    "        maxLen[i]=1\n",
    "        for j in range(1, i):\n",
    "            if someList[j-1]<someList[i-1]:\n",
    "                maxLen[i]=max(maxLen[j]+1,maxLen[i])\n",
    "            \n",
    "    return max(maxLen)\n",
    "\n",
    "def driver():\n",
    "    n=int(input())\n",
    "    numbers=list(map(int, input().split()))\n",
    "    print(maxLenEndWithK(numbers))\n",
    "\n",
    "driver()"
   ]
  },
  {
   "cell_type": "markdown",
   "metadata": {},
   "source": [
    "### 显然当子问题为了满足无后效性而变得间接时, 递归法也变得间接了, 此时递推法写起来更方便"
   ]
  },
  {
   "cell_type": "code",
   "execution_count": 69,
   "metadata": {},
   "outputs": [
    {
     "name": "stdout",
     "output_type": "stream",
     "text": [
      "programming contest\n",
      "2\n"
     ]
    },
    {
     "ename": "ValueError",
     "evalue": "not enough values to unpack (expected 2, got 0)",
     "output_type": "error",
     "traceback": [
      "\u001b[0;31m---------------------------------------------------------------------------\u001b[0m",
      "\u001b[0;31mValueError\u001b[0m                                Traceback (most recent call last)",
      "\u001b[0;32m/var/folders/cf/rp73zkws3232x_89lllkwqt00000gm/T/ipykernel_81205/1063705967.py\u001b[0m in \u001b[0;36m<module>\u001b[0;34m\u001b[0m\n\u001b[1;32m     26\u001b[0m         \u001b[0;32mpass\u001b[0m\u001b[0;34m\u001b[0m\u001b[0;34m\u001b[0m\u001b[0m\n\u001b[1;32m     27\u001b[0m \u001b[0;34m\u001b[0m\u001b[0m\n\u001b[0;32m---> 28\u001b[0;31m \u001b[0mdriver\u001b[0m\u001b[0;34m(\u001b[0m\u001b[0;34m)\u001b[0m\u001b[0;34m\u001b[0m\u001b[0;34m\u001b[0m\u001b[0m\n\u001b[0m",
      "\u001b[0;32m/var/folders/cf/rp73zkws3232x_89lllkwqt00000gm/T/ipykernel_81205/1063705967.py\u001b[0m in \u001b[0;36mdriver\u001b[0;34m()\u001b[0m\n\u001b[1;32m     19\u001b[0m     \u001b[0;32mtry\u001b[0m\u001b[0;34m:\u001b[0m\u001b[0;34m\u001b[0m\u001b[0;34m\u001b[0m\u001b[0m\n\u001b[1;32m     20\u001b[0m         \u001b[0;32mwhile\u001b[0m \u001b[0;32mTrue\u001b[0m\u001b[0;34m:\u001b[0m\u001b[0;34m\u001b[0m\u001b[0;34m\u001b[0m\u001b[0m\n\u001b[0;32m---> 21\u001b[0;31m             \u001b[0ms1\u001b[0m\u001b[0;34m,\u001b[0m\u001b[0ms2\u001b[0m\u001b[0;34m=\u001b[0m\u001b[0minput\u001b[0m\u001b[0;34m(\u001b[0m\u001b[0;34m)\u001b[0m\u001b[0;34m.\u001b[0m\u001b[0msplit\u001b[0m\u001b[0;34m(\u001b[0m\u001b[0;34m)\u001b[0m\u001b[0;34m\u001b[0m\u001b[0;34m\u001b[0m\u001b[0m\n\u001b[0m\u001b[1;32m     22\u001b[0m             \u001b[0mprint\u001b[0m\u001b[0;34m(\u001b[0m\u001b[0ms1\u001b[0m\u001b[0;34m,\u001b[0m\u001b[0ms2\u001b[0m\u001b[0;34m)\u001b[0m\u001b[0;34m\u001b[0m\u001b[0;34m\u001b[0m\u001b[0m\n\u001b[1;32m     23\u001b[0m             \u001b[0mprint\u001b[0m\u001b[0;34m(\u001b[0m\u001b[0mgetMaxLen\u001b[0m\u001b[0;34m(\u001b[0m\u001b[0ms1\u001b[0m\u001b[0;34m,\u001b[0m\u001b[0ms2\u001b[0m\u001b[0;34m)\u001b[0m\u001b[0;34m)\u001b[0m\u001b[0;34m\u001b[0m\u001b[0;34m\u001b[0m\u001b[0m\n",
      "\u001b[0;31mValueError\u001b[0m: not enough values to unpack (expected 2, got 0)"
     ]
    }
   ],
   "source": [
    "def getMaxLen(s1,s2):\n",
    "    n1,n2=len(s1),len(s2)\n",
    "    maxLen=[[0 for _ in range(n2+1)] for _ in range(n1+1)]  ## the max lenth of substr ended wuth (i,j) character\n",
    "    for i in range(1,n1+1):\n",
    "        for j in range(1,n2+1):\n",
    "            if s1[i-1]==s2[j-1]:\n",
    "                maxLen[i][j]=maxLen[i-1][j-1]+1\n",
    "            else:\n",
    "                maxLen[i][j]=max(maxLen[i][j-1],maxLen[i-1][j])\n",
    "                \n",
    "    return maxLen[-1][-1]\n",
    "\n",
    "\n",
    "def driver():\n",
    "    try:\n",
    "        while True:\n",
    "            s1,s2=input().split()\n",
    "            print(getMaxLen(s1,s2))\n",
    "            \n",
    "    except EOFError:\n",
    "        pass\n",
    "  \n",
    "driver()              "
   ]
  },
  {
   "cell_type": "markdown",
   "metadata": {},
   "source": [
    "### 最佳加法表达式"
   ]
  },
  {
   "cell_type": "code",
   "execution_count": 99,
   "metadata": {},
   "outputs": [
    {
     "name": "stdout",
     "output_type": "stream",
     "text": [
      "[[None, None, None], [1, None, None], [12, 1234, None], [123, 15, 1234], [1234, 46, 19]]\n",
      "19\n"
     ]
    }
   ],
   "source": [
    "def cutNum(string):\n",
    "    num=[[0 for _ in range(len(string)+1)] for _ in range(len(string)+1)]\n",
    "    for i in range(1,len(string)+1):\n",
    "        for j in range(i,len(string)+1):\n",
    "            num[i][j]=int(string[i-1:j])\n",
    "    return num\n",
    "\n",
    "def minEvaluationValue(string,plusNum,num):\n",
    "    n=len(string)\n",
    "    minV=[[None for _ in range(plusNum+1)] for _ in range(n+1)]\n",
    "    for i in range(1, n+1):\n",
    "        for j in range(plusNum+1):\n",
    "            if j==0:\n",
    "                minV[i][j]=num[1][i]\n",
    "            elif j>i-1:\n",
    "                continue\n",
    "            else:\n",
    "                for k in range(j,i):\n",
    "                    if minV[i][j] is None:\n",
    "                        minV[i][j]=num[1][-1]\n",
    "                    else:\n",
    "                        minV[i][j] = min(minV[i][j], minV[k][j-1]+num[k+1][i])\n",
    "    print(minV)                    \n",
    "    return minV[-1][-1]\n",
    "    \n",
    "def driver():\n",
    "    plusNum=int(input())\n",
    "    string=input()\n",
    "    num=cutNum(string)\n",
    "    print(minEvaluationValue(string,plusNum,num))\n",
    "\n",
    "driver()"
   ]
  },
  {
   "cell_type": "markdown",
   "metadata": {},
   "source": [
    "### 背包问题\n",
    "递归解法(没有储存中间状态数组,所以不是动规)"
   ]
  },
  {
   "cell_type": "code",
   "execution_count": 100,
   "metadata": {},
   "outputs": [],
   "source": [
    "def knapSackSchemes(limit, weights, firstK):\n",
    "    if limit<=0:\n",
    "        return 1\n",
    "    elif firstK==0:\n",
    "        return 0\n",
    "    elif limit>=weights[firstK-1]:\n",
    "        return knapSackSchemes(limit, weights, firstK)+knapSackSchemes(limit-weights[firstK],weights, firstK-1)\n",
    "    else:\n",
    "        return knapSackSchemes(limit, weights, firstK)\n",
    "    \n",
    "def driver():\n",
    "    N=int(input())\n",
    "    weights=[0]\n",
    "    for _ in range(N):\n",
    "        weights.append(int(input()))\n",
    "    print(knapSackSchemes(limit=40,weights=weights,firstK=N))"
   ]
  },
  {
   "cell_type": "markdown",
   "metadata": {},
   "source": [
    "动态规划"
   ]
  },
  {
   "cell_type": "code",
   "execution_count": null,
   "metadata": {},
   "outputs": [],
   "source": [
    "def getWays(limit,weights):\n",
    "    N=len(weights)-1\n",
    "    ways=[[1 for _ in range(N+1)] for _ in range(limit+1)]\n",
    "    for l in range(limit+1):\n",
    "        for k in range(1,N+1):\n",
    "            ways[l][k]=ways[l][k-1]\n",
    "            if l-weights[k]>=0:\n",
    "                ways[l][k]+=ways[l-weights[k]][k-1]\n",
    "    \n",
    "    return ways[limit][N]\n",
    "\n",
    "def driver():\n",
    "    N=int(input())\n",
    "    weights=[0]\n",
    "    for _ in range(N):\n",
    "        weights.append(int(input()))\n",
    "    print(getWays(40,weights))\n",
    "                "
   ]
  },
  {
   "cell_type": "markdown",
   "metadata": {},
   "source": [
    "### Charm Bracelet"
   ]
  },
  {
   "cell_type": "code",
   "execution_count": 102,
   "metadata": {},
   "outputs": [],
   "source": [
    "def getMostValue(limit,weights,value):\n",
    "    N=len(weights)-1\n",
    "    mostValue=[[0 for _ in range(N+1)] for _ in range(limit)]\n",
    "    for l in range(limit+1):\n",
    "        for k in range(1,N+1):\n",
    "            if k==1:\n",
    "                if weights[k]<=limit:\n",
    "                    mostValue[l][k]=value[k]\n",
    "                else:\n",
    "                    mostValue[l][k]=0\n",
    "            else:\n",
    "                mostValue[l][k]=max(mostValue[l][k-1], mostValue[l-weights[k]][k-1])\n",
    "                \n",
    "    return mostValue[limit][N]\n",
    "\n",
    "def driver():\n",
    "    pass"
   ]
  },
  {
   "cell_type": "markdown",
   "metadata": {},
   "source": [
    "### 滑雪"
   ]
  },
  {
   "cell_type": "code",
   "execution_count": 111,
   "metadata": {},
   "outputs": [
    {
     "ename": "IndexError",
     "evalue": "list index out of range",
     "output_type": "error",
     "traceback": [
      "\u001b[0;31m---------------------------------------------------------------------------\u001b[0m",
      "\u001b[0;31mIndexError\u001b[0m                                Traceback (most recent call last)",
      "\u001b[0;32m/var/folders/cf/rp73zkws3232x_89lllkwqt00000gm/T/ipykernel_81205/3362547624.py\u001b[0m in \u001b[0;36m<module>\u001b[0;34m\u001b[0m\n\u001b[1;32m     31\u001b[0m     \u001b[0mprint\u001b[0m\u001b[0;34m(\u001b[0m\u001b[0mgetMaxLen\u001b[0m\u001b[0;34m(\u001b[0m\u001b[0mheights\u001b[0m\u001b[0;34m)\u001b[0m\u001b[0;34m)\u001b[0m\u001b[0;34m\u001b[0m\u001b[0;34m\u001b[0m\u001b[0m\n\u001b[1;32m     32\u001b[0m \u001b[0;34m\u001b[0m\u001b[0m\n\u001b[0;32m---> 33\u001b[0;31m \u001b[0mdriver\u001b[0m\u001b[0;34m(\u001b[0m\u001b[0;34m)\u001b[0m\u001b[0;34m\u001b[0m\u001b[0;34m\u001b[0m\u001b[0m\n\u001b[0m\u001b[1;32m     34\u001b[0m \u001b[0;34m\u001b[0m\u001b[0m\n",
      "\u001b[0;32m/var/folders/cf/rp73zkws3232x_89lllkwqt00000gm/T/ipykernel_81205/3362547624.py\u001b[0m in \u001b[0;36mdriver\u001b[0;34m()\u001b[0m\n\u001b[1;32m     29\u001b[0m         \u001b[0mheights\u001b[0m\u001b[0;34m.\u001b[0m\u001b[0mappend\u001b[0m\u001b[0;34m(\u001b[0m\u001b[0mlist\u001b[0m\u001b[0;34m(\u001b[0m\u001b[0mmap\u001b[0m\u001b[0;34m(\u001b[0m\u001b[0mint\u001b[0m\u001b[0;34m,\u001b[0m\u001b[0minput\u001b[0m\u001b[0;34m(\u001b[0m\u001b[0;34m)\u001b[0m\u001b[0;34m.\u001b[0m\u001b[0msplit\u001b[0m\u001b[0;34m(\u001b[0m\u001b[0;34m)\u001b[0m\u001b[0;34m)\u001b[0m\u001b[0;34m)\u001b[0m\u001b[0;34m)\u001b[0m\u001b[0;34m\u001b[0m\u001b[0;34m\u001b[0m\u001b[0m\n\u001b[1;32m     30\u001b[0m \u001b[0;34m\u001b[0m\u001b[0m\n\u001b[0;32m---> 31\u001b[0;31m     \u001b[0mprint\u001b[0m\u001b[0;34m(\u001b[0m\u001b[0mgetMaxLen\u001b[0m\u001b[0;34m(\u001b[0m\u001b[0mheights\u001b[0m\u001b[0;34m)\u001b[0m\u001b[0;34m)\u001b[0m\u001b[0;34m\u001b[0m\u001b[0;34m\u001b[0m\u001b[0m\n\u001b[0m\u001b[1;32m     32\u001b[0m \u001b[0;34m\u001b[0m\u001b[0m\n\u001b[1;32m     33\u001b[0m \u001b[0mdriver\u001b[0m\u001b[0;34m(\u001b[0m\u001b[0;34m)\u001b[0m\u001b[0;34m\u001b[0m\u001b[0;34m\u001b[0m\u001b[0m\n",
      "\u001b[0;32m/var/folders/cf/rp73zkws3232x_89lllkwqt00000gm/T/ipykernel_81205/3362547624.py\u001b[0m in \u001b[0;36mgetMaxLen\u001b[0;34m(matrix)\u001b[0m\n\u001b[1;32m     14\u001b[0m         \u001b[0mh\u001b[0m\u001b[0;34m=\u001b[0m\u001b[0msortedHeights\u001b[0m\u001b[0;34m[\u001b[0m\u001b[0mi\u001b[0m\u001b[0;34m]\u001b[0m\u001b[0;34m\u001b[0m\u001b[0;34m\u001b[0m\u001b[0m\n\u001b[1;32m     15\u001b[0m         \u001b[0mx\u001b[0m\u001b[0;34m,\u001b[0m\u001b[0my\u001b[0m\u001b[0;34m=\u001b[0m\u001b[0mcoordinate\u001b[0m\u001b[0;34m[\u001b[0m\u001b[0mh\u001b[0m\u001b[0;34m]\u001b[0m\u001b[0;34m\u001b[0m\u001b[0;34m\u001b[0m\u001b[0m\n\u001b[0;32m---> 16\u001b[0;31m         \u001b[0mnext\u001b[0m\u001b[0;34m=\u001b[0m\u001b[0mmax\u001b[0m\u001b[0;34m(\u001b[0m\u001b[0;34m[\u001b[0m\u001b[0mmatrix\u001b[0m\u001b[0;34m[\u001b[0m\u001b[0mi\u001b[0m\u001b[0;34m]\u001b[0m\u001b[0;34m[\u001b[0m\u001b[0mj\u001b[0m\u001b[0;34m]\u001b[0m \u001b[0;32mif\u001b[0m \u001b[0mmatrix\u001b[0m\u001b[0;34m[\u001b[0m\u001b[0mi\u001b[0m\u001b[0;34m]\u001b[0m\u001b[0;34m[\u001b[0m\u001b[0mj\u001b[0m\u001b[0;34m]\u001b[0m\u001b[0;34m<\u001b[0m\u001b[0mh\u001b[0m \u001b[0;32melse\u001b[0m \u001b[0;36m0\u001b[0m \u001b[0;32mfor\u001b[0m \u001b[0;34m[\u001b[0m\u001b[0mi\u001b[0m\u001b[0;34m,\u001b[0m\u001b[0mj\u001b[0m\u001b[0;34m]\u001b[0m \u001b[0;32min\u001b[0m \u001b[0;34m[\u001b[0m\u001b[0;34m[\u001b[0m\u001b[0mx\u001b[0m\u001b[0;34m-\u001b[0m\u001b[0;36m1\u001b[0m\u001b[0;34m,\u001b[0m\u001b[0my\u001b[0m\u001b[0;34m]\u001b[0m\u001b[0;34m,\u001b[0m \u001b[0;34m[\u001b[0m\u001b[0mx\u001b[0m\u001b[0;34m+\u001b[0m\u001b[0;36m1\u001b[0m\u001b[0;34m,\u001b[0m\u001b[0my\u001b[0m\u001b[0;34m]\u001b[0m\u001b[0;34m,\u001b[0m \u001b[0;34m[\u001b[0m\u001b[0mx\u001b[0m\u001b[0;34m,\u001b[0m\u001b[0my\u001b[0m\u001b[0;34m-\u001b[0m\u001b[0;36m1\u001b[0m\u001b[0;34m]\u001b[0m\u001b[0;34m,\u001b[0m \u001b[0;34m[\u001b[0m\u001b[0mx\u001b[0m\u001b[0;34m,\u001b[0m\u001b[0my\u001b[0m\u001b[0;34m+\u001b[0m\u001b[0;36m1\u001b[0m\u001b[0;34m]\u001b[0m\u001b[0;34m]\u001b[0m\u001b[0;34m]\u001b[0m\u001b[0;34m,\u001b[0m \u001b[0mdefault\u001b[0m\u001b[0;34m=\u001b[0m\u001b[0;32mNone\u001b[0m\u001b[0;34m)\u001b[0m\u001b[0;34m\u001b[0m\u001b[0;34m\u001b[0m\u001b[0m\n\u001b[0m\u001b[1;32m     17\u001b[0m         \u001b[0;32mif\u001b[0m \u001b[0mnext\u001b[0m\u001b[0;34m!=\u001b[0m\u001b[0;36m0\u001b[0m\u001b[0;34m:\u001b[0m\u001b[0;34m\u001b[0m\u001b[0;34m\u001b[0m\u001b[0m\n\u001b[1;32m     18\u001b[0m             \u001b[0mm\u001b[0m\u001b[0;34m,\u001b[0m\u001b[0mn\u001b[0m\u001b[0;34m=\u001b[0m\u001b[0mcoordinate\u001b[0m\u001b[0;34m[\u001b[0m\u001b[0mnext\u001b[0m\u001b[0;34m]\u001b[0m\u001b[0;34m\u001b[0m\u001b[0;34m\u001b[0m\u001b[0m\n",
      "\u001b[0;32m/var/folders/cf/rp73zkws3232x_89lllkwqt00000gm/T/ipykernel_81205/3362547624.py\u001b[0m in \u001b[0;36m<listcomp>\u001b[0;34m(.0)\u001b[0m\n\u001b[1;32m     14\u001b[0m         \u001b[0mh\u001b[0m\u001b[0;34m=\u001b[0m\u001b[0msortedHeights\u001b[0m\u001b[0;34m[\u001b[0m\u001b[0mi\u001b[0m\u001b[0;34m]\u001b[0m\u001b[0;34m\u001b[0m\u001b[0;34m\u001b[0m\u001b[0m\n\u001b[1;32m     15\u001b[0m         \u001b[0mx\u001b[0m\u001b[0;34m,\u001b[0m\u001b[0my\u001b[0m\u001b[0;34m=\u001b[0m\u001b[0mcoordinate\u001b[0m\u001b[0;34m[\u001b[0m\u001b[0mh\u001b[0m\u001b[0;34m]\u001b[0m\u001b[0;34m\u001b[0m\u001b[0;34m\u001b[0m\u001b[0m\n\u001b[0;32m---> 16\u001b[0;31m         \u001b[0mnext\u001b[0m\u001b[0;34m=\u001b[0m\u001b[0mmax\u001b[0m\u001b[0;34m(\u001b[0m\u001b[0;34m[\u001b[0m\u001b[0mmatrix\u001b[0m\u001b[0;34m[\u001b[0m\u001b[0mi\u001b[0m\u001b[0;34m]\u001b[0m\u001b[0;34m[\u001b[0m\u001b[0mj\u001b[0m\u001b[0;34m]\u001b[0m \u001b[0;32mif\u001b[0m \u001b[0mmatrix\u001b[0m\u001b[0;34m[\u001b[0m\u001b[0mi\u001b[0m\u001b[0;34m]\u001b[0m\u001b[0;34m[\u001b[0m\u001b[0mj\u001b[0m\u001b[0;34m]\u001b[0m\u001b[0;34m<\u001b[0m\u001b[0mh\u001b[0m \u001b[0;32melse\u001b[0m \u001b[0;36m0\u001b[0m \u001b[0;32mfor\u001b[0m \u001b[0;34m[\u001b[0m\u001b[0mi\u001b[0m\u001b[0;34m,\u001b[0m\u001b[0mj\u001b[0m\u001b[0;34m]\u001b[0m \u001b[0;32min\u001b[0m \u001b[0;34m[\u001b[0m\u001b[0;34m[\u001b[0m\u001b[0mx\u001b[0m\u001b[0;34m-\u001b[0m\u001b[0;36m1\u001b[0m\u001b[0;34m,\u001b[0m\u001b[0my\u001b[0m\u001b[0;34m]\u001b[0m\u001b[0;34m,\u001b[0m \u001b[0;34m[\u001b[0m\u001b[0mx\u001b[0m\u001b[0;34m+\u001b[0m\u001b[0;36m1\u001b[0m\u001b[0;34m,\u001b[0m\u001b[0my\u001b[0m\u001b[0;34m]\u001b[0m\u001b[0;34m,\u001b[0m \u001b[0;34m[\u001b[0m\u001b[0mx\u001b[0m\u001b[0;34m,\u001b[0m\u001b[0my\u001b[0m\u001b[0;34m-\u001b[0m\u001b[0;36m1\u001b[0m\u001b[0;34m]\u001b[0m\u001b[0;34m,\u001b[0m \u001b[0;34m[\u001b[0m\u001b[0mx\u001b[0m\u001b[0;34m,\u001b[0m\u001b[0my\u001b[0m\u001b[0;34m+\u001b[0m\u001b[0;36m1\u001b[0m\u001b[0;34m]\u001b[0m\u001b[0;34m]\u001b[0m\u001b[0;34m]\u001b[0m\u001b[0;34m,\u001b[0m \u001b[0mdefault\u001b[0m\u001b[0;34m=\u001b[0m\u001b[0;32mNone\u001b[0m\u001b[0;34m)\u001b[0m\u001b[0;34m\u001b[0m\u001b[0;34m\u001b[0m\u001b[0m\n\u001b[0m\u001b[1;32m     17\u001b[0m         \u001b[0;32mif\u001b[0m \u001b[0mnext\u001b[0m\u001b[0;34m!=\u001b[0m\u001b[0;36m0\u001b[0m\u001b[0;34m:\u001b[0m\u001b[0;34m\u001b[0m\u001b[0;34m\u001b[0m\u001b[0m\n\u001b[1;32m     18\u001b[0m             \u001b[0mm\u001b[0m\u001b[0;34m,\u001b[0m\u001b[0mn\u001b[0m\u001b[0;34m=\u001b[0m\u001b[0mcoordinate\u001b[0m\u001b[0;34m[\u001b[0m\u001b[0mnext\u001b[0m\u001b[0;34m]\u001b[0m\u001b[0;34m\u001b[0m\u001b[0;34m\u001b[0m\u001b[0m\n",
      "\u001b[0;31mIndexError\u001b[0m: list index out of range"
     ]
    }
   ],
   "source": [
    "def getMaxLen(matrix):\n",
    "    coordinate={\n",
    "        matrix[i][j]: [i,j] for i in range(len(matrix)) for j in range(len(matrix[0]))\n",
    "    }\n",
    "    \n",
    "    sortedHeights=[]\n",
    "    for i in range(len(matrix)):\n",
    "        sortedHeights+=matrix[i]\n",
    "    sortedHeights.sort()\n",
    "    \n",
    "    Max=1\n",
    "    maxLen=[[1 for _ in range(len(matrix[0]))] for _ in range(len(matrix))]\n",
    "    for i in range(len(sortedHeights)):\n",
    "        h=sortedHeights[i]\n",
    "        x,y=coordinate[h]\n",
    "        next=max([matrix[i][j] if matrix[i][j]<h else 0 for [i,j] in [[x-1,y], [x+1,y], [x,y-1], [x,y+1]]], default=None)\n",
    "        if next!=0:\n",
    "            m,n=coordinate[next]\n",
    "            maxLen[x][y]=maxLen[m][n]+1\n",
    "            if maxLen[x][y]>Max:\n",
    "                Max=maxLen[x][y]\n",
    "                \n",
    "    return Max\n",
    "\n",
    "def driver():\n",
    "    R,C=map(int,input().split())\n",
    "    heights=[]\n",
    "    for i in range(R):\n",
    "        heights.append(list(map(int,input().split())))\n",
    "        \n",
    "    print(getMaxLen(heights))\n",
    "    \n",
    "driver()\n",
    "        "
   ]
  },
  {
   "cell_type": "code",
   "execution_count": 107,
   "metadata": {},
   "outputs": [
    {
     "name": "stdout",
     "output_type": "stream",
     "text": [
      "1 2\n"
     ]
    }
   ],
   "source": [
    "for [i,j] in [[1,2]]:\n",
    "    print(i,j)"
   ]
  },
  {
   "cell_type": "code",
   "execution_count": 108,
   "metadata": {},
   "outputs": [
    {
     "data": {
      "text/plain": [
       "[1, 2, 3]"
      ]
     },
     "execution_count": 108,
     "metadata": {},
     "output_type": "execute_result"
    }
   ],
   "source": [
    "max([[1,2,3],[0,6,5]])"
   ]
  },
  {
   "cell_type": "code",
   "execution_count": null,
   "metadata": {},
   "outputs": [],
   "source": []
  }
 ],
 "metadata": {
  "interpreter": {
   "hash": "cccc6b24c42b92f0f5397c28f29e0b94ee4e833e31f323dd2f4eab36a0e1136b"
  },
  "kernelspec": {
   "display_name": "Python 3.9.9 ('base')",
   "language": "python",
   "name": "python3"
  },
  "language_info": {
   "codemirror_mode": {
    "name": "ipython",
    "version": 3
   },
   "file_extension": ".py",
   "mimetype": "text/x-python",
   "name": "python",
   "nbconvert_exporter": "python",
   "pygments_lexer": "ipython3",
   "version": "3.9.9"
  },
  "orig_nbformat": 4
 },
 "nbformat": 4,
 "nbformat_minor": 2
}
