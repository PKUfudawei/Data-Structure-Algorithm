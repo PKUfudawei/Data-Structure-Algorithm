{
 "cells": [
  {
   "cell_type": "code",
   "execution_count": 1,
   "metadata": {},
   "outputs": [],
   "source": [
    "class Stack:\n",
    "    def __init__(self) -> None:\n",
    "        self.items=[]\n",
    "        \n",
    "    def top(self):\n",
    "        return self.items[-1]\n",
    "    \n",
    "    def push(self,item):\n",
    "        self.items.append(item)\n",
    "        \n",
    "    def pop(self):\n",
    "        return self.items.pop()\n",
    "    \n",
    "    def isEmpty(self):\n",
    "        return len(self.items)==0"
   ]
  },
  {
   "cell_type": "code",
   "execution_count": 9,
   "metadata": {},
   "outputs": [],
   "source": [
    "def bracketsParing(string):\n",
    "    pair={'(':')','[':']','{':'}'}\n",
    "    stack=Stack()\n",
    "    string.string.replace(' ','')\n",
    "    for i in list(string):\n",
    "        if i in ['(','{','[']:\n",
    "            stack.push(i)\n",
    "        elif i in [')',']','}']:\n",
    "            leftpair=stack.pop()\n",
    "            if not pair[leftpair]==i:\n",
    "                return False\n",
    "    if not stack.isEmpty():\n",
    "        return False       \n",
    "    else:   \n",
    "        return True\n",
    "        "
   ]
  },
  {
   "cell_type": "code",
   "execution_count": 8,
   "metadata": {},
   "outputs": [
    {
     "data": {
      "text/plain": [
       "False"
      ]
     },
     "execution_count": 8,
     "metadata": {},
     "output_type": "execute_result"
    }
   ],
   "source": [
    "bracketsParing('12{34[78}ab]')"
   ]
  },
  {
   "cell_type": "code",
   "execution_count": 24,
   "metadata": {},
   "outputs": [],
   "source": [
    "def suffixEvaluation(string):\n",
    "    string=string.split()\n",
    "    stack=Stack()\n",
    "    for i in list(string):\n",
    "        if i not in ['+','-','*','/']:\n",
    "            stack.push(float(i))\n",
    "        else:\n",
    "            right=stack.pop()\n",
    "            left=stack.pop()\n",
    "            stack.push(eval(str(left)+i+str(right)))\n",
    "    result=stack.pop()\n",
    "    if not stack.isEmpty():\n",
    "        return False        \n",
    "    return float(result)"
   ]
  },
  {
   "cell_type": "code",
   "execution_count": 26,
   "metadata": {},
   "outputs": [
    {
     "data": {
      "text/plain": [
       "53.400000000000006"
      ]
     },
     "execution_count": 26,
     "metadata": {},
     "output_type": "execute_result"
    }
   ],
   "source": [
    "suffixEvaluation('5 3.4 + 6  * 3 +')"
   ]
  },
  {
   "cell_type": "code",
   "execution_count": 41,
   "metadata": {},
   "outputs": [],
   "source": [
    "def middlefixToSuffix(string):\n",
    "    priority={\n",
    "        '+':1,\n",
    "        '-':1,\n",
    "        '*':2,\n",
    "        '/':2,\n",
    "        '(':3,\n",
    "        ')':3\n",
    "    }\n",
    "    string=string.split()\n",
    "    suffix=Stack()\n",
    "    operators=Stack()\n",
    "    for i in list(string):\n",
    "        if i =='(':\n",
    "            operators.push(i)\n",
    "        elif i==')':\n",
    "            while operators.top()!='(':\n",
    "                suffix.push(operators.pop())\n",
    "            suffix.pop()    ## pop ')'\n",
    "        elif i not in '+-*/':\n",
    "            suffix.push(i)\n",
    "        else:\n",
    "            if operators.isEmpty():\n",
    "                operators.push(i)\n",
    "            elif priority[operators.top()]>priority[i]:\n",
    "                suffix.push(operators.pop())\n",
    "            else:\n",
    "                operators.push(i)\n",
    "    while not operators.isEmpty():\n",
    "        suffix.push(operators.pop())\n",
    "        \n",
    "    \n",
    "    return ' '.join([str(i) for i in suffix.items])\n",
    "    "
   ]
  },
  {
   "cell_type": "code",
   "execution_count": 42,
   "metadata": {},
   "outputs": [
    {
     "ename": "IndexError",
     "evalue": "list index out of range",
     "output_type": "error",
     "traceback": [
      "\u001b[0;31m---------------------------------------------------------------------------\u001b[0m",
      "\u001b[0;31mIndexError\u001b[0m                                Traceback (most recent call last)",
      "\u001b[0;32m/var/folders/cf/rp73zkws3232x_89lllkwqt00000gm/T/ipykernel_35621/1346753130.py\u001b[0m in \u001b[0;36m<module>\u001b[0;34m\u001b[0m\n\u001b[0;32m----> 1\u001b[0;31m \u001b[0mmiddlefixToSuffix\u001b[0m\u001b[0;34m(\u001b[0m\u001b[0;34m\"3 * ( 4 + 5 ) * ( 6 + 7 ) + ( 5 - 2 ) * 1 + 3\"\u001b[0m\u001b[0;34m)\u001b[0m\u001b[0;34m\u001b[0m\u001b[0;34m\u001b[0m\u001b[0m\n\u001b[0m",
      "\u001b[0;32m/var/folders/cf/rp73zkws3232x_89lllkwqt00000gm/T/ipykernel_35621/3582700054.py\u001b[0m in \u001b[0;36mmiddlefixToSuffix\u001b[0;34m(string)\u001b[0m\n\u001b[1;32m     15\u001b[0m             \u001b[0moperators\u001b[0m\u001b[0;34m.\u001b[0m\u001b[0mpush\u001b[0m\u001b[0;34m(\u001b[0m\u001b[0mi\u001b[0m\u001b[0;34m)\u001b[0m\u001b[0;34m\u001b[0m\u001b[0;34m\u001b[0m\u001b[0m\n\u001b[1;32m     16\u001b[0m         \u001b[0;32melif\u001b[0m \u001b[0mi\u001b[0m\u001b[0;34m==\u001b[0m\u001b[0;34m')'\u001b[0m\u001b[0;34m:\u001b[0m\u001b[0;34m\u001b[0m\u001b[0;34m\u001b[0m\u001b[0m\n\u001b[0;32m---> 17\u001b[0;31m             \u001b[0;32mwhile\u001b[0m \u001b[0moperators\u001b[0m\u001b[0;34m.\u001b[0m\u001b[0mtop\u001b[0m\u001b[0;34m(\u001b[0m\u001b[0;34m)\u001b[0m\u001b[0;34m!=\u001b[0m\u001b[0;34m'('\u001b[0m\u001b[0;34m:\u001b[0m\u001b[0;34m\u001b[0m\u001b[0;34m\u001b[0m\u001b[0m\n\u001b[0m\u001b[1;32m     18\u001b[0m                 \u001b[0msuffix\u001b[0m\u001b[0;34m.\u001b[0m\u001b[0mpush\u001b[0m\u001b[0;34m(\u001b[0m\u001b[0moperators\u001b[0m\u001b[0;34m.\u001b[0m\u001b[0mpop\u001b[0m\u001b[0;34m(\u001b[0m\u001b[0;34m)\u001b[0m\u001b[0;34m)\u001b[0m\u001b[0;34m\u001b[0m\u001b[0;34m\u001b[0m\u001b[0m\n\u001b[1;32m     19\u001b[0m         \u001b[0;32melif\u001b[0m \u001b[0mi\u001b[0m \u001b[0;32mnot\u001b[0m \u001b[0;32min\u001b[0m \u001b[0;34m'+-*/'\u001b[0m\u001b[0;34m:\u001b[0m\u001b[0;34m\u001b[0m\u001b[0;34m\u001b[0m\u001b[0m\n",
      "\u001b[0;32m/var/folders/cf/rp73zkws3232x_89lllkwqt00000gm/T/ipykernel_35621/2031020459.py\u001b[0m in \u001b[0;36mtop\u001b[0;34m(self)\u001b[0m\n\u001b[1;32m      4\u001b[0m \u001b[0;34m\u001b[0m\u001b[0m\n\u001b[1;32m      5\u001b[0m     \u001b[0;32mdef\u001b[0m \u001b[0mtop\u001b[0m\u001b[0;34m(\u001b[0m\u001b[0mself\u001b[0m\u001b[0;34m)\u001b[0m\u001b[0;34m:\u001b[0m\u001b[0;34m\u001b[0m\u001b[0;34m\u001b[0m\u001b[0m\n\u001b[0;32m----> 6\u001b[0;31m         \u001b[0;32mreturn\u001b[0m \u001b[0mself\u001b[0m\u001b[0;34m.\u001b[0m\u001b[0mitems\u001b[0m\u001b[0;34m[\u001b[0m\u001b[0;34m-\u001b[0m\u001b[0;36m1\u001b[0m\u001b[0;34m]\u001b[0m\u001b[0;34m\u001b[0m\u001b[0;34m\u001b[0m\u001b[0m\n\u001b[0m\u001b[1;32m      7\u001b[0m \u001b[0;34m\u001b[0m\u001b[0m\n\u001b[1;32m      8\u001b[0m     \u001b[0;32mdef\u001b[0m \u001b[0mpush\u001b[0m\u001b[0;34m(\u001b[0m\u001b[0mself\u001b[0m\u001b[0;34m,\u001b[0m\u001b[0mitem\u001b[0m\u001b[0;34m)\u001b[0m\u001b[0;34m:\u001b[0m\u001b[0;34m\u001b[0m\u001b[0;34m\u001b[0m\u001b[0m\n",
      "\u001b[0;31mIndexError\u001b[0m: list index out of range"
     ]
    }
   ],
   "source": [
    "middlefixToSuffix(\"3 * ( 4 + 5 ) * ( 6 + 7 ) + ( 5 - 2 ) * 1 + 3\")"
   ]
  },
  {
   "cell_type": "code",
   "execution_count": 34,
   "metadata": {},
   "outputs": [
    {
     "data": {
      "text/plain": [
       "[1, 3, 2, 6, 5, 4]"
      ]
     },
     "execution_count": 34,
     "metadata": {},
     "output_type": "execute_result"
    }
   ],
   "source": []
  },
  {
   "cell_type": "code",
   "execution_count": null,
   "metadata": {},
   "outputs": [],
   "source": []
  }
 ],
 "metadata": {
  "interpreter": {
   "hash": "cccc6b24c42b92f0f5397c28f29e0b94ee4e833e31f323dd2f4eab36a0e1136b"
  },
  "kernelspec": {
   "display_name": "Python 3.9.9 ('base')",
   "language": "python",
   "name": "python3"
  },
  "language_info": {
   "codemirror_mode": {
    "name": "ipython",
    "version": 3
   },
   "file_extension": ".py",
   "mimetype": "text/x-python",
   "name": "python",
   "nbconvert_exporter": "python",
   "pygments_lexer": "ipython3",
   "version": "3.9.9"
  },
  "orig_nbformat": 4
 },
 "nbformat": 4,
 "nbformat_minor": 2
}
