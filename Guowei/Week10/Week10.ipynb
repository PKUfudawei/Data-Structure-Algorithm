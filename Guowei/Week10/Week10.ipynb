{
 "cells": [
  {
   "cell_type": "markdown",
   "metadata": {},
   "source": [
    "### 用深度优先遍求图的生成树"
   ]
  },
  {
   "cell_type": "code",
   "execution_count": 2,
   "metadata": {},
   "outputs": [],
   "source": [
    "def dfsMST(G, start): ## Minimum Spanning Tree\n",
    "    \"\"\"\n",
    "    G: a graph represented as a list of edges\n",
    "    \"\"\"\n",
    "    parent = {}\n",
    "    visited = set()\n",
    "    def dfs(node, mom):\n",
    "        visited.add(node)\n",
    "        parent[node]=mom\n",
    "        for neighbor in G[node]:\n",
    "            if neighbor not in visited:\n",
    "                dfs(neighbor, node)\n",
    "                \n",
    "    dfs(node=start, mom=None)\n",
    "    result = []\n",
    "    for node in visited:\n",
    "        if parent[node]:\n",
    "            result.append((parent[node], node))\n",
    "    return result\n"
   ]
  },
  {
   "cell_type": "markdown",
   "metadata": {},
   "source": [
    "### Prim Algorithm"
   ]
  },
  {
   "cell_type": "code",
   "execution_count": 3,
   "metadata": {},
   "outputs": [],
   "source": [
    "import heapq\n",
    "import math\n",
    "INF = math.inf\n",
    "\n",
    "class Edge:\n",
    "    def __init__(self, start, end, weight=INF):\n",
    "        self.start, self.end, self.weight = start, end, weight\n",
    "    \n",
    "    def __lt__(self, other):\n",
    "        return self.weight < other.weight\n",
    "\n",
    "    \n",
    "def heapPrim(G, start): ## G maps node to list of edges\n",
    "    frontier=[]\n",
    "    heapq.heapify(frontier)\n",
    "    leastDistance = {node: INF for node in G} ## used for branch pruning\n",
    "    visited = set()\n",
    "    weightSum = 0\n",
    "    heapq.heappush(frontier, G[start][0])\n",
    "    \n",
    "    while len(visited) < len(G) and frontier:\n",
    "        edge = heapq.heappop(frontier) ## pick the nearest node\n",
    "        node = edge.end\n",
    "        if node in visited:\n",
    "            continue\n",
    "        \n",
    "        visited.add(node)\n",
    "        weightSum += node.weight\n",
    "        for e in G[node]: ## e = outEdge\n",
    "            neighbor = e.end\n",
    "            if neighbor not in visited and e.weight < leastDistance[neighbor]:\n",
    "                leastDistance[neighbor]=e.weight\n",
    "                heapq.heappush(frontier, e)\n",
    "                        \n",
    "    if len(visited)<len(G):\n",
    "        return None\n",
    "    return weightSum\n",
    "\n",
    "def driver():\n",
    "    while True:\n",
    "        try:\n",
    "            N=int(input())\n",
    "            graph={i: [] for i in range(N)}\n",
    "            for i in graph:\n",
    "                lst=list(map(int, input().split()))\n",
    "                for j in range(N):\n",
    "                    graph[i].append(Edge(start=i, end=j, weight=lst[j]))\n",
    "            print(heapPrim(graph, 0))\n",
    "        except:\n",
    "            break\n",
    "    "
   ]
  },
  {
   "cell_type": "markdown",
   "metadata": {},
   "source": [
    "### Kruskal Algorithm"
   ]
  },
  {
   "cell_type": "code",
   "execution_count": null,
   "metadata": {},
   "outputs": [],
   "source": [
    "class Edge():\n",
    "    def __init__(self, start, end, weight=INF):\n",
    "        self.start, self.end, self.weight = start, end, weight\n",
    "    \n",
    "    def __lt__(self, other):\n",
    "        return self.weight < other.weight\n",
    "    \n",
    "def getRoot(a):\n",
    "    if parent[a] != a:\n",
    "        parent[a] = getRoot(parent[a])\n",
    "    return parent[a]\n",
    "\n",
    "def merge(a, b):\n",
    "    parent[getRoot(b)]=getRoot(a)\n",
    "    \n",
    "def query(a, b):\n",
    "    return getRoot(a)==getRoot(b)\n",
    "\n",
    "def kruskal(graph):\n",
    "    global parent\n",
    "    parent={v: v for v in graph}\n",
    "    link=0\n",
    "    weightSum=0\n",
    "    edges=sum(graph.values(), start=[])\n",
    "    edges.sort(key=lambda x: x.weight)\n",
    "    for e in edges:\n",
    "        if not query(e.start, e.end):\n",
    "            link+=1\n",
    "            merge(e.start, e.end)\n",
    "            weightSum+=e.weight\n",
    "        if link==len(graph)-1:\n",
    "            break\n",
    "    return weightSum"
   ]
  },
  {
   "cell_type": "markdown",
   "metadata": {},
   "source": [
    "### Arctic Network"
   ]
  },
  {
   "cell_type": "code",
   "execution_count": null,
   "metadata": {},
   "outputs": [],
   "source": []
  }
 ],
 "metadata": {
  "interpreter": {
   "hash": "cccc6b24c42b92f0f5397c28f29e0b94ee4e833e31f323dd2f4eab36a0e1136b"
  },
  "kernelspec": {
   "display_name": "Python 3.9.9 ('base')",
   "language": "python",
   "name": "python3"
  },
  "language_info": {
   "codemirror_mode": {
    "name": "ipython",
    "version": 3
   },
   "file_extension": ".py",
   "mimetype": "text/x-python",
   "name": "python",
   "nbconvert_exporter": "python",
   "pygments_lexer": "ipython3",
   "version": "3.9.9"
  },
  "orig_nbformat": 4
 },
 "nbformat": 4,
 "nbformat_minor": 2
}
