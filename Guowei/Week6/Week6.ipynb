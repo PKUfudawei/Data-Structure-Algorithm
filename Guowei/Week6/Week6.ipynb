{
 "cells": [
  {
   "cell_type": "markdown",
   "metadata": {},
   "source": [
    "# 堆"
   ]
  },
  {
   "cell_type": "code",
   "execution_count": null,
   "metadata": {},
   "outputs": [],
   "source": [
    "class Heap:\n",
    "    def __init__(self, array=[], prefer=lambda x, y: x < y):\n",
    "        self._a = array[:]\n",
    "        self._size = len(array)\n",
    "        self._prefer = prefer\n",
    "        self.makeHeap()\n",
    "        \n",
    "    def top(self):\n",
    "        return self._a[0]\n",
    "    \n",
    "    def pop(self):\n",
    "        temp=self._a[0]\n",
    "        self._a[0]=self._a[-1]\n",
    "        self._a.pop()\n",
    "        self._size -= 1\n",
    "        self._goDown(0)\n",
    "        return temp\n",
    "    \n",
    "    def append(self, x):\n",
    "        self._size+=1\n",
    "        self._a.append(x)\n",
    "        self._goUp(self._size-1)\n",
    "        \n",
    "    def _goUp(self, i):\n",
    "        if i==0:\n",
    "            return\n",
    "        f = (i-1)//2\n",
    "        if self._prefer(self._a[i], self._a[f]):\n",
    "            self._a[i], self._a[f] = self._a[f], self._a[i]\n",
    "            self._goUp(f)\n",
    "            \n",
    "    def _goDown(self,top):\n",
    "        if 2*top+1>=self._size:\n",
    "            return\n",
    "        L, R = 2*top+1, 2*top+2\n",
    "        if R >= self._size or self._prefer(self._a[L], self._a[R]):\n",
    "            bottom=L\n",
    "        else:\n",
    "            bottom=R\n",
    "        if self._prefer(self._a[bottom], self._a[top]):\n",
    "            self._a[top], self._a[bottom] = self._a[bottom], self._a[top]\n",
    "            self._goDown(bottom)       \n",
    "            \n",
    "    def makeHeap(self):\n",
    "        for i in range(self._size//2 - 1, -1, -1):\n",
    "            self._goDown(i)\n",
    "            \n",
    "    def heapSort(self, reverse=False):\n",
    "        for i in range(self._size - 1, -1, -1):\n",
    "            self._a[0], self._a[i] = self._a[i], self._a[0] ## most prefered one goes to the end\n",
    "            self._size -= 1\n",
    "            self._goDown(0)\n",
    "        if not reverse:\n",
    "            self._a.reverse() ## most prefered one goes to the beginning\n",
    "        return self._a"
   ]
  },
  {
   "cell_type": "code",
   "execution_count": null,
   "metadata": {},
   "outputs": [],
   "source": [
    "import random\n",
    "def heapSort(a,preference):\n",
    "    hp=Heap(a,prefer=preference)\n",
    "    return hp.heapSort()\n",
    "\n",
    "s=[i for i in range(17)]\n",
    "random.shuffle(s)\n",
    "print(s)\n",
    "h=heapSort(s, preference=lambda x,y : x<y)\n",
    "print(h)"
   ]
  },
  {
   "cell_type": "markdown",
   "metadata": {},
   "source": [
    "# 树$\\neq$二叉树"
   ]
  },
  {
   "cell_type": "markdown",
   "metadata": {},
   "source": [
    "### 树的直观表示法:"
   ]
  },
  {
   "cell_type": "code",
   "execution_count": null,
   "metadata": {},
   "outputs": [],
   "source": [
    "class Tree:\n",
    "    def __init__(self, data, *subtrees):\n",
    "        self.data = data\n",
    "        self.subtrees=list(subtrees)\n",
    "        \n",
    "    def addSubTree(self, tree):\n",
    "        self.subtrees.append(tree)\n",
    "        \n",
    "    def preorderTraversal(self, function):\n",
    "        function(self)\n",
    "        for t in self.subtrees:\n",
    "            t.preorderTraversal(function)\n",
    "            \n",
    "    def postorderTraversal(self, function):\n",
    "        for t in self.subtrees:\n",
    "            t.postorderTraversal(function)\n",
    "        function(self)\n",
    "        \n",
    "    def printTree(self,level=0):\n",
    "        print('\\t'*level + str(self.data))\n",
    "        for t in self.subtrees:\n",
    "            t.printTree(level+1)\n",
    "            \n",
    "\n",
    "def buildTree(level):\n",
    "    global nodesPtr, nodes\n",
    "    tree = Tree(nodes[nodesPtr][1])\n",
    "    nodesPtr += 1\n",
    "    while nodesPtr < len(nodes) and nodes[nodesPtr][0] == level+1:\n",
    "        tree.addSubTree(buildTree(level+1))\n",
    "    return tree\n",
    "\n",
    "def driver():\n",
    "    nodes=[]\n",
    "    while True:\n",
    "        try:\n",
    "            s=input().rstrip()\n",
    "            nodes.append( (s.strip(), len(s)-1) )\n",
    "        except:\n",
    "            break\n",
    "    nodesPtr = 0\n",
    "    print(nodes)\n",
    "    tree = buildTree(0)\n",
    "        "
   ]
  },
  {
   "cell_type": "markdown",
   "metadata": {},
   "source": [
    "### 树的直观表示法转儿子兄弟树"
   ]
  },
  {
   "cell_type": "code",
   "execution_count": 6,
   "metadata": {},
   "outputs": [],
   "source": [
    "class BinaryTree:\n",
    "    def __init__(self, data, left=None, right=None):\n",
    "        self.data = data\n",
    "        self.left = left\n",
    "        self.right = right\n",
    "        \n",
    "    def addLeft(self, tree):\n",
    "        self.left = tree\n",
    "        \n",
    "    def addright(self, tree):\n",
    "        self.right = tree\n",
    "        \n",
    "    def preorderTraversal(self, function):\n",
    "        function(self)\n",
    "        if self.left:\n",
    "            self.left.preorderTraversal()\n",
    "        if self.right:\n",
    "            self.right.preorderTraversal()\n",
    "            \n",
    "    def inorderTraversal(self, function):\n",
    "        if self.left:\n",
    "            self.left.inorderTraversal()\n",
    "        function(self)\n",
    "        if self.right:\n",
    "            self.right.inorderTraversal()\n",
    "            \n",
    "    def postorderTraversal(self, function):\n",
    "        if self.left:\n",
    "            self.left.postorderTraversal()\n",
    "        if self.right:\n",
    "            self.right.postorderTraversal()\n",
    "        function(self)\n",
    "        \n",
    "def treeToBinaryTree(tree):\n",
    "    bTree=BinaryTree(tree.data)\n",
    "    for i in range(len(tree.subtrees)):\n",
    "        if i == 0:\n",
    "            tempTree = treeToBinaryTree(tree.subtrees[i])\n",
    "            bTree.addLeft(tempTree)\n",
    "        else:\n",
    "            tempTree.addRight(treeToBinaryTree(tree.subtrees[i]))\n",
    "            tempTree=tempTree.right\n",
    "    \n",
    "    return bTree\n",
    "\n"
   ]
  },
  {
   "cell_type": "markdown",
   "metadata": {},
   "source": [
    "### 儿子兄弟树转直观表示法"
   ]
  },
  {
   "cell_type": "code",
   "execution_count": null,
   "metadata": {},
   "outputs": [],
   "source": [
    "def binaryTreeToTree(biTree):\n",
    "    tree = Tree(biTree.data)\n",
    "    son = biTree.left\n",
    "    if son:\n",
    "        tree.addSubTree(binaryTreeToTree(son))\n",
    "        while son.right:\n",
    "            son = son.right\n",
    "            \n",
    "    return tree"
   ]
  },
  {
   "cell_type": "markdown",
   "metadata": {},
   "source": [
    "# 森林是不相交的树的集合"
   ]
  },
  {
   "cell_type": "markdown",
   "metadata": {},
   "source": [
    "### 森林可以表示为树的列表"
   ]
  },
  {
   "cell_type": "code",
   "execution_count": null,
   "metadata": {},
   "outputs": [],
   "source": [
    "def treesToWoods(*trees):\n",
    "    woods=list(trees)\n",
    "    return woods"
   ]
  },
  {
   "cell_type": "markdown",
   "metadata": {},
   "source": [
    "### 森林的二叉树表示法"
   ]
  },
  {
   "cell_type": "code",
   "execution_count": 4,
   "metadata": {},
   "outputs": [],
   "source": [
    "def woodsToBianryTree(woods):\n",
    "    biTree=woods[0]\n",
    "    p=biTree\n",
    "    for i in range(1,len(woods)):\n",
    "        p.addRight(woods[i])\n",
    "        p=p.right\n",
    "    return biTree"
   ]
  },
  {
   "cell_type": "markdown",
   "metadata": {},
   "source": [
    "### 二叉树转森林"
   ]
  },
  {
   "cell_type": "code",
   "execution_count": 5,
   "metadata": {},
   "outputs": [],
   "source": [
    "def binaryTreeToWoods(tree):\n",
    "    p=tree\n",
    "    q=p.right\n",
    "    p.right=None\n",
    "    woods=[p]\n",
    "    if q:\n",
    "        woods += binaryTreeToWoods(q)\n",
    "    return woods"
   ]
  },
  {
   "cell_type": "markdown",
   "metadata": {},
   "source": [
    "# 并查集"
   ]
  },
  {
   "cell_type": "code",
   "execution_count": null,
   "metadata": {},
   "outputs": [],
   "source": []
  }
 ],
 "metadata": {
  "interpreter": {
   "hash": "cccc6b24c42b92f0f5397c28f29e0b94ee4e833e31f323dd2f4eab36a0e1136b"
  },
  "kernelspec": {
   "display_name": "Python 3.9.9 ('base')",
   "language": "python",
   "name": "python3"
  },
  "language_info": {
   "codemirror_mode": {
    "name": "ipython",
    "version": 3
   },
   "file_extension": ".py",
   "mimetype": "text/x-python",
   "name": "python",
   "nbconvert_exporter": "python",
   "pygments_lexer": "ipython3",
   "version": "3.9.9"
  },
  "orig_nbformat": 4
 },
 "nbformat": 4,
 "nbformat_minor": 2
}
