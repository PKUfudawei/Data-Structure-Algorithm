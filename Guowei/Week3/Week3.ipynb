{
 "cells": [
  {
   "cell_type": "code",
   "execution_count": null,
   "metadata": {},
   "outputs": [],
   "source": [
    "class LinkList:\n",
    "    class Node:\n",
    "        def __init__(self,data,next) -> None:\n",
    "            self.data, self.next=data,next\n",
    "            \n",
    "    def __init__(self) -> None:\n",
    "        self.head=self.tail=None\n",
    "        self.size=0\n",
    "    \n",
    "    def printList(self):\n",
    "        pointer=self.head\n",
    "        while pointer is not None:\n",
    "            print(pointer.data,end=', ')\n",
    "            pointer=pointer.next\n",
    "            \n",
    "    def insert(self,p,data):\n",
    "        node=LinkList.Node(data,None)\n",
    "        if p is self.tail:\n",
    "            self.tail=node\n",
    "            node.next=p.next\n",
    "            p.next=node\n",
    "            self.size+=1\n",
    "        \n",
    "    def delete(self,p):\n",
    "        if self.tail is p.next:\n",
    "            self.tail=p\n",
    "        else:\n",
    "            p.next=p.next.next\n",
    "            self.size-=1\n",
    "            \n",
    "            \n",
    "            "
   ]
  }
 ],
 "metadata": {
  "language_info": {
   "name": "python"
  },
  "orig_nbformat": 4
 },
 "nbformat": 4,
 "nbformat_minor": 2
}
