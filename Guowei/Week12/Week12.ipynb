{
 "cells": [
  {
   "cell_type": "markdown",
   "metadata": {},
   "source": [
    "### KMP"
   ]
  },
  {
   "cell_type": "code",
   "execution_count": 26,
   "metadata": {},
   "outputs": [
    {
     "data": {
      "text/plain": [
       "[0, 0, 1, 0, 0]"
      ]
     },
     "execution_count": 26,
     "metadata": {},
     "output_type": "execute_result"
    }
   ],
   "source": [
    "def getNext(string):\n",
    "    next = [0 for _ in range(len(string))]\n",
    "    for i in range(len(string)):\n",
    "        for j in range(i, 0, -1):\n",
    "            if string[0:j] == string[i-j+1:i+1]:\n",
    "                next[i]=j\n",
    "                break\n",
    "    \n",
    "    return next\n",
    "\n",
    "def fastGetNext(string):\n",
    "    next = [0]\n",
    "    i = 1\n",
    "    now = 0\n",
    "    while i < len(string):\n",
    "        if string[now] == string[i]:\n",
    "            now+=1\n",
    "            i+=1\n",
    "        elif now:\n",
    "            now = next[now-1]\n",
    "        else:\n",
    "            next.append(0)\n",
    "            i += 1\n",
    "\n",
    "def KMP(string, pattern):\n",
    "    next = getNext(pattern)\n",
    "    start = 0\n",
    "    pos = 0\n",
    "    while start<len(string):\n",
    "        if string[start] == pattern[pos]:\n",
    "            start += 1\n",
    "            pos += 1\n",
    "        elif pos:\n",
    "            pos = next[pos-1]\n",
    "        else:\n",
    "            start += 1\n",
    "            \n",
    "        if pos==len(pattern):\n",
    "            print('string start:', start-pos)\n",
    "            pos = next[pos-1]"
   ]
  },
  {
   "cell_type": "markdown",
   "metadata": {},
   "source": [
    "### Hash"
   ]
  },
  {
   "cell_type": "code",
   "execution_count": 7,
   "metadata": {},
   "outputs": [
    {
     "name": "stdout",
     "output_type": "stream",
     "text": [
      "3 20 40\n"
     ]
    }
   ],
   "source": [
    "class A:\n",
    "    def __init__(self, x):\n",
    "        self.x = x\n",
    "\n",
    "a, b = A(5), A(5)\n",
    "dt = {a: 20, A(5): 30, b: 40}\n",
    "print(len(dt), dt[a], dt[b])"
   ]
  },
  {
   "cell_type": "code",
   "execution_count": 9,
   "metadata": {},
   "outputs": [
    {
     "ename": "KeyError",
     "evalue": "<__main__.A object at 0x1041f9d30>",
     "output_type": "error",
     "traceback": [
      "\u001b[0;31m---------------------------------------------------------------------------\u001b[0m",
      "\u001b[0;31mKeyError\u001b[0m                                  Traceback (most recent call last)",
      "\u001b[1;32m/Users/DaweiFu/Desktop/Data-Structure-Algorithm/Guowei/Week12/Week12.ipynb Cell 2'\u001b[0m in \u001b[0;36m<cell line: 1>\u001b[0;34m()\u001b[0m\n\u001b[0;32m----> <a href='vscode-notebook-cell:/Users/DaweiFu/Desktop/Data-Structure-Algorithm/Guowei/Week12/Week12.ipynb#ch0000001?line=0'>1</a>\u001b[0m \u001b[39mprint\u001b[39m(dt[A(\u001b[39m5\u001b[39;49m)])\n",
      "\u001b[0;31mKeyError\u001b[0m: <__main__.A object at 0x1041f9d30>"
     ]
    }
   ],
   "source": [
    "print(dt[A(5)])"
   ]
  },
  {
   "cell_type": "code",
   "execution_count": 13,
   "metadata": {},
   "outputs": [
    {
     "name": "stdout",
     "output_type": "stream",
     "text": [
      "230584300921372695 230584300921372695\n",
      "23 23\n",
      "-3550055125485641917 -3550055125485641917 -3550055125485641917\n",
      "-5941866934279951518 -5941866934279951518\n"
     ]
    }
   ],
   "source": [
    "x = 23.1\n",
    "print(x.__hash__(), 23.1.__hash__())\n",
    "x = 23\n",
    "print(x.__hash__(), hash(23))\n",
    "x = (1,2)\n",
    "print(x.__hash__(), (1,2).__hash__(), hash(x))\n",
    "x = 'ok'\n",
    "print(x.__hash__(), 'ok'.__hash__())"
   ]
  },
  {
   "cell_type": "code",
   "execution_count": 21,
   "metadata": {},
   "outputs": [],
   "source": [
    "class A:\n",
    "    def __init__(self, x):\n",
    "        self.x = x\n",
    "    \n",
    "    def __eq__(self, other):\n",
    "        if isinstance(other, A):\n",
    "            return self.x == other.x\n",
    "        elif isinstance(other, int):\n",
    "            return self.x == other\n",
    "        else:\n",
    "            return False\n",
    "        \n",
    "    def __hash__(self):\n",
    "        return self.x"
   ]
  },
  {
   "cell_type": "code",
   "execution_count": 22,
   "metadata": {},
   "outputs": [
    {
     "name": "stdout",
     "output_type": "stream",
     "text": [
      "True\n",
      "True\n",
      "2 30 30 30\n"
     ]
    }
   ],
   "source": [
    "a=A(3)\n",
    "print(3==a)\n",
    "print(a==3)\n",
    "b=A(3)\n",
    "d={A(5): 10, A(3): 20, a: 30}\n",
    "print(len(d), d[a], d[b], d[3])"
   ]
  },
  {
   "cell_type": "code",
   "execution_count": null,
   "metadata": {},
   "outputs": [],
   "source": []
  }
 ],
 "metadata": {
  "interpreter": {
   "hash": "cccc6b24c42b92f0f5397c28f29e0b94ee4e833e31f323dd2f4eab36a0e1136b"
  },
  "kernelspec": {
   "display_name": "Python 3.9.12 ('base')",
   "language": "python",
   "name": "python3"
  },
  "language_info": {
   "codemirror_mode": {
    "name": "ipython",
    "version": 3
   },
   "file_extension": ".py",
   "mimetype": "text/x-python",
   "name": "python",
   "nbconvert_exporter": "python",
   "pygments_lexer": "ipython3",
   "version": "3.9.12"
  },
  "orig_nbformat": 4
 },
 "nbformat": 4,
 "nbformat_minor": 2
}
