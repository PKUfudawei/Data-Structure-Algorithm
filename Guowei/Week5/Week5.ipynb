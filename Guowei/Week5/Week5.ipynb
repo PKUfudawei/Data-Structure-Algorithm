{
 "cells": [
  {
   "cell_type": "markdown",
   "metadata": {},
   "source": [
    "### 二叉树"
   ]
  },
  {
   "cell_type": "code",
   "execution_count": 1,
   "metadata": {},
   "outputs": [],
   "source": [
    "class BinaryTree:\n",
    "    def __init__(self, data, left=None, right=None):\n",
    "        self.data = data\n",
    "        self.left = left\n",
    "        self.right = right\n",
    "        \n",
    "    def addLeft(self, tree):\n",
    "        self.left = tree\n",
    "        \n",
    "    def addright(self, tree):\n",
    "        self.right = tree\n",
    "        \n",
    "    def preorderTraversal(self, function):\n",
    "        function(self)\n",
    "        if self.left:\n",
    "            self.left.preorderTraversal()\n",
    "        if self.right:\n",
    "            self.right.preorderTraversal()\n",
    "            \n",
    "    def inorderTraversal(self, function):\n",
    "        if self.left:\n",
    "            self.left.inorderTraversal()\n",
    "        function(self)\n",
    "        if self.right:\n",
    "            self.right.inorderTraversal()\n",
    "            \n",
    "    def postorderTraversal(self, function):\n",
    "        if self.left:\n",
    "            self.left.postorderTraversal()\n",
    "        if self.right:\n",
    "            self.right.postorderTraversal()\n",
    "        function(self)"
   ]
  },
  {
   "cell_type": "markdown",
   "metadata": {},
   "source": [
    "列表实现方法"
   ]
  },
  {
   "cell_type": "code",
   "execution_count": null,
   "metadata": {},
   "outputs": [],
   "source": [
    "class BinaryTree:\n",
    "    def __init__(self, data, left=None, right=None):\n",
    "        self.treeList=[data, left, right]\n",
    "        \n",
    "    def addLeft(self, tree):\n",
    "        self.treeList[1] = tree.treeList\n",
    "    \n",
    "    def addright(self, tree):\n",
    "        self.treeList[2] = tree.treeList"
   ]
  },
  {
   "cell_type": "markdown",
   "metadata": {},
   "source": [
    "### 文本二叉树"
   ]
  },
  {
   "cell_type": "code",
   "execution_count": null,
   "metadata": {},
   "outputs": [],
   "source": [
    "class BinaryTree:\n",
    "    def __init__(self, data, left=None, right=None):\n",
    "        self.data = data\n",
    "        self.left = left\n",
    "        self.right = right\n",
    "        \n",
    "    def addLeft(self, tree):\n",
    "        self.left = tree\n",
    "        \n",
    "    def addright(self, tree):\n",
    "        self.right = tree\n",
    "        \n",
    "    def preorderTraversal(self, function):\n",
    "        function(self)\n",
    "        if self.left:\n",
    "            self.left.preorderTraversal()\n",
    "        if self.right:\n",
    "            self.right.preorderTraversal()\n",
    "            \n",
    "    def inorderTraversal(self, function):\n",
    "        if self.left:\n",
    "            self.left.inorderTraversal()\n",
    "        function(self)\n",
    "        if self.right:\n",
    "            self.right.inorderTraversal()\n",
    "            \n",
    "    def postorderTraversal(self, function):\n",
    "        if self.left:\n",
    "            self.left.postorderTraversal()\n",
    "        if self.right:\n",
    "            self.right.postorderTraversal()\n",
    "        function(self)\n",
    "        \n",
    "def buildTree(nodes):\n",
    "    nodesPtr=0\n",
    "    def build(level):\n",
    "        nonlocal nodesPtr\n",
    "        tree=BinaryTree(nodes[nodesPtr][1])\n",
    "        nodesPtr+=1\n",
    "        if nodesPtr<len(nodes) and nodes[nodesPtr][0]==level+1:\n",
    "            if nodes[nodesPtr][1] != '0':\n",
    "                tree.addLeft(build(level+1))\n",
    "            else:\n",
    "                nodesPtr+=1\n",
    "        \n",
    "        if nodesPtr<len(nodes) and nodes[nodesPtr][0]==level+1:\n",
    "            tree.addright(build(level+1))\n",
    "        return tree\n",
    "    \n",
    "    return build(0)\n",
    "\n",
    "nodes=[]\n",
    "\n",
    "def driver():\n",
    "    while True:\n",
    "        try:\n",
    "            s=input().rstrip()\n",
    "            nodes.append((len(s)-1, s.strip()))\n",
    "        except:\n",
    "            break\n",
    "        \n",
    "    tree=buildTree(nodes)\n",
    "    tree.preorderTraversal(function=lambda x: print(x.data, end=''))\n",
    "    print()\n",
    "    tree.inorderTraversal(function=lambda x: print(x.data, end=''))\n",
    "    print()\n",
    "    tree.postorderTraversal(function=lambda x: print(x.data, end=''))"
   ]
  },
  {
   "cell_type": "markdown",
   "metadata": {},
   "source": [
    "### 生成器"
   ]
  },
  {
   "cell_type": "code",
   "execution_count": 7,
   "metadata": {},
   "outputs": [
    {
     "name": "stdout",
     "output_type": "stream",
     "text": [
      "1\n",
      "2\n",
      "(1, 2)\n"
     ]
    }
   ],
   "source": [
    "def test_yield():\n",
    "    yield 1\n",
    "    yield 2\n",
    "    yield (1,2)\n",
    "    \n",
    "for x in test_yield():\n",
    "    print(x)"
   ]
  },
  {
   "cell_type": "code",
   "execution_count": 8,
   "metadata": {},
   "outputs": [
    {
     "name": "stdout",
     "output_type": "stream",
     "text": [
      "0,1,1,2,3,5,8,13,21,34,55,"
     ]
    }
   ],
   "source": [
    "def fib(n):\n",
    "    a,b,counter=0,1,0\n",
    "    while counter<=n:\n",
    "        yield a\n",
    "        a, b = b, a+b\n",
    "        counter += 1\n",
    "    \n",
    "for x in fib(10):\n",
    "    print(x,end=',')"
   ]
  },
  {
   "cell_type": "markdown",
   "metadata": {},
   "source": [
    "### 二叉树的非递归遍历"
   ]
  },
  {
   "cell_type": "code",
   "execution_count": null,
   "metadata": {},
   "outputs": [],
   "source": [
    "class BinaryTree:\n",
    "    def __init__(self, data, left=None, right=None):\n",
    "        self.data = data\n",
    "        self.left = left\n",
    "        self.right = right\n",
    "        \n",
    "    def addLeft(self, tree):\n",
    "        self.left = tree\n",
    "        \n",
    "    def addright(self, tree):\n",
    "        self.right = tree\n",
    "        \n",
    "    def preorderTraversal(self):\n",
    "        stack=[self]\n",
    "        while len(stack)>0:\n",
    "            node=stack.pop()\n",
    "            if node is None:\n",
    "                continue\n",
    "            yield node\n",
    "            stack.append(node.right)\n",
    "            stack.append(node.left)\n",
    "    \n",
    "    def inorderTraversal(self, function):\n",
    "        stack=[[self, False]] ## False means its left child has not been visited\n",
    "        while len(stack)>0:\n",
    "            node=stack[-1]\n",
    "            if node[0] is None:\n",
    "                stack.pop()\n",
    "                continue\n",
    "            if node[1] is False:\n",
    "                stack.append([node[0].left, False])\n",
    "                node[1]=True\n",
    "            elif node[1] is True:\n",
    "                function(node[0])\n",
    "                stack.pop()\n",
    "                stack.append([node[0].right, False])\n",
    "        "
   ]
  },
  {
   "cell_type": "code",
   "execution_count": null,
   "metadata": {},
   "outputs": [],
   "source": []
  }
 ],
 "metadata": {
  "interpreter": {
   "hash": "cccc6b24c42b92f0f5397c28f29e0b94ee4e833e31f323dd2f4eab36a0e1136b"
  },
  "kernelspec": {
   "display_name": "Python 3.9.9 ('base')",
   "language": "python",
   "name": "python3"
  },
  "language_info": {
   "codemirror_mode": {
    "name": "ipython",
    "version": 3
   },
   "file_extension": ".py",
   "mimetype": "text/x-python",
   "name": "python",
   "nbconvert_exporter": "python",
   "pygments_lexer": "ipython3",
   "version": "3.9.9"
  },
  "orig_nbformat": 4
 },
 "nbformat": 4,
 "nbformat_minor": 2
}
