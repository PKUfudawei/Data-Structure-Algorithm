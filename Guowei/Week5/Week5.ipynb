{
 "cells": [
  {
   "cell_type": "code",
   "execution_count": 1,
   "metadata": {},
   "outputs": [],
   "source": [
    "class BinaryTree:\n",
    "    def __init__(self, data, left=None, right=None):\n",
    "        self.data = data\n",
    "        self.left = left\n",
    "        self.right = right\n",
    "        \n",
    "    def addLeft(self, tree):\n",
    "        self.left = tree\n",
    "        \n",
    "    def addright(self, tree):\n",
    "        self.right = tree\n",
    "        \n",
    "    def preorderTraversal(self, function):\n",
    "        function(self)\n",
    "        if self.left:\n",
    "            self.left.preorderTraversal()\n",
    "        if self.right:\n",
    "            self.right.preorderTraversal()\n",
    "            \n",
    "    def inorderTraversal(self, function):\n",
    "        if self.left:\n",
    "            self.left.inorderTraversal()\n",
    "        function(self)\n",
    "        if self.right:\n",
    "            self.right.inorderTraversal()\n",
    "            \n",
    "    def postorderTraversal(self, function):\n",
    "        if self.left:\n",
    "            self.left.postorderTraversal()\n",
    "        if self.right:\n",
    "            self.right.postorderTraversal()\n",
    "        function(self)"
   ]
  },
  {
   "cell_type": "markdown",
   "metadata": {},
   "source": [
    "列表实现方法"
   ]
  },
  {
   "cell_type": "code",
   "execution_count": null,
   "metadata": {},
   "outputs": [],
   "source": [
    "class BinaryTree:\n",
    "    def __init__(self, data, left=None, right=None):\n",
    "        self.treeList=[data, left, right]\n",
    "        \n",
    "    def addLeft(self, tree):\n",
    "        self.treeList[1] = tree.treeList\n",
    "    \n",
    "    def addright(self, tree):\n",
    "        self.treeList[2] = tree.treeList"
   ]
  },
  {
   "cell_type": "code",
   "execution_count": null,
   "metadata": {},
   "outputs": [],
   "source": [
    "class BinaryTree:\n",
    "    def __init__(self, data, left=None, right=None):\n",
    "        self.data = data\n",
    "        self.left = left\n",
    "        self.right = right\n",
    "        \n",
    "    def addLeft(self, tree):\n",
    "        self.left = tree\n",
    "        \n",
    "    def addright(self, tree):\n",
    "        self.right = tree\n",
    "        \n",
    "    def preorderTraversal(self, function):\n",
    "        function(self)\n",
    "        if self.left:\n",
    "            self.left.preorderTraversal()\n",
    "        if self.right:\n",
    "            self.right.preorderTraversal()\n",
    "            \n",
    "    def inorderTraversal(self, function):\n",
    "        if self.left:\n",
    "            self.left.inorderTraversal()\n",
    "        function(self)\n",
    "        if self.right:\n",
    "            self.right.inorderTraversal()\n",
    "            \n",
    "    def postorderTraversal(self, function):\n",
    "        if self.left:\n",
    "            self.left.postorderTraversal()\n",
    "        if self.right:\n",
    "            self.right.postorderTraversal()\n",
    "        function(self)\n",
    "        \n",
    "def buildTree(nodes):\n",
    "    nodesPtr=0\n",
    "    def build(level):\n",
    "        nonlocal nodesPtr\n",
    "        tree=BinaryTree(nodes[nodesPtr][1])\n",
    "        nodesPtr+=1\n",
    "        if nodesPtr<len(nodes) and nodes[nodesPtr][0]==level+1:\n",
    "            if nodes[nodesPtr][1] != '0':\n",
    "                tree.addLeft(build(level+1))\n",
    "            else:\n",
    "                nodesPtr+=1\n",
    "        \n",
    "        if nodesPtr<len(nodes) and nodes[nodesPtr][0]==level+1:\n",
    "            tree.addright(build(level+1))\n",
    "        return tree\n",
    "    \n",
    "    return build(0)\n",
    "\n",
    "nodes=[]\n",
    "\n",
    "while True:\n",
    "    try:\n",
    "        s=input().rstrip()\n",
    "        nodes.append((len(s)-1, s.strip()))\n",
    "    except:\n",
    "        break"
   ]
  },
  {
   "cell_type": "code",
   "execution_count": 5,
   "metadata": {},
   "outputs": [
    {
     "data": {
      "text/plain": [
       "[1, 2, 3, 4, 5, (5, 3)]"
      ]
     },
     "execution_count": 5,
     "metadata": {},
     "output_type": "execute_result"
    }
   ],
   "source": [
    "a=[1,2,3,4,5]\n",
    "a.append((5,3))\n",
    "a"
   ]
  },
  {
   "cell_type": "code",
   "execution_count": null,
   "metadata": {},
   "outputs": [],
   "source": []
  }
 ],
 "metadata": {
  "interpreter": {
   "hash": "cccc6b24c42b92f0f5397c28f29e0b94ee4e833e31f323dd2f4eab36a0e1136b"
  },
  "kernelspec": {
   "display_name": "Python 3.9.9 ('base')",
   "language": "python",
   "name": "python3"
  },
  "language_info": {
   "codemirror_mode": {
    "name": "ipython",
    "version": 3
   },
   "file_extension": ".py",
   "mimetype": "text/x-python",
   "name": "python",
   "nbconvert_exporter": "python",
   "pygments_lexer": "ipython3",
   "version": "3.9.9"
  },
  "orig_nbformat": 4
 },
 "nbformat": 4,
 "nbformat_minor": 2
}
