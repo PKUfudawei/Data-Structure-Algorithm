{
 "cells": [
  {
   "cell_type": "markdown",
   "metadata": {},
   "source": [
    "# DFS"
   ]
  },
  {
   "cell_type": "markdown",
   "metadata": {},
   "source": [
    "### 邻接表"
   ]
  },
  {
   "cell_type": "code",
   "execution_count": null,
   "metadata": {},
   "outputs": [],
   "source": [
    "def dfsTravel(G, function):\n",
    "    def dfs(v):\n",
    "        visited[v] = True\n",
    "        function(v)\n",
    "        for u in G[v]:\n",
    "            if not visited[u]:\n",
    "                dfs(u)\n",
    "                \n",
    "    n=len(G)\n",
    "    visited  = [False for i in range(n)]\n",
    "    for i in range(n):\n",
    "        if not visited[i]:\n",
    "            dfs(i)"
   ]
  },
  {
   "cell_type": "markdown",
   "metadata": {},
   "source": [
    "### 邻接矩阵"
   ]
  },
  {
   "cell_type": "code",
   "execution_count": null,
   "metadata": {},
   "outputs": [],
   "source": [
    "def dfsTravel2(G, function):\n",
    "    def dfs(v):\n",
    "        visited[v] = True\n",
    "        function(v)\n",
    "        for i in range(n):\n",
    "            if G[v][i] and not visited[i]:\n",
    "                dfs(i)\n",
    "                \n",
    "    n=len(G)\n",
    "    visited  = [False for i in range(n)]\n",
    "    for i in range(n):\n",
    "        if not visited[i]:\n",
    "            dfs(i)"
   ]
  },
  {
   "cell_type": "markdown",
   "metadata": {},
   "source": [
    "### 非递归临接表"
   ]
  },
  {
   "cell_type": "code",
   "execution_count": null,
   "metadata": {},
   "outputs": [],
   "source": [
    "def dfsTravel3(G, function):\n",
    "    n=len(G)\n",
    "    visited  = [False for i in range(n)]\n",
    "    for x in range(n):\n",
    "        if not visited[x]:\n",
    "            stack=[[x, 0]]\n",
    "            visited[x] = True\n",
    "            while len(stack)>0:\n",
    "                node=stack[-1]\n",
    "                v = node[0]\n",
    "                if node[1]==0:\n",
    "                    function(v)\n",
    "                if node[1]==len(G[v]):\n",
    "                    stack.pop()\n",
    "                else:\n",
    "                    for i in range(node[1], len(G[v])):\n",
    "                        u=G[v][i]\n",
    "                        node[1]+=1\n",
    "                        if not visited[u]:\n",
    "                            stack.append([u,0])\n",
    "                            visited[u]=True\n",
    "                            break\n",
    "                    "
   ]
  },
  {
   "cell_type": "markdown",
   "metadata": {},
   "source": [
    "# BFS"
   ]
  },
  {
   "cell_type": "markdown",
   "metadata": {},
   "source": [
    "### 邻接表"
   ]
  },
  {
   "cell_type": "code",
   "execution_count": null,
   "metadata": {},
   "outputs": [],
   "source": [
    "class Edge:\n",
    "    def __init__(self, vertex, weight):\n",
    "        self.vertex = vertex\n",
    "        self.weight = weight\n",
    "\n",
    "def bfsTravel(G, function):\n",
    "    import collections\n",
    "    n = len(G)\n",
    "    q = collections.deque()\n",
    "    visited = [False for i in range(n)]\n",
    "    for i in range(n):\n",
    "        if not visited[i]:\n",
    "            q.append(i)\n",
    "            visited[i] = True\n",
    "            while len(q)>0:\n",
    "                v = q.popleft()\n",
    "                function(v)\n",
    "                for e in G[v]:\n",
    "                    if not visited[e.v]:\n",
    "                        q.append(e.v)\n",
    "                        visited[e.v] = True\n",
    "                    "
   ]
  },
  {
   "cell_type": "markdown",
   "metadata": {},
   "source": [
    "### 邻接矩阵"
   ]
  },
  {
   "cell_type": "code",
   "execution_count": null,
   "metadata": {},
   "outputs": [],
   "source": [
    "def bfsTravel2(G, function):\n",
    "    import collections\n",
    "    n = len(G)\n",
    "    q = collections.deque()\n",
    "    visited = [False for i in range(n)]\n",
    "    for x in range(n):\n",
    "        if not visited[x]:\n",
    "            q.append(x)\n",
    "            visited[x] = True\n",
    "            while len(q) > 0:\n",
    "                v = q.popleft()\n",
    "                function(v)\n",
    "                for i in range(n):\n",
    "                    if G[v][i]:\n",
    "                        if not visited[i]:\n",
    "                            q.append(i)\n",
    "                            visited[i] = True"
   ]
  },
  {
   "cell_type": "markdown",
   "metadata": {},
   "source": [
    "### 城堡问题"
   ]
  },
  {
   "cell_type": "code",
   "execution_count": null,
   "metadata": {},
   "outputs": [],
   "source": [
    "def driver():\n",
    "    R=int(input())\n",
    "    C=int(input())\n",
    "    color=[[0 for _ in range(C)] for _ in range(R)]\n",
    "    castle=[]\n",
    "    for i in range(R):\n",
    "        castle.append(map(int, input().split()))\n",
    "    \n",
    "    maxRoomArea, roomNum, roomArea = 0, 0, 0\n",
    "    \n",
    "    def dfs(i, j):\n",
    "        nonlocal roomArea\n",
    "        if i<0 or i>=R or j<0 or j>=C or color[i][j]:\n",
    "            return\n",
    "        roomArea += 1\n",
    "        color[i][j] = roomNum\n",
    "        if (castle[i][j]&1)==0: \n",
    "            dfs(i, j-1)\n",
    "        if (castle[i][j]&2)==0:\n",
    "            dfs(i-1, j)\n",
    "        if (castle[i][j]&4)==0:\n",
    "            dfs(i, j+1)\n",
    "        if (castle[i][j]&8)==0:\n",
    "            dfs(i+1, j)\n",
    "        \n",
    "    for i in range(R):\n",
    "        for j in range(C):\n",
    "            if not color[i][j]:\n",
    "                roomNum+=1\n",
    "                roomArea=0\n",
    "                dfs(i,j)\n",
    "                maxRoomArea=max(maxRoomArea, roomArea)\n",
    "                \n",
    "    print(roomNum)\n",
    "    print(maxRoomArea)"
   ]
  },
  {
   "cell_type": "markdown",
   "metadata": {},
   "source": [
    "### 踩方格"
   ]
  },
  {
   "cell_type": "code",
   "execution_count": 17,
   "metadata": {},
   "outputs": [
    {
     "data": {
      "text/plain": [
       "7"
      ]
     },
     "execution_count": 17,
     "metadata": {},
     "output_type": "execute_result"
    }
   ],
   "source": [
    "def driver():\n",
    "    n=int(input())\n",
    "    visited=set()    \n",
    "    def dfs(i, j, n):\n",
    "        if n==0:\n",
    "            return 1\n",
    "        \n",
    "        ways=0\n",
    "        visited.add((i,j))\n",
    "        if (i+1, j) not in visited:\n",
    "            ways+=dfs(i+1, j, n-1)\n",
    "        if (i, j-1) not in visited:\n",
    "            ways+=dfs(i, j-1, n-1)\n",
    "        if (i, j+1) not in visited:\n",
    "            ways+=dfs(i, j+1, n-1)\n",
    "        visited.discard((i, j))\n",
    "        return ways\n",
    "    \n",
    "    return dfs(0,0,n)\n",
    "\n",
    "driver()"
   ]
  },
  {
   "cell_type": "markdown",
   "metadata": {},
   "source": [
    "### 24点\n",
    "数字任意排列, 任意添加括号"
   ]
  },
  {
   "cell_type": "code",
   "execution_count": null,
   "metadata": {},
   "outputs": [],
   "source": [
    "def dfs(state): ## state=[num1, ...]\n",
    "    if len(state)==1:\n",
    "        return True if state[0]==24 else False\n",
    "    paired=set()\n",
    "    for i in range(len(state)):\n",
    "        for j in range(len(state)):\n",
    "            if i==j or (i,j) in paired:\n",
    "                continue\n",
    "            paired.add((i,j))\n",
    "\n",
    "            for op in '+-*/':\n",
    "                _state=state[:]\n",
    "                if op=='/' and _state[j]==0:\n",
    "                    continue\n",
    "\n",
    "                m, M = min(i,j), max(i,j)\n",
    "                _state.insert(0, eval(str(_state.pop(M))+op+str(_state.pop(m))))\n",
    "\n",
    "                if dfs(_state):\n",
    "                    return True\n",
    "                \n",
    "    return False\n",
    "## But return no successful expression, to be improved    \n",
    "          \n",
    "def driver():\n",
    "    while True:\n",
    "        try:\n",
    "            state=list(map(int, input().split()))\n",
    "            if dfs(state):\n",
    "                print('YES')\n",
    "            else:\n",
    "                print('NO')\n",
    "        except EOFError:\n",
    "            break\n",
    "\n",
    "driver()"
   ]
  },
  {
   "cell_type": "markdown",
   "metadata": {},
   "source": [
    "### ROADS"
   ]
  },
  {
   "cell_type": "code",
   "execution_count": 24,
   "metadata": {},
   "outputs": [
    {
     "data": {
      "text/plain": [
       "True"
      ]
     },
     "execution_count": 24,
     "metadata": {},
     "output_type": "execute_result"
    }
   ],
   "source": [
    "from math import inf\n",
    "class Road:\n",
    "    def __init__(self, start=None, end=None, length=None, cost=None):\n",
    "        self.start=start\n",
    "        self.end = end\n",
    "        self.length = length\n",
    "        self.cost = cost\n",
    "        \n",
    "def driver():      \n",
    "    roadMap={}\n",
    "    minLen=inf\n",
    "    totalLen=0\n",
    "    totalCost=0\n",
    "    visited=set()\n",
    "    minL={ ## means the shortest length from 1 to i at the cost of j\n",
    "        i: {\n",
    "            j: inf for j in range(1, K)\n",
    "        } for i in range(1, N)\n",
    "    }\n",
    "\n",
    "    def dfs(k): ## from city k to city N\n",
    "        nonlocal N, minLen, totalLen, totalCost, minL, visited\n",
    "        \n",
    "        if k==N:\n",
    "            minLen = min(minLen, totalLen)\n",
    "            return\n",
    "        visited.add(k)\n",
    "        for road in roadMap[k]: ## the roads starting from k\n",
    "            if road.end in visited:\n",
    "                continue\n",
    "            if totalCost + road.cost>K:\n",
    "                continue\n",
    "            if totalLen + road.length>=min(minLen, minL[road.end][totalCost + road.cost]):\n",
    "                continue\n",
    "            totalLen += road.length\n",
    "            totalCost += road.cost\n",
    "            minL[road][totalCost + road.cost] = totalLen\n",
    "            visited.add(road)\n",
    "            dfs(road)\n",
    "            totalCost-=road.cost\n",
    "            totalLen-=road.length\n",
    "        visited.discard(k)\n",
    "            \n",
    "    K=int(input())\n",
    "    N=int(input())\n",
    "    R=int(input())\n",
    "\n",
    "    for i in range(R):\n",
    "        start, end, length, cost = map(int, input().split())\n",
    "        if start not in roadMap:\n",
    "            roadMap[start]=[]\n",
    "        roadMap[start].append(Road(start, end, length, cost))\n",
    "\n",
    "    totalCost, totalLen=0,0\n",
    "    visited.add(1)\n",
    "    dfs(1)\n",
    "    print(minLen) if minLen<inf else print(-1)\n",
    "\n",
    "        "
   ]
  },
  {
   "cell_type": "markdown",
   "metadata": {},
   "source": [
    "### 生日蛋糕"
   ]
  },
  {
   "cell_type": "code",
   "execution_count": 27,
   "metadata": {},
   "outputs": [
    {
     "name": "stdout",
     "output_type": "stream",
     "text": [
      "1\n"
     ]
    }
   ],
   "source": [
    "from math import inf, sqrt\n",
    "\n",
    "def maxVatNRH(n, r, h):\n",
    "    v=0\n",
    "    for i in range(n):\n",
    "        v += (r-i)**2 * (h-i)\n",
    "    return v\n",
    "\n",
    "def driver():\n",
    "    minArea=inf\n",
    "    area=0\n",
    "    minV={0:0}\n",
    "    minAside={0:0}\n",
    "    N=int(input())\n",
    "    M=int(input())\n",
    "\n",
    "    def dfs(V, N, maxR, maxH):\n",
    "        nonlocal minArea, area, M\n",
    "        if N==0:\n",
    "            if V!=0: return\n",
    "            else:\n",
    "                minArea=min(minArea, area)\n",
    "                return\n",
    "        if V<=0:\n",
    "            return\n",
    "        if minV[N]>V:\n",
    "            return\n",
    "        if area + minAside[N]>minArea:\n",
    "            return\n",
    "        if maxH<N or maxR<N:\n",
    "            return\n",
    "        if maxVatNRH(N, maxR, maxH)<V:\n",
    "            return\n",
    "        \n",
    "        for r in range(maxR, N-1, -1):\n",
    "            if N==M:\n",
    "                area = r**2\n",
    "            for h in range(h, N-1, -1):\n",
    "                area += 2*r*h\n",
    "                dfs(V-r**2*h, N-1, maxR-1, maxH-1)\n",
    "                area -= 2*r*h\n",
    "                \n",
    "    for i in range(1, M+1):\n",
    "        minV[i]=minV[i-1] + i**3\n",
    "        minAside[i]=minAside[i-1] + 2*i*i\n",
    "    if minV[M]>N:\n",
    "        print(0)\n",
    "    else:\n",
    "        maxH=(N-minV[M-1])//(M**2)+1\n",
    "        maxR=int(sqrt((N-minV[M-1])/M)) + 1\n",
    "        area=0\n",
    "        minArea=inf\n",
    "        dfs(N, M, maxR, maxH)\n",
    "        if minArea==inf:\n",
    "            print(0)\n",
    "        else:\n",
    "            print(minArea)"
   ]
  },
  {
   "cell_type": "markdown",
   "metadata": {},
   "source": [
    "### 抓住那头牛"
   ]
  },
  {
   "cell_type": "code",
   "execution_count": 47,
   "metadata": {},
   "outputs": [
    {
     "name": "stdout",
     "output_type": "stream",
     "text": [
      "4\n",
      "17, 16, 8, 4, 5\n"
     ]
    }
   ],
   "source": [
    "def driver():   \n",
    "    frontier=[]\n",
    "    visited=set()\n",
    "    steps={}\n",
    "    parent={}\n",
    "\n",
    "    def bfs(start, end):\n",
    "        nonlocal frontier, visited, steps, parent\n",
    "        visited.add(start)\n",
    "        frontier.append(start)\n",
    "        steps[start]=0\n",
    "        parent[start]=None\n",
    "        \n",
    "        while frontier:\n",
    "            new=frontier.pop(0)\n",
    "            if new==end:\n",
    "                return steps[new]\n",
    "            for i in [new-1, new+1, 2*new]:\n",
    "                if i not in visited and 0<=i<=100000:\n",
    "                    visited.add(i)\n",
    "                    frontier.append(i)\n",
    "                    steps[i]=steps[new]+1\n",
    "                    parent[i]=new\n",
    "        return False\n",
    "                \n",
    "    N, K=map(int, input().split())\n",
    "    print(bfs(N, K))\n",
    "      \n",
    "driver()"
   ]
  },
  {
   "cell_type": "markdown",
   "metadata": {},
   "source": [
    "### 迷宫问题"
   ]
  },
  {
   "cell_type": "code",
   "execution_count": 50,
   "metadata": {},
   "outputs": [
    {
     "name": "stdout",
     "output_type": "stream",
     "text": [
      "8\n"
     ]
    }
   ],
   "source": [
    "def driver():\n",
    "    matrix=[]\n",
    "    frontier=[]\n",
    "    visited=set()\n",
    "    parent={}\n",
    "    steps={}\n",
    "    \n",
    "    def bfs(start, end):\n",
    "        nonlocal matrix, frontier, visited, parent, steps\n",
    "        visited.add(start)\n",
    "        frontier.append(start)\n",
    "        parent[start]=None\n",
    "        steps[start]=0\n",
    "        \n",
    "        while frontier:\n",
    "            new=frontier.pop(0)\n",
    "            if new==end:\n",
    "                return steps[new]\n",
    "            for neighbor in [(new[0]-1, new[1]), (new[0]+1, new[1]),\n",
    "                             (new[0], new[1]-1), (new[0], new[1]+1)]:\n",
    "                if (0<=neighbor[0]<len(matrix[0]) \n",
    "                    and 0<=neighbor[1]<len(matrix) \n",
    "                    and neighbor not in visited \n",
    "                    and matrix[neighbor[0]][neighbor[1]]!=1):\n",
    "                    visited.add(neighbor)\n",
    "                    frontier.append(neighbor)\n",
    "                    parent[neighbor]=new\n",
    "                    steps[neighbor]=steps[new]+1\n",
    "                    \n",
    "        return False\n",
    "    \n",
    "    R, C=map(int, input().split())\n",
    "    for _ in range(R):\n",
    "        matrix.append(list(map(int, input().split())))\n",
    "    \n",
    "    print(bfs((0, 0), (R-1, C-1)))\n",
    "    \n",
    "driver()"
   ]
  },
  {
   "cell_type": "code",
   "execution_count": null,
   "metadata": {},
   "outputs": [],
   "source": []
  }
 ],
 "metadata": {
  "interpreter": {
   "hash": "cccc6b24c42b92f0f5397c28f29e0b94ee4e833e31f323dd2f4eab36a0e1136b"
  },
  "kernelspec": {
   "display_name": "Python 3.9.9 ('base')",
   "language": "python",
   "name": "python3"
  },
  "language_info": {
   "codemirror_mode": {
    "name": "ipython",
    "version": 3
   },
   "file_extension": ".py",
   "mimetype": "text/x-python",
   "name": "python",
   "nbconvert_exporter": "python",
   "pygments_lexer": "ipython3",
   "version": "3.9.9"
  },
  "orig_nbformat": 4
 },
 "nbformat": 4,
 "nbformat_minor": 2
}
