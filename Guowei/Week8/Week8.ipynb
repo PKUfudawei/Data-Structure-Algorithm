{
 "cells": [
  {
   "cell_type": "markdown",
   "metadata": {},
   "source": [
    "# DFS"
   ]
  },
  {
   "cell_type": "markdown",
   "metadata": {},
   "source": [
    "### 邻接表"
   ]
  },
  {
   "cell_type": "code",
   "execution_count": null,
   "metadata": {},
   "outputs": [],
   "source": [
    "def dfsTravel(G, function):\n",
    "    def dfs(v):\n",
    "        visited[v] = True\n",
    "        function(v)\n",
    "        for u in G[v]:\n",
    "            if not visited[u]:\n",
    "                dfs(u)\n",
    "                \n",
    "    n=len(G)\n",
    "    visited  = [False for i in range(n)]\n",
    "    for i in range(n):\n",
    "        if not visited[i]:\n",
    "            dfs(i)"
   ]
  },
  {
   "cell_type": "markdown",
   "metadata": {},
   "source": [
    "### 邻接矩阵"
   ]
  },
  {
   "cell_type": "code",
   "execution_count": null,
   "metadata": {},
   "outputs": [],
   "source": [
    "def dfsTravel2(G, function):\n",
    "    def dfs(v):\n",
    "        visited[v] = True\n",
    "        function(v)\n",
    "        for i in range(n):\n",
    "            if G[v][i] and not visited[i]:\n",
    "                dfs(i)\n",
    "                \n",
    "    n=len(G)\n",
    "    visited  = [False for i in range(n)]\n",
    "    for i in range(n):\n",
    "        if not visited[i]:\n",
    "            dfs(i)"
   ]
  },
  {
   "cell_type": "markdown",
   "metadata": {},
   "source": [
    "### 非递归临接表"
   ]
  },
  {
   "cell_type": "code",
   "execution_count": null,
   "metadata": {},
   "outputs": [],
   "source": [
    "def dfsTravel3(G, function):\n",
    "    n=len(G)\n",
    "    visited  = [False for i in range(n)]\n",
    "    for x in range(n):\n",
    "        if not visited[x]:\n",
    "            stack=[[x, 0]]\n",
    "            visited[x] = True\n",
    "            while len(stack)>0:\n",
    "                node=stack[-1]\n",
    "                v = node[0]\n",
    "                if node[1]==0:\n",
    "                    function(v)\n",
    "                if node[1]==len(G[v]):\n",
    "                    stack.pop()\n",
    "                else:\n",
    "                    for i in range(node[1], len(G[v])):\n",
    "                        u=G[v][i]\n",
    "                        node[1]+=1\n",
    "                        if not visited[u]:\n",
    "                            stack.append([u,0])\n",
    "                            visited[u]=True\n",
    "                            break\n",
    "                    "
   ]
  },
  {
   "cell_type": "markdown",
   "metadata": {},
   "source": [
    "# BFS"
   ]
  },
  {
   "cell_type": "markdown",
   "metadata": {},
   "source": [
    "### 邻接表"
   ]
  },
  {
   "cell_type": "code",
   "execution_count": null,
   "metadata": {},
   "outputs": [],
   "source": [
    "class Edge:\n",
    "    def __init__(self, vertex, weight):\n",
    "        self.vertex = vertex\n",
    "        self.weight = weight\n",
    "\n",
    "def bfsTravel(G, function):\n",
    "    import collections\n",
    "    n = len(G)\n",
    "    q = collections.deque()\n",
    "    visited = [False for i in range(n)]\n",
    "    for i in range(n):\n",
    "        if not visited[i]:\n",
    "            q.append(i)\n",
    "            visited[i] = True\n",
    "            while len(q)>0:\n",
    "                v = q.popleft()\n",
    "                function(v)\n",
    "                for e in G[v]:\n",
    "                    if not visited[e.v]:\n",
    "                        q.append(e.v)\n",
    "                        visited[e.v] = True\n",
    "                    "
   ]
  },
  {
   "cell_type": "markdown",
   "metadata": {},
   "source": [
    "### 邻接矩阵"
   ]
  },
  {
   "cell_type": "code",
   "execution_count": null,
   "metadata": {},
   "outputs": [],
   "source": [
    "def bfsTravel2(G, function):\n",
    "    import collections\n",
    "    n = len(G)\n",
    "    q = collections.deque()\n",
    "    visited = [False for i in range(n)]\n",
    "    for x in range(n):\n",
    "        if not visited[x]:\n",
    "            q.append(x)\n",
    "            visited[x] = True\n",
    "            while len(q) > 0:\n",
    "                v = q.popleft()\n",
    "                function(v)\n",
    "                for i in range(n):\n",
    "                    if G[v][i]:\n",
    "                        if not visited[i]:\n",
    "                            q.append(i)\n",
    "                            visited[i] = True"
   ]
  }
 ],
 "metadata": {
  "interpreter": {
   "hash": "cccc6b24c42b92f0f5397c28f29e0b94ee4e833e31f323dd2f4eab36a0e1136b"
  },
  "kernelspec": {
   "display_name": "Python 3.9.9 ('base')",
   "language": "python",
   "name": "python3"
  },
  "language_info": {
   "codemirror_mode": {
    "name": "ipython",
    "version": 3
   },
   "file_extension": ".py",
   "mimetype": "text/x-python",
   "name": "python",
   "nbconvert_exporter": "python",
   "pygments_lexer": "ipython3",
   "version": "3.9.9"
  },
  "orig_nbformat": 4
 },
 "nbformat": 4,
 "nbformat_minor": 2
}
