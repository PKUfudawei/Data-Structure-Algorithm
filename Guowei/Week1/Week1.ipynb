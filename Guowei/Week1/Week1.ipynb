{
 "cells": [
  {
   "cell_type": "code",
   "execution_count": null,
   "metadata": {},
   "outputs": [],
   "source": [
    "def binarySearch(someList, element, key=lambda x: x): ## someList is sorted from small to big\n",
    "    left = 0\n",
    "    right = len(someList)-1\n",
    "    while left<=right:\n",
    "        middle = (left+right)//2\n",
    "        if key[middle]<element:\n",
    "            left=middle+1\n",
    "        elif key[middle]>element:\n",
    "            right=middle-1\n",
    "        else:\n",
    "            return middle\n",
    "        \n",
    "    return None\n"
   ]
  },
  {
   "cell_type": "code",
   "execution_count": null,
   "metadata": {},
   "outputs": [],
   "source": [
    "def lowerBound(someList, element, key=lambda x: x): ## someList is sorted from small to big\n",
    "    left = 0\n",
    "    right = len(someList)-1\n",
    "    result=None\n",
    "    while left<=right:\n",
    "        middle = (left+right)//2\n",
    "        if key[middle]<element:\n",
    "            result=middle\n",
    "            left=middle+1\n",
    "        else:\n",
    "            right = middle-1\n",
    "        \n",
    "    return result\n",
    "\n",
    "    "
   ]
  }
 ],
 "metadata": {
  "language_info": {
   "name": "python"
  },
  "orig_nbformat": 4
 },
 "nbformat": 4,
 "nbformat_minor": 2
}
