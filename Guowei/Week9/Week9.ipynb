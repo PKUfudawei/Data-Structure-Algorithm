{
 "cells": [
  {
   "cell_type": "markdown",
   "metadata": {},
   "source": [
    "### Genealogical Tree"
   ]
  },
  {
   "cell_type": "code",
   "execution_count": null,
   "metadata": {},
   "outputs": [],
   "source": [
    "class Edge:\n",
    "    def __init__(self, vertex, weight):\n",
    "        self.vertex=vertex\n",
    "        self.weight=weight\n",
    "\n",
    "def topoSort(G):\n",
    "    n=len(G)\n",
    "    inDegree={vertex: 0 for vertex in G.keys()}\n",
    "    queue=[]\n",
    "    \n",
    "    for vertex in G.keys():\n",
    "        for edge in G[vertex]:\n",
    "            inDegree[edge.vertex]+=1\n",
    "    for v in inDegree.keys():\n",
    "        if inDegree[v]==0:\n",
    "            queue.append(v)\n",
    "            \n",
    "    sequence=[]\n",
    "    while queue:\n",
    "        k=queue.pop(0)\n",
    "        sequence.append(k)\n",
    "        for e in G[k]:\n",
    "            inDegree[e.vertex] -= 1\n",
    "            if inDegree[e.vertex] == 0:\n",
    "                queue.append(e.vertex)\n",
    "                \n",
    "    if len(sequence)==n:\n",
    "        return sequence\n",
    "    else:\n",
    "        return None\n",
    "    "
   ]
  }
 ],
 "metadata": {
  "language_info": {
   "name": "python"
  },
  "orig_nbformat": 4
 },
 "nbformat": 4,
 "nbformat_minor": 2
}
