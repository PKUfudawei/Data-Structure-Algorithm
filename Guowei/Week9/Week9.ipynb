{
 "cells": [
  {
   "cell_type": "markdown",
   "metadata": {},
   "source": [
    "### Genealogical Tree"
   ]
  },
  {
   "cell_type": "code",
   "execution_count": null,
   "metadata": {},
   "outputs": [],
   "source": [
    "class Edge:\n",
    "    def __init__(self, start, end, weight):\n",
    "        self.start, self.end, self.weight = start, end, weight\n",
    "        \n",
    "def degree(G):\n",
    "    inDegree={vertex: 0 for vertex in G.keys()}\n",
    "    outDegree={vertex: 0 for vertex in G.keys()}\n",
    "    for vertex in G.keys():\n",
    "        for edge in G[vertex]:\n",
    "            inDegree[edge.end]+=1\n",
    "            outDegree[vertex]+=1\n",
    "    return inDegree, outDegree\n",
    "\n",
    "def topoSort(G): ## G maps node to a list of edges\n",
    "    n=len(G)\n",
    "    indegree, _=degree(G)\n",
    "    frontier=[]\n",
    "    \n",
    "    for v in indegree.keys():\n",
    "        if indegree[v]==0:\n",
    "            frontier.append(v)\n",
    "            \n",
    "    sequence=[]\n",
    "    while frontier:\n",
    "        k=frontier.pop(0)\n",
    "        sequence.append(k)\n",
    "        for e in G[k]:\n",
    "            indegree[e.vertex] -= 1\n",
    "            if indegree[e.vertex] == 0:\n",
    "                frontier.append(e.vertex)\n",
    "                \n",
    "    if len(sequence)==n:\n",
    "        return sequence\n",
    "    else:\n",
    "        return None\n",
    "    "
   ]
  },
  {
   "cell_type": "code",
   "execution_count": null,
   "metadata": {},
   "outputs": [],
   "source": [
    "import math\n",
    "INF=math.inf\n",
    "\n",
    "def AOE(G): ## G maps node to a list of edges\n",
    "    topoList=topoSort(G)\n",
    "    if topoList==None:\n",
    "        return None\n",
    "    indegree, outDegree=degree(G)\n",
    "    earliest={v: -INF for v in G.keys()}\n",
    "    latest={v: INF for v in G.keys()}\n",
    "    edges=set((e.start, e.end, e) for v in G.keys() for e in G[v])\n",
    "    weights={(start, end): e.weight for start, end, e in edges}\n",
    "    \n",
    "    for j in topoList:\n",
    "        if indegree[j]==0:\n",
    "            earliest[j]=0\n",
    "        else:\n",
    "            earliest[j]=max(earliest[i]+weights[i, j] for i in topoList if (i,j) in weights)\n",
    "\n",
    "    T=earliest[topoList[-1]]\n",
    "    \n",
    "    for i in topoList[::-1]:\n",
    "        if outDegree[i]==0:\n",
    "            latest[i]=T\n",
    "        else:\n",
    "            latest[i]=min(latest[j]-weights[i,j] for j in topoList[::-1] if (i,j) in weights)\n",
    "            \n",
    "    return earliest, latest\n",
    "    "
   ]
  },
  {
   "cell_type": "code",
   "execution_count": 12,
   "metadata": {},
   "outputs": [
    {
     "data": {
      "text/plain": [
       "[(0, -1), (0, 0), (1, 1), (1, 2)]"
      ]
     },
     "execution_count": 12,
     "metadata": {},
     "output_type": "execute_result"
    }
   ],
   "source": [
    "a=[(1,1),(1,2),(0,0),(0,-1)]\n",
    "a.sort()\n",
    "a"
   ]
  },
  {
   "cell_type": "code",
   "execution_count": null,
   "metadata": {},
   "outputs": [],
   "source": [
    "if __name__ == '__main__':\n",
    "    driver()"
   ]
  }
 ],
 "metadata": {
  "interpreter": {
   "hash": "cccc6b24c42b92f0f5397c28f29e0b94ee4e833e31f323dd2f4eab36a0e1136b"
  },
  "kernelspec": {
   "display_name": "Python 3.9.9 ('base')",
   "language": "python",
   "name": "python3"
  },
  "language_info": {
   "codemirror_mode": {
    "name": "ipython",
    "version": 3
   },
   "file_extension": ".py",
   "mimetype": "text/x-python",
   "name": "python",
   "nbconvert_exporter": "python",
   "pygments_lexer": "ipython3",
   "version": "3.9.9"
  },
  "orig_nbformat": 4
 },
 "nbformat": 4,
 "nbformat_minor": 2
}
