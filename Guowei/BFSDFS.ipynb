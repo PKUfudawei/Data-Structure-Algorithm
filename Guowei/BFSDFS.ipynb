{
 "cells": [
  {
   "cell_type": "code",
   "execution_count": 1,
   "metadata": {},
   "outputs": [],
   "source": [
    "graph={\n",
    "    'A': ['B', 'C'],\n",
    "    'B': ['C', 'A', 'D'],\n",
    "    'C': ['A', 'B', 'D', 'E'],\n",
    "    'D': ['B', 'C', 'E', 'F'],\n",
    "    'E': ['C', 'D'],\n",
    "    'F': ['D'],\n",
    "}"
   ]
  },
  {
   "cell_type": "code",
   "execution_count": 2,
   "metadata": {},
   "outputs": [
    {
     "name": "stdout",
     "output_type": "stream",
     "text": [
      "E\n",
      "C\n",
      "D\n",
      "A\n",
      "B\n",
      "F\n",
      "{'E': None, 'C': 'E', 'D': 'E', 'A': 'C', 'B': 'C', 'F': 'D'}\n",
      "B\n",
      "C\n",
      "E\n"
     ]
    }
   ],
   "source": [
    "def BFS(graph, start):\n",
    "    queue=[]\n",
    "    queue.append(start)\n",
    "    seen=set()\n",
    "    seen.add(start)\n",
    "    parent={start:None}\n",
    "    while len(queue)>0:\n",
    "        vertex = queue.pop(0)\n",
    "        nodes=graph[vertex]\n",
    "        for w in nodes:\n",
    "            \n",
    "            if w not in seen:\n",
    "                parent[w]=vertex \n",
    "                queue.append(w)\n",
    "                seen.add(w)\n",
    "        print(vertex)\n",
    "    return parent\n",
    "    \n",
    "parent=BFS(graph, 'E')\n",
    "print(parent)\n",
    "v='B'\n",
    "while v!=None:\n",
    "    print(v)\n",
    "    v=parent[v]"
   ]
  },
  {
   "cell_type": "code",
   "execution_count": 4,
   "metadata": {},
   "outputs": [
    {
     "name": "stdout",
     "output_type": "stream",
     "text": [
      "A\n",
      "C\n",
      "E\n",
      "D\n",
      "F\n",
      "B\n",
      "D\n",
      "F\n",
      "B\n",
      "B\n",
      "B\n",
      "14\n"
     ]
    }
   ],
   "source": [
    "def DFS(graph, start):\n",
    "    stack=[]\n",
    "    stack.append(start)\n",
    "    seen={''} ## or seen = set()\n",
    "    seen.add(start)\n",
    "    while len(stack)>0:\n",
    "        vertex = stack.pop()\n",
    "        nodes=graph[vertex]\n",
    "        for w in nodes:\n",
    "            if w not in seen:\n",
    "                stack.append(w)\n",
    "                seen.add(vertex)\n",
    "        print(vertex)\n",
    "\n",
    "DFS(graph, 'A')"
   ]
  },
  {
   "cell_type": "code",
   "execution_count": 34,
   "metadata": {},
   "outputs": [],
   "source": [
    "import heapq\n",
    "\n",
    "graph={\n",
    "    'A': {'B': 5, 'C': 1},\n",
    "    'B': {'A': 5, 'C': 2, 'D': 1},\n",
    "    'C': {'A': 1, 'B': 2, 'D': 4, 'E': 8},\n",
    "    'D': {'B': 1, 'C': 4, 'E': 3, 'F': 6},\n",
    "    'E': {'C': 8, 'D': 3},\n",
    "    'F': {'D': 6},\n",
    "}\n",
    "\n",
    "pqueue=[]\n",
    "heapq.heappush(pqueue, (1, 'A'))"
   ]
  },
  {
   "cell_type": "code",
   "execution_count": 35,
   "metadata": {},
   "outputs": [
    {
     "name": "stdout",
     "output_type": "stream",
     "text": [
      "A\n",
      "C\n",
      "B\n",
      "D\n",
      "B\n",
      "D\n",
      "E\n",
      "E\n",
      "F\n",
      "{'A': None, 'B': 'C', 'C': 'A', 'D': 'B', 'E': 'D', 'F': 'D'}\n",
      "{'A': 0, 'B': 3, 'C': 1, 'D': 4, 'E': 7, 'F': 10}\n"
     ]
    }
   ],
   "source": [
    "import math\n",
    "\n",
    "def init_distance(graph, start):\n",
    "    distance={start:0}\n",
    "    for vertex in graph:\n",
    "        if vertex!=start:\n",
    "            distance[vertex]=math.inf\n",
    "    return distance\n",
    "\n",
    "\n",
    "def dijkstra(graph, start):\n",
    "    pqueue=[]\n",
    "    heapq.heappush(pqueue, (0, start))\n",
    "    seen=set()\n",
    "    parent={start:None}\n",
    "    distance=init_distance(graph, start)\n",
    "    while len(pqueue)>0:\n",
    "        dist, vertex= heapq.heappop(pqueue)\n",
    "        seen.add(vertex)\n",
    "        nodes=graph[vertex].keys()\n",
    "        for w in nodes:\n",
    "            if w not in seen:\n",
    "                if dist + graph[vertex][w]<distance[w]:\n",
    "                    heapq.heappush(pqueue, (dist + graph[vertex][w], w))\n",
    "                    distance[w]=dist + graph[vertex][w]\n",
    "                    parent[w]=vertex \n",
    "        print(vertex)\n",
    "    return parent, distance\n",
    "    \n",
    "parent, distance=dijkstra(graph, 'A')\n",
    "print(parent)\n",
    "print(distance)"
   ]
  },
  {
   "cell_type": "markdown",
   "metadata": {},
   "source": [
    "# Simplified version from online"
   ]
  },
  {
   "cell_type": "code",
   "execution_count": 37,
   "metadata": {},
   "outputs": [
    {
     "name": "stdout",
     "output_type": "stream",
     "text": [
      "A B C D E F "
     ]
    }
   ],
   "source": [
    "graph = {\n",
    "  'A' : ['B','C'],\n",
    "  'B' : ['D', 'E'],\n",
    "  'C' : ['F'],\n",
    "  'D' : [],\n",
    "  'E' : ['F'],\n",
    "  'F' : []\n",
    "}\n",
    "\n",
    "visited = [] # List to keep track of visited nodes.\n",
    "queue = []     #Initialize a queue\n",
    "\n",
    "def bfs(visited, graph, node):\n",
    "    visited.append(node)\n",
    "    queue.append(node)\n",
    "\n",
    "    while queue:\n",
    "        s = queue.pop(0) \n",
    "        print (s, end = \" \") \n",
    "\n",
    "        for neighbour in graph[s]:\n",
    "            if neighbour not in visited:\n",
    "                visited.append(neighbour)\n",
    "                queue.append(neighbour)\n",
    "\n",
    "# Driver Code\n",
    "bfs(visited, graph, 'A')"
   ]
  },
  {
   "cell_type": "code",
   "execution_count": 36,
   "metadata": {},
   "outputs": [
    {
     "name": "stdout",
     "output_type": "stream",
     "text": [
      "A\n",
      "B\n",
      "D\n",
      "E\n",
      "F\n",
      "C\n"
     ]
    }
   ],
   "source": [
    "graph = {\n",
    "    'A' : ['B','C'],\n",
    "    'B' : ['D', 'E'],\n",
    "    'C' : ['F'],\n",
    "    'D' : [],\n",
    "    'E' : ['F'],\n",
    "    'F' : []\n",
    "}\n",
    "\n",
    "visited = set() # Set to keep track of visited nodes.\n",
    "\n",
    "def dfs(visited, graph, node):\n",
    "    if node not in visited:\n",
    "        print(node)\n",
    "        visited.add(node)\n",
    "        for neighbour in graph[node]:\n",
    "            dfs(visited, graph, neighbour)\n",
    "\n",
    "# Driver Code\n",
    "dfs(visited, graph, 'A')"
   ]
  },
  {
   "cell_type": "code",
   "execution_count": null,
   "metadata": {},
   "outputs": [],
   "source": []
  }
 ],
 "metadata": {
  "interpreter": {
   "hash": "cccc6b24c42b92f0f5397c28f29e0b94ee4e833e31f323dd2f4eab36a0e1136b"
  },
  "kernelspec": {
   "display_name": "Python 3.9.9 ('base')",
   "language": "python",
   "name": "python3"
  },
  "language_info": {
   "codemirror_mode": {
    "name": "ipython",
    "version": 3
   },
   "file_extension": ".py",
   "mimetype": "text/x-python",
   "name": "python",
   "nbconvert_exporter": "python",
   "pygments_lexer": "ipython3",
   "version": "3.9.9"
  },
  "orig_nbformat": 4
 },
 "nbformat": 4,
 "nbformat_minor": 2
}
