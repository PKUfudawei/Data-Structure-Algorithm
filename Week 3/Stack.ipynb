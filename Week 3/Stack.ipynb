{
 "cells": [
  {
   "cell_type": "code",
   "execution_count": 2,
   "metadata": {},
   "outputs": [],
   "source": [
    "class Stack:\n",
    "    def __init__(self) -> None:\n",
    "        self.items=[]\n",
    "\n",
    "    def isEmpty(self):\n",
    "        return self.items == []\n",
    "\n",
    "    def push(self, item):\n",
    "        self.items.append(item)\n",
    "\n",
    "    def pop(self):\n",
    "        return self.items.pop()\n",
    "\n",
    "    def peek(self):\n",
    "        return self.items[len(self.items)-1]\n",
    "\n",
    "    def size(self):\n",
    "        return len(self.items)\n"
   ]
  },
  {
   "cell_type": "code",
   "execution_count": 21,
   "metadata": {},
   "outputs": [],
   "source": [
    "def brackets_pairing(str):\n",
    "    left_brackets=Stack()\n",
    "    str_list = list(str)\n",
    "    Matched = True\n",
    "    for i in range(len(str_list)):\n",
    "        if str_list[i] in \"([{\":\n",
    "            left_brackets.push(str_list[i])\n",
    "        elif str_list[i] in \")]}\":\n",
    "            if left_brackets.isEmpty():\n",
    "                Matched = False\n",
    "            elif str_list[i]==')' and left_brackets.peek()=='(':\n",
    "                left_brackets.pop()\n",
    "            elif str_list[i]==']' and left_brackets.peek()=='[':\n",
    "                left_brackets.pop()\n",
    "            elif str_list[i]=='}' and left_brackets.peek()=='{':\n",
    "                left_brackets.pop() \n",
    "            else:\n",
    "                Matched = False\n",
    "\n",
    "    if Matched and left_brackets.isEmpty():\n",
    "        return True\n",
    "\n",
    "    return False\n",
    "\n"
   ]
  },
  {
   "cell_type": "code",
   "execution_count": 39,
   "metadata": {},
   "outputs": [
    {
     "data": {
      "text/plain": [
       "False"
      ]
     },
     "execution_count": 39,
     "metadata": {},
     "output_type": "execute_result"
    }
   ],
   "source": [
    "brackets_pairing(\"[({)}]\")"
   ]
  },
  {
   "cell_type": "code",
   "execution_count": 40,
   "metadata": {},
   "outputs": [],
   "source": [
    "def demical2binary(demical):\n",
    "\n",
    "    remainder = Stack()\n",
    "    while demical>0:\n",
    "        remainder.push(demical%2)\n",
    "        demical = demical//2\n",
    "\n",
    "    binary = \"\"\n",
    "    while not remainder.isEmpty():\n",
    "        binary += str(remainder.pop())\n",
    "    return binary\n",
    "    \n",
    "def demical2anybase(demical, base):\n",
    "    digits='0123456789ABCDEF' ## base <= 16 (F+1)\n",
    "    remainder = Stack()\n",
    "    while demical>0:\n",
    "        remainder.push(demical%base)\n",
    "        demical = demical//base\n",
    "\n",
    "    anybase = \"\"\n",
    "    while not remainder.isEmpty():\n",
    "        anybase += str(digits[remainder.pop()])\n",
    "    return anybase\n"
   ]
  },
  {
   "cell_type": "code",
   "execution_count": 41,
   "metadata": {},
   "outputs": [
    {
     "name": "stdout",
     "output_type": "stream",
     "text": [
      "1000000\n",
      "EE\n"
     ]
    }
   ],
   "source": [
    "print(demical2binary(64))\n",
    "print(demical2anybase(238,16))"
   ]
  },
  {
   "cell_type": "code",
   "execution_count": 89,
   "metadata": {},
   "outputs": [],
   "source": [
    "def middlefix2postfix(middlefix):\n",
    "    priority={\n",
    "        \"*\": 3, \n",
    "        \"/\": 3, \n",
    "        \"+\": 2, \n",
    "        \"-\": 2,\n",
    "        \"(\": 1,\n",
    "        \")\": 1,\n",
    "    }\n",
    "    middlefix_ = list(middlefix.replace(' ', ''))\n",
    "    tokenlist = list(middlefix_)\n",
    "    operator_stack = Stack()\n",
    "    postfix = []\n",
    "\n",
    "    for token in tokenlist:\n",
    "        if token in \"ABCDEFGHIJKLMNOPQRSTUVWXYZ\" or token in 'abcdefghijklmnopqrstuvwxyz' or token in \"0123456789\":\n",
    "            postfix.append(token)\n",
    "        elif token == '(':\n",
    "            operator_stack.push(token)\n",
    "        elif token == ')':\n",
    "            top_operator = operator_stack.pop()\n",
    "            while top_operator != '(': ## pop '('\n",
    "                postfix.append(top_operator)\n",
    "                top_operator = operator_stack.pop()\n",
    "        else:\n",
    "            while (not operator_stack.isEmpty()) and priority[operator_stack.peek()] >= priority[token]:\n",
    "                postfix.append(operator_stack.pop())\n",
    "            operator_stack.push(token)\n",
    "\n",
    "    while not operator_stack.isEmpty():\n",
    "        postfix.append(operator_stack.pop())\n",
    "\n",
    "\n",
    "    return \" \".join(postfix)"
   ]
  },
  {
   "cell_type": "code",
   "execution_count": 92,
   "metadata": {},
   "outputs": [
    {
     "data": {
      "text/plain": [
       "'A B + c 4 + * E * 5 E F * / +'"
      ]
     },
     "execution_count": 92,
     "metadata": {},
     "output_type": "execute_result"
    }
   ],
   "source": [
    "middlefix2postfix(\"( A+B ) *( c + 4 ) * E + 5 / ( E * F )\")"
   ]
  },
  {
   "cell_type": "code",
   "execution_count": 101,
   "metadata": {},
   "outputs": [],
   "source": [
    "def postfixEvaluation(postfix):\n",
    "    postfix_ = list(postfix.replace(' ', ''))\n",
    "    tokenlist = list(postfix_)\n",
    "    operand_stack = Stack()\n",
    "\n",
    "    for token in tokenlist:\n",
    "        if token in \"0123456789\":\n",
    "            operand_stack.push(token)\n",
    "        else:\n",
    "            operand2 = operand_stack.pop()\n",
    "            operand1 = operand_stack.pop()\n",
    "            operand_stack.push(str(eval(operand1 + token + operand2)))\n",
    "\n",
    "    return operand_stack.pop()"
   ]
  },
  {
   "cell_type": "code",
   "execution_count": 103,
   "metadata": {},
   "outputs": [
    {
     "data": {
      "text/plain": [
       "'3.05'"
      ]
     },
     "execution_count": 103,
     "metadata": {},
     "output_type": "execute_result"
    }
   ],
   "source": [
    "postfixEvaluation(middlefix2postfix(\"1*2 + (3/4)/5 * (3+4)\"))"
   ]
  },
  {
   "cell_type": "code",
   "execution_count": null,
   "metadata": {},
   "outputs": [],
   "source": []
  }
 ],
 "metadata": {
  "interpreter": {
   "hash": "cccc6b24c42b92f0f5397c28f29e0b94ee4e833e31f323dd2f4eab36a0e1136b"
  },
  "kernelspec": {
   "display_name": "Python 3.9.9 ('base': conda)",
   "language": "python",
   "name": "python3"
  },
  "language_info": {
   "codemirror_mode": {
    "name": "ipython",
    "version": 3
   },
   "file_extension": ".py",
   "mimetype": "text/x-python",
   "name": "python",
   "nbconvert_exporter": "python",
   "pygments_lexer": "ipython3",
   "version": "3.9.9"
  },
  "orig_nbformat": 4
 },
 "nbformat": 4,
 "nbformat_minor": 2
}
