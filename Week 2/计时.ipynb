{
 "cells": [
  {
   "cell_type": "code",
   "execution_count": 12,
   "metadata": {},
   "outputs": [],
   "source": [
    "def test1():\n",
    "    l = []\n",
    "    for i in range(1000):\n",
    "        l = l + [i]\n",
    "\n",
    "\n",
    "def test2():\n",
    "    l = []\n",
    "    for i in range(1000):\n",
    "        l.append(i)\n",
    "\n",
    "\n",
    "def test3():\n",
    "    l = [i for i in range(1000)]\n",
    "\n",
    "\n",
    "def test4():\n",
    "    l=list(range(1000))\n"
   ]
  },
  {
   "cell_type": "code",
   "execution_count": 13,
   "metadata": {},
   "outputs": [
    {
     "name": "stdout",
     "output_type": "stream",
     "text": [
      "t1 used 2.201778 seconds\n",
      "t2 used 0.113323 seconds\n",
      "t3 used 0.067575 seconds\n",
      "t4 used 0.021613 seconds\n"
     ]
    }
   ],
   "source": [
    "from timeit import Timer\n",
    "t1 = Timer(\"test1()\", \"from __main__ import test1\")\n",
    "t2 = Timer(\"test2()\", \"from __main__ import test2\")\n",
    "t3 = Timer(\"test3()\", \"from __main__ import test3\")\n",
    "t4 = Timer(\"test4()\", \"from __main__ import test4\")\n",
    "print(\"t1 used %f seconds\"%t1.timeit(number=1000))\n",
    "print(\"t2 used %f seconds\"%t2.timeit(number=1000))\n",
    "print(\"t3 used %f seconds\"%t3.timeit(number=1000))\n",
    "print(\"t4 used %f seconds\"%t4.timeit(number=1000))"
   ]
  },
  {
   "cell_type": "code",
   "execution_count": 14,
   "metadata": {},
   "outputs": [],
   "source": [
    "popzero = Timer(\"x.pop(0)\", \"from __main__ import x\")\n",
    "popend = Timer(\"x.pop()\", \"from __main__ import x\")"
   ]
  },
  {
   "cell_type": "code",
   "execution_count": 15,
   "metadata": {},
   "outputs": [
    {
     "name": "stdout",
     "output_type": "stream",
     "text": [
      "pop(0)   pop()\n",
      "0.74327,    0.00024\n",
      "1.13324,    0.00008\n",
      "1.53390,    0.00010\n",
      "3.23552,    0.00008\n",
      "2.99314,    0.00011\n",
      "3.56319,    0.00013\n",
      "4.17545,    0.00009\n",
      "6.21213,    0.00017\n",
      "5.92304,    0.00016\n",
      "6.32388,    0.00009\n"
     ]
    }
   ],
   "source": [
    "print(\"pop(0)   pop()\")\n",
    "for i in range(100000, 10*100000 + 1, 100000):\n",
    "    x=list(range(i))\n",
    "    pt = popend.timeit(number=1000)\n",
    "    #x=list(range(i))\n",
    "    pz = popzero.timeit(number=1000)\n",
    "    print(\"%.5f,    %.5f\"%(pz, pt))"
   ]
  },
  {
   "cell_type": "code",
   "execution_count": 21,
   "metadata": {},
   "outputs": [
    {
     "name": "stdout",
     "output_type": "stream",
     "text": [
      "1000,  0.184,   0.025\n",
      "2000,  0.577,   0.016\n",
      "3000,  0.519,   0.021\n",
      "4000,  0.682,   0.017\n",
      "5000,  0.942,   0.029\n",
      "6000,  0.989,   0.019\n",
      "7000,  1.332,   0.024\n",
      "8000,  1.321,   0.181\n",
      "9000,  1.638,   0.022\n",
      "10000,  1.851,   0.025\n"
     ]
    }
   ],
   "source": [
    "import random\n",
    "\n",
    "for i in range(1000, 10*1000+1, 1000):\n",
    "    t = Timer(\"random.randrange(%d) in x\"%i, \"from __main__ import x,  random\")\n",
    "    x=list(range(i))\n",
    "    list_time = t.timeit(number=10000)\n",
    "    x={j: None for j in range(i)}\n",
    "    dict_time = t.timeit(number=10000)\n",
    "    print(\"%d,  %.3f,   %.3f\"%(i,list_time, dict_time))"
   ]
  },
  {
   "cell_type": "code",
   "execution_count": null,
   "metadata": {},
   "outputs": [],
   "source": []
  }
 ],
 "metadata": {
  "interpreter": {
   "hash": "cccc6b24c42b92f0f5397c28f29e0b94ee4e833e31f323dd2f4eab36a0e1136b"
  },
  "kernelspec": {
   "display_name": "Python 3.9.9 ('base': conda)",
   "language": "python",
   "name": "python3"
  },
  "language_info": {
   "codemirror_mode": {
    "name": "ipython",
    "version": 3
   },
   "file_extension": ".py",
   "mimetype": "text/x-python",
   "name": "python",
   "nbconvert_exporter": "python",
   "pygments_lexer": "ipython3",
   "version": "3.9.9"
  },
  "orig_nbformat": 4
 },
 "nbformat": 4,
 "nbformat_minor": 2
}
