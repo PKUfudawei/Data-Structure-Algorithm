{
 "cells": [
  {
   "cell_type": "code",
   "execution_count": null,
   "metadata": {},
   "outputs": [],
   "source": [
    "import turtle\n",
    "\n",
    "class Maze:\n",
    "    def __init__(self, mazeFileName) -> None:\n",
    "        rowsInMaze = 0\n",
    "        columnsInMaze = 0\n",
    "        self.mazelist = []\n",
    "        mazeFile = open(mazeFileName, 'r')\n",
    "        for line in mazeFile:\n",
    "            rowList = []\n",
    "            column = 0\n",
    "            for char in line[:-1]:\n",
    "                rowList.append(char)\n",
    "                if char == 'S':\n",
    "                    self.startRow = rowsInMaze\n",
    "                    self.startColumn = column\n",
    "                column += 1\n",
    "            rowsInMaze += 1\n",
    "            self.mazelist.append(rowList)\n",
    "            columnsInMaze = len(rowList)\n",
    "\n",
    "    def drawMaze(self):\n",
    "        pass \n",
    "\n",
    "    def updatePosition(self, row, column, sign):\n",
    "        pass\n",
    "\n",
    "    def isExit(self, row, column):\n",
    "        return (row==0 or row==len(self.mazelist[0])-1 or column==0 or column==len(self.mazelist[0])-1) and self.mazelist[row][column]==' '"
   ]
  },
  {
   "cell_type": "code",
   "execution_count": 5,
   "metadata": {},
   "outputs": [
    {
     "name": "stdout",
     "output_type": "stream",
     "text": [
      "10\n",
      "10\n",
      "9\n"
     ]
    }
   ],
   "source": [
    "def exploreMaze(maze, startRow, startColumn):\n",
    "    maze.updatePosition(startRow, startColumn)\n",
    "    if maze[startRow][startColumn] == OBSTACLE:\n",
    "        return False\n",
    "    \n",
    "    if maze[startRow][startColumn] == TRIED or maze[startRow][startColumn] == DEADEND:\n",
    "        return False\n",
    "    \n",
    "    if maze.isExit(startRow, startColumn):\n",
    "        maze.updatePosition(startRow, startColumn, PART_OF_PATH)\n",
    "        return True\n",
    "    \n",
    "    maze.updatePosition(startRow, startColumn, TRIED)\n",
    "    Found = exploreMaze(maze, startRow-1, startColumn) or exploreMaze(maze, startRow+1, startColumn) or \\\n",
    "        exploreMaze(maze, startRow, startColumn-1) or exploreMaze(maze, startRow, startColumn+1)  \n",
    "\n",
    "    if Found:\n",
    "        maze.updatePosition(startRow, startColumn, PART_OF_PATH)\n",
    "    else:\n",
    "        maze.updatePosition(startRow, startColumn, DEADEND)\n",
    "\n",
    "    return Found"
   ]
  },
  {
   "cell_type": "code",
   "execution_count": null,
   "metadata": {},
   "outputs": [],
   "source": []
  }
 ],
 "metadata": {
  "interpreter": {
   "hash": "cccc6b24c42b92f0f5397c28f29e0b94ee4e833e31f323dd2f4eab36a0e1136b"
  },
  "kernelspec": {
   "display_name": "Python 3.9.9 ('base')",
   "language": "python",
   "name": "python3"
  },
  "language_info": {
   "codemirror_mode": {
    "name": "ipython",
    "version": 3
   },
   "file_extension": ".py",
   "mimetype": "text/x-python",
   "name": "python",
   "nbconvert_exporter": "python",
   "pygments_lexer": "ipython3",
   "version": "3.9.9"
  },
  "orig_nbformat": 4
 },
 "nbformat": 4,
 "nbformat_minor": 2
}
