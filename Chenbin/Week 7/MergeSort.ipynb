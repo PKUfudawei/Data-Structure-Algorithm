{
 "cells": [
  {
   "cell_type": "code",
   "execution_count": 53,
   "metadata": {},
   "outputs": [],
   "source": [
    "def mergeSort(someList):\n",
    "    if len(someList)<=1:\n",
    "        return someList\n",
    "    elif len(someList)>1:\n",
    "        middle=len(someList)//2\n",
    "        leftList = mergeSort(someList[:middle])\n",
    "        rightList = mergeSort(someList[middle:])\n",
    "        merged=[]\n",
    "        while leftList and rightList:\n",
    "            if leftList[0] <= rightList[0]:\n",
    "                merged.append(leftList.pop(0))\n",
    "            else:\n",
    "                merged.append(rightList.pop(0))\n",
    "\n",
    "        merged.extend(rightList if rightList else leftList)\n",
    "        return merged\n"
   ]
  },
  {
   "cell_type": "code",
   "execution_count": 58,
   "metadata": {},
   "outputs": [
    {
     "data": {
      "text/plain": [
       "[0, 1, 2, 8, 13, 17, 19, 32, 42]"
      ]
     },
     "execution_count": 58,
     "metadata": {},
     "output_type": "execute_result"
    }
   ],
   "source": [
    "testlist=[1,2,32,8,17,19,42,13,0]\n",
    "mergeSort(testlist)"
   ]
  },
  {
   "cell_type": "code",
   "execution_count": 44,
   "metadata": {},
   "outputs": [],
   "source": [
    "def mergeSort(someList):\n",
    "    if len(someList)>1:\n",
    "        middle=len(someList)//2\n",
    "        leftList = someList[:middle]\n",
    "        rightList = someList[middle:]\n",
    "\n",
    "        mergeSort(leftList)\n",
    "        mergeSort(rightList)\n",
    "\n",
    "        i,j,k=0,0,0\n",
    "        while i<len(leftList) and j<len(rightList):\n",
    "            if leftList[i] <= rightList[j]:\n",
    "                someList[k]=leftList[i]\n",
    "                i+=1\n",
    "            else:\n",
    "                someList[k]=rightList[j]\n",
    "                j+=1\n",
    "            k += 1\n",
    "\n",
    "        while i<len(leftList):\n",
    "            someList[k]=leftList[i]\n",
    "            i+=1\n",
    "            k+=1\n",
    "\n",
    "        while j<len(rightList):\n",
    "            someList[k]=rightList[j]\n",
    "            j+=1\n",
    "            k+=1\n"
   ]
  },
  {
   "cell_type": "code",
   "execution_count": 45,
   "metadata": {},
   "outputs": [
    {
     "data": {
      "text/plain": [
       "[0, 1, 2, 8, 13, 17, 19, 32, 42]"
      ]
     },
     "execution_count": 45,
     "metadata": {},
     "output_type": "execute_result"
    }
   ],
   "source": [
    "testlist=[1,2,32,8,17,19,42,13,0]\n",
    "mergeSort(testlist)\n",
    "testlist"
   ]
  },
  {
   "cell_type": "code",
   "execution_count": null,
   "metadata": {},
   "outputs": [],
   "source": []
  }
 ],
 "metadata": {
  "interpreter": {
   "hash": "cccc6b24c42b92f0f5397c28f29e0b94ee4e833e31f323dd2f4eab36a0e1136b"
  },
  "kernelspec": {
   "display_name": "Python 3.9.9 ('base')",
   "language": "python",
   "name": "python3"
  },
  "language_info": {
   "codemirror_mode": {
    "name": "ipython",
    "version": 3
   },
   "file_extension": ".py",
   "mimetype": "text/x-python",
   "name": "python",
   "nbconvert_exporter": "python",
   "pygments_lexer": "ipython3",
   "version": "3.9.9"
  },
  "orig_nbformat": 4
 },
 "nbformat": 4,
 "nbformat_minor": 2
}
