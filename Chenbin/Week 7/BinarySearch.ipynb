{
 "cells": [
  {
   "cell_type": "code",
   "execution_count": 2,
   "metadata": {},
   "outputs": [],
   "source": [
    "def binarySearch(someList, item):\n",
    "    first=0\n",
    "    last=len(someList) - 1\n",
    "\n",
    "    while first <= last:\n",
    "        middle = (first+last)//2\n",
    "        if someList[middle] == item:\n",
    "            return True\n",
    "        elif someList[middle] > item:\n",
    "            last = middle - 1\n",
    "        else:\n",
    "            first= middle + 1\n",
    "\n",
    "    return False"
   ]
  },
  {
   "cell_type": "code",
   "execution_count": 3,
   "metadata": {},
   "outputs": [],
   "source": [
    "testlist=[1,2,32,8,17,19,42,13,0]\n",
    "testlist.sort()\n",
    "binarySearch(testlist, 3)"
   ]
  },
  {
   "cell_type": "code",
   "execution_count": 5,
   "metadata": {},
   "outputs": [],
   "source": [
    "def binarySearch(someList, item):\n",
    "    if len(someList)==0:\n",
    "        return False\n",
    "    else:\n",
    "        middle=len(someList)//2\n",
    "        if someList[middle] == item:\n",
    "            return True\n",
    "        elif someList[middle] < item:\n",
    "            return binarySearch(someList[middle+1:], item)\n",
    "        else: \n",
    "            return binarySearch(someList[:middle], item)"
   ]
  },
  {
   "cell_type": "code",
   "execution_count": 6,
   "metadata": {},
   "outputs": [
    {
     "data": {
      "text/plain": [
       "False"
      ]
     },
     "execution_count": 6,
     "metadata": {},
     "output_type": "execute_result"
    }
   ],
   "source": [
    "testlist=[1,2,32,8,17,19,42,13,0]\n",
    "testlist.sort()\n",
    "binarySearch(testlist, 3)"
   ]
  },
  {
   "cell_type": "code",
   "execution_count": null,
   "metadata": {},
   "outputs": [],
   "source": []
  }
 ],
 "metadata": {
  "interpreter": {
   "hash": "cccc6b24c42b92f0f5397c28f29e0b94ee4e833e31f323dd2f4eab36a0e1136b"
  },
  "kernelspec": {
   "display_name": "Python 3.9.9 ('base')",
   "language": "python",
   "name": "python3"
  },
  "language_info": {
   "codemirror_mode": {
    "name": "ipython",
    "version": 3
   },
   "file_extension": ".py",
   "mimetype": "text/x-python",
   "name": "python",
   "nbconvert_exporter": "python",
   "pygments_lexer": "ipython3",
   "version": "3.9.9"
  },
  "orig_nbformat": 4
 },
 "nbformat": 4,
 "nbformat_minor": 2
}
