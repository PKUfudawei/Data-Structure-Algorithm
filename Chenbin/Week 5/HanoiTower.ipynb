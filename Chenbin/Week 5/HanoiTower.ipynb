{
 "cells": [
  {
   "cell_type": "code",
   "execution_count": 7,
   "metadata": {},
   "outputs": [
    {
     "name": "stdout",
     "output_type": "stream",
     "text": [
      "Move No.1 disk from Left Tower to Middle Tower\n",
      "Move No.2 disk from Left Tower to Right Tower\n",
      "Move No.1 disk from Middle Tower to Right Tower\n",
      "Move No.3 disk from Left Tower to Middle Tower\n",
      "Move No.1 disk from Right Tower to Left Tower\n",
      "Move No.2 disk from Right Tower to Middle Tower\n",
      "Move No.1 disk from Left Tower to Middle Tower\n",
      "Move No.4 disk from Left Tower to Right Tower\n",
      "Move No.1 disk from Middle Tower to Right Tower\n",
      "Move No.2 disk from Middle Tower to Left Tower\n",
      "Move No.1 disk from Right Tower to Left Tower\n",
      "Move No.3 disk from Middle Tower to Right Tower\n",
      "Move No.1 disk from Left Tower to Middle Tower\n",
      "Move No.2 disk from Left Tower to Right Tower\n",
      "Move No.1 disk from Middle Tower to Right Tower\n",
      "Move No.5 disk from Left Tower to Middle Tower\n",
      "Move No.1 disk from Right Tower to Left Tower\n",
      "Move No.2 disk from Right Tower to Middle Tower\n",
      "Move No.1 disk from Left Tower to Middle Tower\n",
      "Move No.3 disk from Right Tower to Left Tower\n",
      "Move No.1 disk from Middle Tower to Right Tower\n",
      "Move No.2 disk from Middle Tower to Left Tower\n",
      "Move No.1 disk from Right Tower to Left Tower\n",
      "Move No.4 disk from Right Tower to Middle Tower\n",
      "Move No.1 disk from Left Tower to Middle Tower\n",
      "Move No.2 disk from Left Tower to Right Tower\n",
      "Move No.1 disk from Middle Tower to Right Tower\n",
      "Move No.3 disk from Left Tower to Middle Tower\n",
      "Move No.1 disk from Right Tower to Left Tower\n",
      "Move No.2 disk from Right Tower to Middle Tower\n",
      "Move No.1 disk from Left Tower to Middle Tower\n",
      "Move No.6 disk from Left Tower to Right Tower\n",
      "Move No.1 disk from Middle Tower to Right Tower\n",
      "Move No.2 disk from Middle Tower to Left Tower\n",
      "Move No.1 disk from Right Tower to Left Tower\n",
      "Move No.3 disk from Middle Tower to Right Tower\n",
      "Move No.1 disk from Left Tower to Middle Tower\n",
      "Move No.2 disk from Left Tower to Right Tower\n",
      "Move No.1 disk from Middle Tower to Right Tower\n",
      "Move No.4 disk from Middle Tower to Left Tower\n",
      "Move No.1 disk from Right Tower to Left Tower\n",
      "Move No.2 disk from Right Tower to Middle Tower\n",
      "Move No.1 disk from Left Tower to Middle Tower\n",
      "Move No.3 disk from Right Tower to Left Tower\n",
      "Move No.1 disk from Middle Tower to Right Tower\n",
      "Move No.2 disk from Middle Tower to Left Tower\n",
      "Move No.1 disk from Right Tower to Left Tower\n",
      "Move No.5 disk from Middle Tower to Right Tower\n",
      "Move No.1 disk from Left Tower to Middle Tower\n",
      "Move No.2 disk from Left Tower to Right Tower\n",
      "Move No.1 disk from Middle Tower to Right Tower\n",
      "Move No.3 disk from Left Tower to Middle Tower\n",
      "Move No.1 disk from Right Tower to Left Tower\n",
      "Move No.2 disk from Right Tower to Middle Tower\n",
      "Move No.1 disk from Left Tower to Middle Tower\n",
      "Move No.4 disk from Left Tower to Right Tower\n",
      "Move No.1 disk from Middle Tower to Right Tower\n",
      "Move No.2 disk from Middle Tower to Left Tower\n",
      "Move No.1 disk from Right Tower to Left Tower\n",
      "Move No.3 disk from Middle Tower to Right Tower\n",
      "Move No.1 disk from Left Tower to Middle Tower\n",
      "Move No.2 disk from Left Tower to Right Tower\n",
      "Move No.1 disk from Middle Tower to Right Tower\n"
     ]
    }
   ],
   "source": [
    "def hanoiTower(num, start, intermediate, target):\n",
    "    if num==1:\n",
    "        moveBiggest(num, start=start, target=target)\n",
    "    elif num > 1:\n",
    "        hanoiTower(num-1, start=start, intermediate=target, target=intermediate)\n",
    "        moveBiggest(num, start=start, target=target)\n",
    "        hanoiTower(num-1, start=intermediate, intermediate=start, target=target)\n",
    "\n",
    "def moveBiggest(num, start, target):\n",
    "    print(f\"Move No.{num} disk from {start} to {target}\")\n",
    "\n",
    "hanoiTower(6, \"Left Tower\", \"Middle Tower\", \"Right Tower\")"
   ]
  },
  {
   "cell_type": "code",
   "execution_count": null,
   "metadata": {},
   "outputs": [],
   "source": []
  }
 ],
 "metadata": {
  "interpreter": {
   "hash": "cccc6b24c42b92f0f5397c28f29e0b94ee4e833e31f323dd2f4eab36a0e1136b"
  },
  "kernelspec": {
   "display_name": "Python 3.9.9 ('base')",
   "language": "python",
   "name": "python3"
  },
  "language_info": {
   "codemirror_mode": {
    "name": "ipython",
    "version": 3
   },
   "file_extension": ".py",
   "mimetype": "text/x-python",
   "name": "python",
   "nbconvert_exporter": "python",
   "pygments_lexer": "ipython3",
   "version": "3.9.9"
  },
  "orig_nbformat": 4
 },
 "nbformat": 4,
 "nbformat_minor": 2
}
