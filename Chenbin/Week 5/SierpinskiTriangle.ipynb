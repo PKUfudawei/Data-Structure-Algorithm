{
 "cells": [
  {
   "cell_type": "code",
   "execution_count": null,
   "metadata": {},
   "outputs": [],
   "source": [
    "import turtle\n",
    "\n",
    "def sierpinski(turtle, degree, points):\n",
    "    colormap=['blue', 'red', 'green', 'white', 'yellow', 'orange']\n",
    "    drawTriangle(turtle, points, colormap[degree])\n",
    "    if degree>0:\n",
    "        sierpinski(\n",
    "            turtle,\n",
    "            degree - 1,\n",
    "            {\n",
    "                'left': points['left'],\n",
    "                'top': middle(points['left'], points['top']),\n",
    "                'right': middle(points['left'], points['right'])\n",
    "            }\n",
    "        )\n",
    "        sierpinski(\n",
    "            turtle,\n",
    "            degree - 1,\n",
    "            {\n",
    "                'left': middle(points['left'], points['top']),\n",
    "                'top': points['top'],\n",
    "                'right': middle(points['top'], points['right'])\n",
    "            }\n",
    "        )\n",
    "        sierpinski(\n",
    "            turtle,\n",
    "            degree - 1,\n",
    "            {\n",
    "                'left': middle(points['left'], points['right']),\n",
    "                'top': middle(points['top'], points['right']),\n",
    "                'right': points['right'],\n",
    "            }\n",
    "        )\n",
    "\n",
    "def drawTriangle(t, points, color):\n",
    "    t.fillcolor(color)\n",
    "    t.penup()\n",
    "    t.goto(points['top'])\n",
    "    t.pendown()\n",
    "    t.begin_fill()\n",
    "    t.goto(points['left'])\n",
    "    t.goto(points['right'])\n",
    "    t.goto(points['top'])\n",
    "    t.end_fill()\n",
    "\n",
    "def middle(point1, point2):\n",
    "    return ((point1[0]+point2[0])/2, (point1[1]+point2[1])/2)"
   ]
  },
  {
   "cell_type": "code",
   "execution_count": null,
   "metadata": {},
   "outputs": [],
   "source": [
    "t = turtle.Turtle()\n",
    "\n",
    "points = {\n",
    "    'left': (-200, -100),\n",
    "    'top': (0, 200),\n",
    "    'right': (200, -100),\n",
    "}\n",
    "\n",
    "sierpinski(t, degree=5, points=points)\n",
    "\n",
    "turtle.done"
   ]
  },
  {
   "cell_type": "code",
   "execution_count": null,
   "metadata": {},
   "outputs": [],
   "source": []
  }
 ],
 "metadata": {
  "interpreter": {
   "hash": "cccc6b24c42b92f0f5397c28f29e0b94ee4e833e31f323dd2f4eab36a0e1136b"
  },
  "kernelspec": {
   "display_name": "Python 3.9.9 ('base')",
   "language": "python",
   "name": "python3"
  },
  "language_info": {
   "codemirror_mode": {
    "name": "ipython",
    "version": 3
   },
   "file_extension": ".py",
   "mimetype": "text/x-python",
   "name": "python",
   "nbconvert_exporter": "python",
   "pygments_lexer": "ipython3",
   "version": "3.9.9"
  },
  "orig_nbformat": 4
 },
 "nbformat": 4,
 "nbformat_minor": 2
}
