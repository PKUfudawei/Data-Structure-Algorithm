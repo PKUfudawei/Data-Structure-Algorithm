{
 "cells": [
  {
   "cell_type": "code",
   "execution_count": 67,
   "metadata": {},
   "outputs": [],
   "source": [
    "class Node:\n",
    "    def __init__(self, initial_data) -> None:\n",
    "        self.data = initial_data\n",
    "        self.next = None\n",
    "    \n",
    "    def getData(self):\n",
    "        return self.data\n",
    "\n",
    "    def getNext(self):\n",
    "        return self.next\n",
    "    \n",
    "    def setData(self, new_data):\n",
    "        self.data = new_data\n",
    "\n",
    "    def setNext(self, new_next):\n",
    "        self.next = new_next"
   ]
  },
  {
   "cell_type": "code",
   "execution_count": 13,
   "metadata": {},
   "outputs": [],
   "source": [
    "class UnorderedList:\n",
    "    def __init__(self) -> None:\n",
    "        self.head = None\n",
    "\n",
    "    def isEmpty(self):\n",
    "        return self.head == None\n",
    "\n",
    "    def add(self, item):\n",
    "        temp = Node(item)\n",
    "        temp.setNext(self.head)\n",
    "        self.head = temp\n",
    "\n",
    "    def size(self):\n",
    "        current = self.head\n",
    "        count = 0\n",
    "        while current != None:\n",
    "            count += 1\n",
    "            current = current.getNext()\n",
    "\n",
    "        return count\n",
    "\n",
    "    def search(self, item):\n",
    "        current = self.head\n",
    "        Found = False\n",
    "        while current != None and not Found:\n",
    "            if current.getData() == item:\n",
    "                found = True    \n",
    "                break\n",
    "            else:\n",
    "                current = current.getNext()\n",
    "\n",
    "        return Found\n",
    "\n",
    "    def remove(self, item):\n",
    "        current = self.head\n",
    "        if current.getData() == item:\n",
    "            self.head = self.head.getNext()\n",
    "        else:\n",
    "            previous = None\n",
    "            while current.getData() != item:\n",
    "                previous = current\n",
    "                current = current.getNext()\n",
    "            previous.setNext(current.getNext())\n"
   ]
  },
  {
   "cell_type": "code",
   "execution_count": 21,
   "metadata": {},
   "outputs": [
    {
     "name": "stdout",
     "output_type": "stream",
     "text": [
      "8\n",
      "6\n",
      "5\n",
      "4\n",
      "3\n",
      "2\n",
      "1\n",
      "0\n"
     ]
    }
   ],
   "source": [
    "ul = UnorderedList()\n",
    "for i in range(9):\n",
    "    ul.add(i)\n",
    "ul.remove(7)\n",
    "for i in range(ul.size()):\n",
    "    print(ul.head.getData())\n",
    "    ul.head=ul.head.getNext()"
   ]
  },
  {
   "cell_type": "code",
   "execution_count": 85,
   "metadata": {},
   "outputs": [],
   "source": [
    "class OrderedList:\n",
    "    def __init__(self) -> None:\n",
    "        self.head = None\n",
    "\n",
    "    def isEmpty(self):\n",
    "        return self.head == None\n",
    "    \n",
    "    def size(self):\n",
    "        current = self.head\n",
    "        count = 0\n",
    "        while current != None:\n",
    "            count += 1\n",
    "            current = current.getNext()\n",
    "\n",
    "        return count\n",
    "\n",
    "    def remove(self, item):\n",
    "        current = self.head\n",
    "        if current.getData() == item:\n",
    "            self.head = self.head.getNext()\n",
    "        else:\n",
    "            previous = None\n",
    "            while current.getData() != item:\n",
    "                previous = current\n",
    "                current = current.getNext()\n",
    "            previous.setNext(current.getNext())\n",
    "\n",
    "    def search(self, item):\n",
    "        current = self.head\n",
    "        Found = False\n",
    "        while current != None and not Found:\n",
    "            if current.getData() == item:\n",
    "                found = True    \n",
    "                break\n",
    "            elif current.getData() > item:\n",
    "                break       \n",
    "            else:\n",
    "                current = current.getNext()\n",
    "                \n",
    "        return Found\n",
    "\n",
    "    def add(self, item):\n",
    "        previous = None\n",
    "        current = self.head\n",
    "        temp_node = Node(item)\n",
    "        if current == None:\n",
    "            self.head = temp_node\n",
    "        else:\n",
    "            while current != None and current.getData() < item:\n",
    "                previous = current\n",
    "                current = current.getNext()\n",
    "\n",
    "            if previous == None:\n",
    "                temp_node.setNext(self.head)\n",
    "                self.head = temp_node\n",
    "            else:\n",
    "                previous.setNext(Node(item))\n",
    "                previous.getNext().setNext(current)\n"
   ]
  },
  {
   "cell_type": "code",
   "execution_count": 93,
   "metadata": {},
   "outputs": [
    {
     "name": "stdout",
     "output_type": "stream",
     "text": [
      "0\n",
      "0\n",
      "1\n",
      "1\n",
      "3\n",
      "5\n",
      "5\n",
      "6\n",
      "9\n",
      "9\n"
     ]
    }
   ],
   "source": [
    "import random as rd\n",
    "ol = OrderedList()\n",
    "for i in range(10):\n",
    "    ol.add(rd.randrange(10))\n",
    "\n",
    "for i in range(ol.size()):\n",
    "    print(ol.head.getData())\n",
    "    ol.head=ol.head.getNext()"
   ]
  }
 ],
 "metadata": {
  "interpreter": {
   "hash": "cccc6b24c42b92f0f5397c28f29e0b94ee4e833e31f323dd2f4eab36a0e1136b"
  },
  "kernelspec": {
   "display_name": "Python 3.9.9 ('base': conda)",
   "language": "python",
   "name": "python3"
  },
  "language_info": {
   "codemirror_mode": {
    "name": "ipython",
    "version": 3
   },
   "file_extension": ".py",
   "mimetype": "text/x-python",
   "name": "python",
   "nbconvert_exporter": "python",
   "pygments_lexer": "ipython3",
   "version": "3.9.9"
  },
  "orig_nbformat": 4
 },
 "nbformat": 4,
 "nbformat_minor": 2
}
