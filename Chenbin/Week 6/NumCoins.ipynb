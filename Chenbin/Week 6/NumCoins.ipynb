{
 "cells": [
  {
   "cell_type": "markdown",
   "metadata": {},
   "source": [
    "# 递归"
   ]
  },
  {
   "cell_type": "code",
   "execution_count": 54,
   "metadata": {},
   "outputs": [
    {
     "data": {
      "text/plain": [
       "3"
      ]
     },
     "execution_count": 54,
     "metadata": {},
     "output_type": "execute_result"
    }
   ],
   "source": [
    "def minNumCoins(coinList, change, knownResults):\n",
    "    minCoins = change\n",
    "    if change in coinList:\n",
    "        knownResults[change]=1\n",
    "        return 1\n",
    "    elif knownResults[change]>0:\n",
    "        return knownResults[change]\n",
    "    else:\n",
    "        for c in [c for c in coinList if c <= change]:\n",
    "            numCoins = 1 + minNumCoins(coinList, change - c, knownResults)\n",
    "            if numCoins < minCoins:\n",
    "                minCoins = numCoins\n",
    "                knownResults[change]=minCoins\n",
    "    return minCoins\n",
    "\n",
    "minNumCoins(coinList=[1,5,10,25,21], change=63, knownResults=[0]*64)"
   ]
  },
  {
   "cell_type": "code",
   "execution_count": 60,
   "metadata": {},
   "outputs": [
    {
     "data": {
      "text/plain": [
       "3"
      ]
     },
     "execution_count": 60,
     "metadata": {},
     "output_type": "execute_result"
    }
   ],
   "source": [
    "def minNumCoins(coinList, change, knownResults={}):\n",
    "    minCoins = change\n",
    "    if change in coinList:\n",
    "        knownResults[change]=1\n",
    "        return 1\n",
    "    elif change in knownResults.keys():\n",
    "        return knownResults[change]\n",
    "    else:\n",
    "        for c in [c for c in coinList if c <= change]:\n",
    "            numCoins = 1 + minNumCoins(coinList, change - c, knownResults)\n",
    "            if numCoins < minCoins:\n",
    "                minCoins = numCoins\n",
    "                knownResults[change]=minCoins\n",
    "    return minCoins\n",
    "\n",
    "minNumCoins(coinList=[1,5,10,25,21], change=63)"
   ]
  },
  {
   "cell_type": "markdown",
   "metadata": {},
   "source": [
    "# 动态规划"
   ]
  },
  {
   "cell_type": "code",
   "execution_count": 64,
   "metadata": {},
   "outputs": [
    {
     "name": "stdout",
     "output_type": "stream",
     "text": [
      "21\n",
      "21\n",
      "21\n"
     ]
    }
   ],
   "source": [
    "def minNumCoins(coinList, change, minCoins={},coinUsed=[]):\n",
    "    for cents in range(0,change+1):\n",
    "        coinCount = cents       ## 0 change needs 0 coin \n",
    "        newCoin=0\n",
    "        for c in [c for c in coinList if c <= change]:\n",
    "            if cents - c in minCoins.keys() and minCoins[cents - c] + 1 < coinCount:\n",
    "                coinCount = minCoins[cents-c]+1\n",
    "                newCoin=c\n",
    "        minCoins[cents]=coinCount\n",
    "        coinUsed.append(newCoin)\n",
    "\n",
    "    return minCoins[change], coinUsed\n",
    "\n",
    "def permutationCoins(coinUsed, change):\n",
    "    while change>0:\n",
    "        print(coinUsed[change])\n",
    "        change -= coinUsed[change]\n",
    "\n",
    "min_num, coin_used = minNumCoins(coinList=[1,5,10,21,25], change=63)\n",
    "\n",
    "permutationCoins(coin_used,63)\n"
   ]
  },
  {
   "cell_type": "code",
   "execution_count": null,
   "metadata": {},
   "outputs": [],
   "source": []
  }
 ],
 "metadata": {
  "interpreter": {
   "hash": "cccc6b24c42b92f0f5397c28f29e0b94ee4e833e31f323dd2f4eab36a0e1136b"
  },
  "kernelspec": {
   "display_name": "Python 3.9.9 ('base': conda)",
   "language": "python",
   "name": "python3"
  },
  "language_info": {
   "codemirror_mode": {
    "name": "ipython",
    "version": 3
   },
   "file_extension": ".py",
   "mimetype": "text/x-python",
   "name": "python",
   "nbconvert_exporter": "python",
   "pygments_lexer": "ipython3",
   "version": "3.9.9"
  },
  "orig_nbformat": 4
 },
 "nbformat": 4,
 "nbformat_minor": 2
}
