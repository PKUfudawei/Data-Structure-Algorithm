{
 "cells": [
  {
   "cell_type": "code",
   "execution_count": 8,
   "metadata": {},
   "outputs": [],
   "source": [
    "def bubbleSort(someList):\n",
    "    for i in range(len(someList)-1, 0 ,-1):\n",
    "        for j in range(i):\n",
    "            exchanged=False\n",
    "            if someList[j]>someList[j+1]:\n",
    "                someList[j], someList[j+1] = someList[j+1], someList[j]\n",
    "                exchanged=True\n",
    "        if not exchanged: return 0"
   ]
  },
  {
   "cell_type": "markdown",
   "metadata": {},
   "source": [
    "### List ia a kind of mutable variable in Python, thus doesn't need 'return'"
   ]
  },
  {
   "cell_type": "code",
   "execution_count": 11,
   "metadata": {},
   "outputs": [
    {
     "data": {
      "text/plain": [
       "[0, 1, 2, 8, 13, 17, 19, 32, 42]"
      ]
     },
     "execution_count": 11,
     "metadata": {},
     "output_type": "execute_result"
    }
   ],
   "source": [
    "testlist=[1,2,32,8,17,19,42,13,0]\n",
    "bubbleSort(testlist)\n",
    "testlist"
   ]
  },
  {
   "cell_type": "code",
   "execution_count": 12,
   "metadata": {},
   "outputs": [
    {
     "data": {
      "text/plain": [
       "0"
      ]
     },
     "execution_count": 12,
     "metadata": {},
     "output_type": "execute_result"
    }
   ],
   "source": [
    "bubbleSort(testlist)"
   ]
  },
  {
   "cell_type": "code",
   "execution_count": 14,
   "metadata": {},
   "outputs": [],
   "source": [
    "def selectionSort(someList):\n",
    "    for i in range(len(someList)-1, 0 ,-1):\n",
    "        max=someList[0]\n",
    "        for j in range(i):\n",
    "            exchanged=False\n",
    "            max_index=j\n",
    "            if someList[j]>max:\n",
    "                max=someList[j]\n",
    "                max_index=j\n",
    "                exchanged=True\n",
    "                \n",
    "        if not exchanged: return 0\n",
    "        someList[i], someList[max_index] = someList[max_index], someList[i]\n",
    "        "
   ]
  },
  {
   "cell_type": "code",
   "execution_count": null,
   "metadata": {},
   "outputs": [],
   "source": []
  }
 ],
 "metadata": {
  "interpreter": {
   "hash": "cccc6b24c42b92f0f5397c28f29e0b94ee4e833e31f323dd2f4eab36a0e1136b"
  },
  "kernelspec": {
   "display_name": "Python 3.9.9 ('base')",
   "language": "python",
   "name": "python3"
  },
  "language_info": {
   "codemirror_mode": {
    "name": "ipython",
    "version": 3
   },
   "file_extension": ".py",
   "mimetype": "text/x-python",
   "name": "python",
   "nbconvert_exporter": "python",
   "pygments_lexer": "ipython3",
   "version": "3.9.9"
  },
  "orig_nbformat": 4
 },
 "nbformat": 4,
 "nbformat_minor": 2
}
