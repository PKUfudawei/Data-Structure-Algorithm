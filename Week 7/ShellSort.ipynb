{
 "cells": [
  {
   "cell_type": "code",
   "execution_count": 7,
   "metadata": {},
   "outputs": [],
   "source": [
    "def gapInsertionSort(someList,start,gap):\n",
    "    for i in range(start+gap,len(someList),gap):\n",
    "        i_value = someList[i]\n",
    "        j=i-gap\n",
    "        while j >= 0 and someList[j]>i_value:\n",
    "            someList[j+gap] = someList[j]\n",
    "            j -= gap\n",
    "        someList[j+gap]=i_value\n",
    "\n",
    "def shellSort(someList):\n",
    "    gapSubList = len(someList)//2\n",
    "    while gapSubList>0:\n",
    "        for start in range(gapSubList):\n",
    "            gapInsertionSort(someList, start, gapSubList)\n",
    "        print(\"After increments of size\", gapSubList, \"The list is\", someList)\n",
    "        gapSubList=gapSubList//2"
   ]
  },
  {
   "cell_type": "code",
   "execution_count": 8,
   "metadata": {},
   "outputs": [
    {
     "name": "stdout",
     "output_type": "stream",
     "text": [
      "After increments of size 4 The list is [0, 2, 32, 8, 1, 19, 42, 13, 17]\n",
      "After increments of size 2 The list is [0, 2, 1, 8, 17, 13, 32, 19, 42]\n",
      "After increments of size 1 The list is [0, 1, 2, 8, 13, 17, 19, 32, 42]\n"
     ]
    }
   ],
   "source": [
    "testlist=[1,2,32,8,17,19,42,13,0]\n",
    "shellSort(testlist)"
   ]
  },
  {
   "cell_type": "code",
   "execution_count": null,
   "metadata": {},
   "outputs": [],
   "source": []
  }
 ],
 "metadata": {
  "interpreter": {
   "hash": "cccc6b24c42b92f0f5397c28f29e0b94ee4e833e31f323dd2f4eab36a0e1136b"
  },
  "kernelspec": {
   "display_name": "Python 3.9.9 ('base')",
   "language": "python",
   "name": "python3"
  },
  "language_info": {
   "codemirror_mode": {
    "name": "ipython",
    "version": 3
   },
   "file_extension": ".py",
   "mimetype": "text/x-python",
   "name": "python",
   "nbconvert_exporter": "python",
   "pygments_lexer": "ipython3",
   "version": "3.9.9"
  },
  "orig_nbformat": 4
 },
 "nbformat": 4,
 "nbformat_minor": 2
}
