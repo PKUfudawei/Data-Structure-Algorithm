{
 "cells": [
  {
   "cell_type": "code",
   "execution_count": 28,
   "metadata": {},
   "outputs": [],
   "source": [
    "def valueSeperate(someList,value):\n",
    "    if len(someList)<=1:\n",
    "        return someList\n",
    "\n",
    "    left_index = 0\n",
    "    right_index = len(someList)-1\n",
    "    while left_index<=right_index and left_index<=len(someList)-1 and right_index>=0:\n",
    "        while someList[left_index] <= value and left_index<=right_index and left_index<len(someList)-1:\n",
    "            left_index += 1\n",
    "        while someList[right_index] > value and left_index<=right_index and right_index>0:\n",
    "            right_index -= 1\n",
    "            \n",
    "        #print(\"before exchange:\",someList[:right_index+1],someList[right_index+1:])\n",
    "        if left_index<=right_index:\n",
    "            someList[left_index], someList[right_index] = someList[right_index], someList[left_index]\n",
    "\n",
    "        #print(\"after exchange:\",someList[:right_index+1],someList[right_index+1:])\n",
    "    \n",
    "    return someList[:right_index+1], someList[right_index+1:]\n",
    "\n",
    "def quickSort(someList):\n",
    "    if len(someList)<=1:\n",
    "        return someList\n",
    "    left, right = valueSeperate(someList, someList[0])\n",
    "    #print(\"QuickSort of sublist is :\", quickSort(left)+quickSort(right))\n",
    "    print(\"2 recursions are called\")\n",
    "    return quickSort(left)+quickSort(right)\n"
   ]
  },
  {
   "cell_type": "markdown",
   "metadata": {},
   "source": [
    "### Recusion is very easy to be exceeded"
   ]
  },
  {
   "cell_type": "code",
   "execution_count": 29,
   "metadata": {},
   "outputs": [
    {
     "name": "stdout",
     "output_type": "stream",
     "text": [
      "2 recursions are called\n",
      "2 recursions are called\n"
     ]
    },
    {
     "ename": "KeyboardInterrupt",
     "evalue": "",
     "output_type": "error",
     "traceback": [
      "\u001b[0;31m---------------------------------------------------------------------------\u001b[0m",
      "\u001b[0;31mKeyboardInterrupt\u001b[0m                         Traceback (most recent call last)",
      "\u001b[0;32m/var/folders/cf/rp73zkws3232x_89lllkwqt00000gm/T/ipykernel_27522/807867868.py\u001b[0m in \u001b[0;36m<module>\u001b[0;34m\u001b[0m\n\u001b[1;32m      1\u001b[0m \u001b[0mtestlist\u001b[0m\u001b[0;34m=\u001b[0m\u001b[0;34m[\u001b[0m\u001b[0;36m1\u001b[0m\u001b[0;34m,\u001b[0m\u001b[0;36m2\u001b[0m\u001b[0;34m,\u001b[0m\u001b[0;36m32\u001b[0m\u001b[0;34m,\u001b[0m\u001b[0;36m8\u001b[0m\u001b[0;34m,\u001b[0m\u001b[0;36m5\u001b[0m\u001b[0;34m]\u001b[0m\u001b[0;34m\u001b[0m\u001b[0;34m\u001b[0m\u001b[0m\n\u001b[0;32m----> 2\u001b[0;31m \u001b[0mquickSort\u001b[0m\u001b[0;34m(\u001b[0m\u001b[0mtestlist\u001b[0m\u001b[0;34m)\u001b[0m\u001b[0;34m\u001b[0m\u001b[0;34m\u001b[0m\u001b[0m\n\u001b[0m",
      "\u001b[0;32m/var/folders/cf/rp73zkws3232x_89lllkwqt00000gm/T/ipykernel_27522/2722204438.py\u001b[0m in \u001b[0;36mquickSort\u001b[0;34m(someList)\u001b[0m\n\u001b[1;32m     25\u001b[0m     \u001b[0;31m#print(\"QuickSort of sublist is :\", quickSort(left)+quickSort(right))\u001b[0m\u001b[0;34m\u001b[0m\u001b[0;34m\u001b[0m\u001b[0m\n\u001b[1;32m     26\u001b[0m     \u001b[0mprint\u001b[0m\u001b[0;34m(\u001b[0m\u001b[0;34m\"2 recursions are called\"\u001b[0m\u001b[0;34m)\u001b[0m\u001b[0;34m\u001b[0m\u001b[0;34m\u001b[0m\u001b[0m\n\u001b[0;32m---> 27\u001b[0;31m     \u001b[0;32mreturn\u001b[0m \u001b[0mquickSort\u001b[0m\u001b[0;34m(\u001b[0m\u001b[0mleft\u001b[0m\u001b[0;34m)\u001b[0m\u001b[0;34m+\u001b[0m\u001b[0mquickSort\u001b[0m\u001b[0;34m(\u001b[0m\u001b[0mright\u001b[0m\u001b[0;34m)\u001b[0m\u001b[0;34m\u001b[0m\u001b[0;34m\u001b[0m\u001b[0m\n\u001b[0m",
      "\u001b[0;32m/var/folders/cf/rp73zkws3232x_89lllkwqt00000gm/T/ipykernel_27522/2722204438.py\u001b[0m in \u001b[0;36mquickSort\u001b[0;34m(someList)\u001b[0m\n\u001b[1;32m     25\u001b[0m     \u001b[0;31m#print(\"QuickSort of sublist is :\", quickSort(left)+quickSort(right))\u001b[0m\u001b[0;34m\u001b[0m\u001b[0;34m\u001b[0m\u001b[0m\n\u001b[1;32m     26\u001b[0m     \u001b[0mprint\u001b[0m\u001b[0;34m(\u001b[0m\u001b[0;34m\"2 recursions are called\"\u001b[0m\u001b[0;34m)\u001b[0m\u001b[0;34m\u001b[0m\u001b[0;34m\u001b[0m\u001b[0m\n\u001b[0;32m---> 27\u001b[0;31m     \u001b[0;32mreturn\u001b[0m \u001b[0mquickSort\u001b[0m\u001b[0;34m(\u001b[0m\u001b[0mleft\u001b[0m\u001b[0;34m)\u001b[0m\u001b[0;34m+\u001b[0m\u001b[0mquickSort\u001b[0m\u001b[0;34m(\u001b[0m\u001b[0mright\u001b[0m\u001b[0;34m)\u001b[0m\u001b[0;34m\u001b[0m\u001b[0;34m\u001b[0m\u001b[0m\n\u001b[0m",
      "\u001b[0;32m/var/folders/cf/rp73zkws3232x_89lllkwqt00000gm/T/ipykernel_27522/2722204438.py\u001b[0m in \u001b[0;36mquickSort\u001b[0;34m(someList)\u001b[0m\n\u001b[1;32m     22\u001b[0m     \u001b[0;32mif\u001b[0m \u001b[0mlen\u001b[0m\u001b[0;34m(\u001b[0m\u001b[0msomeList\u001b[0m\u001b[0;34m)\u001b[0m\u001b[0;34m<=\u001b[0m\u001b[0;36m1\u001b[0m\u001b[0;34m:\u001b[0m\u001b[0;34m\u001b[0m\u001b[0;34m\u001b[0m\u001b[0m\n\u001b[1;32m     23\u001b[0m         \u001b[0;32mreturn\u001b[0m \u001b[0msomeList\u001b[0m\u001b[0;34m\u001b[0m\u001b[0;34m\u001b[0m\u001b[0m\n\u001b[0;32m---> 24\u001b[0;31m     \u001b[0mleft\u001b[0m\u001b[0;34m,\u001b[0m \u001b[0mright\u001b[0m \u001b[0;34m=\u001b[0m \u001b[0mvalueSeperate\u001b[0m\u001b[0;34m(\u001b[0m\u001b[0msomeList\u001b[0m\u001b[0;34m,\u001b[0m \u001b[0msomeList\u001b[0m\u001b[0;34m[\u001b[0m\u001b[0;36m0\u001b[0m\u001b[0;34m]\u001b[0m\u001b[0;34m)\u001b[0m\u001b[0;34m\u001b[0m\u001b[0;34m\u001b[0m\u001b[0m\n\u001b[0m\u001b[1;32m     25\u001b[0m     \u001b[0;31m#print(\"QuickSort of sublist is :\", quickSort(left)+quickSort(right))\u001b[0m\u001b[0;34m\u001b[0m\u001b[0;34m\u001b[0m\u001b[0m\n\u001b[1;32m     26\u001b[0m     \u001b[0mprint\u001b[0m\u001b[0;34m(\u001b[0m\u001b[0;34m\"2 recursions are called\"\u001b[0m\u001b[0;34m)\u001b[0m\u001b[0;34m\u001b[0m\u001b[0;34m\u001b[0m\u001b[0m\n",
      "\u001b[0;32m/var/folders/cf/rp73zkws3232x_89lllkwqt00000gm/T/ipykernel_27522/2722204438.py\u001b[0m in \u001b[0;36mvalueSeperate\u001b[0;34m(someList, value)\u001b[0m\n\u001b[1;32m     13\u001b[0m         \u001b[0;31m#print(\"before exchange:\",someList[:right_index+1],someList[right_index+1:])\u001b[0m\u001b[0;34m\u001b[0m\u001b[0;34m\u001b[0m\u001b[0m\n\u001b[1;32m     14\u001b[0m         \u001b[0;32mif\u001b[0m \u001b[0mleft_index\u001b[0m\u001b[0;34m<=\u001b[0m\u001b[0mright_index\u001b[0m\u001b[0;34m:\u001b[0m\u001b[0;34m\u001b[0m\u001b[0;34m\u001b[0m\u001b[0m\n\u001b[0;32m---> 15\u001b[0;31m             \u001b[0msomeList\u001b[0m\u001b[0;34m[\u001b[0m\u001b[0mleft_index\u001b[0m\u001b[0;34m]\u001b[0m\u001b[0;34m,\u001b[0m \u001b[0msomeList\u001b[0m\u001b[0;34m[\u001b[0m\u001b[0mright_index\u001b[0m\u001b[0;34m]\u001b[0m \u001b[0;34m=\u001b[0m \u001b[0msomeList\u001b[0m\u001b[0;34m[\u001b[0m\u001b[0mright_index\u001b[0m\u001b[0;34m]\u001b[0m\u001b[0;34m,\u001b[0m \u001b[0msomeList\u001b[0m\u001b[0;34m[\u001b[0m\u001b[0mleft_index\u001b[0m\u001b[0;34m]\u001b[0m\u001b[0;34m\u001b[0m\u001b[0;34m\u001b[0m\u001b[0m\n\u001b[0m\u001b[1;32m     16\u001b[0m \u001b[0;34m\u001b[0m\u001b[0m\n\u001b[1;32m     17\u001b[0m         \u001b[0;31m#print(\"after exchange:\",someList[:right_index+1],someList[right_index+1:])\u001b[0m\u001b[0;34m\u001b[0m\u001b[0;34m\u001b[0m\u001b[0m\n",
      "\u001b[0;31mKeyboardInterrupt\u001b[0m: "
     ]
    }
   ],
   "source": [
    "testlist=[1,2,32,8,17,19,42,13,0]\n",
    "quickSort(testlist)"
   ]
  },
  {
   "cell_type": "code",
   "execution_count": 26,
   "metadata": {},
   "outputs": [],
   "source": [
    "def quickSort(someList):\n",
    "    recursiveQuickSort(someList, 0, len(someList)-1)\n",
    "\n",
    "def recursiveQuickSort(someList, first, last):\n",
    "    if first<last:\n",
    "        splitpoint=partition(someList, first, last)\n",
    "        print(\"2 recursions are called\")\n",
    "        recursiveQuickSort(someList, first, splitpoint-1)\n",
    "        recursiveQuickSort(someList, splitpoint+1, last)\n",
    "        \n",
    "\n",
    "def partition(someList, first, last):\n",
    "    value=someList[first]\n",
    "    left_index=first+1\n",
    "    right_index=last\n",
    "    while left_index<=right_index:\n",
    "        while left_index<=right_index and someList[left_index]<=value:\n",
    "            left_index+=1\n",
    "        while left_index<=right_index and someList[right_index]>=value:\n",
    "            right_index-=1\n",
    "        someList[left_index], someList[right_index]=someList[right_index], someList[left_index]\n",
    "\n",
    "    someList[first], someList[right_index]=someList[right_index], someList[first]\n",
    "    \n",
    "    return right_index\n"
   ]
  },
  {
   "cell_type": "code",
   "execution_count": 27,
   "metadata": {},
   "outputs": [
    {
     "name": "stdout",
     "output_type": "stream",
     "text": [
      "2 recursions are called\n",
      "2 recursions are called\n",
      "2 recursions are called\n",
      "2 recursions are called\n",
      "2 recursions are called\n",
      "2 recursions are called\n",
      "2 recursions are called\n"
     ]
    },
    {
     "data": {
      "text/plain": [
       "[17, 11, 2, 0, 19, 42, 13, 32, 8]"
      ]
     },
     "execution_count": 27,
     "metadata": {},
     "output_type": "execute_result"
    }
   ],
   "source": [
    "testlist=[1,2,32,8,17,19,42,13,0]\n",
    "quickSort(testlist)\n",
    "#splitList(testlist,0,len(testlist)-1)\n",
    "\n",
    "testlist"
   ]
  },
  {
   "cell_type": "code",
   "execution_count": null,
   "metadata": {},
   "outputs": [],
   "source": []
  }
 ],
 "metadata": {
  "interpreter": {
   "hash": "cccc6b24c42b92f0f5397c28f29e0b94ee4e833e31f323dd2f4eab36a0e1136b"
  },
  "kernelspec": {
   "display_name": "Python 3.9.9 ('base')",
   "language": "python",
   "name": "python3"
  },
  "language_info": {
   "codemirror_mode": {
    "name": "ipython",
    "version": 3
   },
   "file_extension": ".py",
   "mimetype": "text/x-python",
   "name": "python",
   "nbconvert_exporter": "python",
   "pygments_lexer": "ipython3",
   "version": "3.9.9"
  },
  "orig_nbformat": 4
 },
 "nbformat": 4,
 "nbformat_minor": 2
}
