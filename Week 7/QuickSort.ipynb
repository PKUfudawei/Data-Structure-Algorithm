{
 "cells": [
  {
   "cell_type": "code",
   "execution_count": 26,
   "metadata": {},
   "outputs": [],
   "source": [
    "def valueSeperate(someList,value):\n",
    "    left_mark = 0\n",
    "    right_mark = len(someList)-1\n",
    "    while left_mark<right_mark:\n",
    "        while left_mark<len(someList)-1 and someList[left_mark] <= value:\n",
    "            left_mark += 1\n",
    "        while right_mark>0 and someList[right_mark] > value:\n",
    "            right_mark -= 1\n",
    "        \n",
    "        someList[left_mark], someList[right_mark] = someList[right_mark], someList[left_mark]\n",
    "\n",
    "    someList[right_mark], someList[0]=someList[0], someList[right_mark]\n",
    "\n",
    "    return someList[:right_mark], someList[right_mark], someList[right_mark+1:]\n",
    "\n",
    "def quickSort(someList):\n",
    "    if len(someList)<=1:\n",
    "        return someList\n",
    "    left, middle, right = valueSeperate(someList, someList[0])\n",
    "    quickSort(left)\n",
    "    quickSort(right)\n",
    "    return left+[middle]+right\n"
   ]
  },
  {
   "cell_type": "code",
   "execution_count": 28,
   "metadata": {},
   "outputs": [
    {
     "data": {
      "text/plain": [
       "[32, 1, 8, 0, 17, 19, 42, 13, 2]"
      ]
     },
     "execution_count": 28,
     "metadata": {},
     "output_type": "execute_result"
    }
   ],
   "source": [
    "testlist=[1,2,32,8,17,19,42,13,0]\n",
    "a=quickSort(testlist)\n",
    "a"
   ]
  },
  {
   "cell_type": "code",
   "execution_count": null,
   "metadata": {},
   "outputs": [],
   "source": []
  }
 ],
 "metadata": {
  "interpreter": {
   "hash": "cccc6b24c42b92f0f5397c28f29e0b94ee4e833e31f323dd2f4eab36a0e1136b"
  },
  "kernelspec": {
   "display_name": "Python 3.9.9 ('base')",
   "language": "python",
   "name": "python3"
  },
  "language_info": {
   "codemirror_mode": {
    "name": "ipython",
    "version": 3
   },
   "file_extension": ".py",
   "mimetype": "text/x-python",
   "name": "python",
   "nbconvert_exporter": "python",
   "pygments_lexer": "ipython3",
   "version": "3.9.9"
  },
  "orig_nbformat": 4
 },
 "nbformat": 4,
 "nbformat_minor": 2
}
